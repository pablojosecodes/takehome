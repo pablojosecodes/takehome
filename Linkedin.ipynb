{
 "cells": [
  {
   "cell_type": "code",
   "execution_count": 35,
   "id": "412022e2-f7c0-46a2-9e27-dd603c14ace4",
   "metadata": {
    "tags": []
   },
   "outputs": [],
   "source": [
    "from bs4 import BeautifulSoup\n",
    "import requests\n",
    "from selenium import webdriver\n",
    "from selenium.webdriver.common.by import By\n",
    "import time\n",
    "page = requests.get('https://www.linkedin.com/in/alanaklopstein')\n",
    "\n",
    "# Create a BeautifulSoup object\n",
    "soup = BeautifulSoup(page.text, 'html.parser')"
   ]
  },
  {
   "cell_type": "code",
   "execution_count": 65,
   "id": "f3dc8091-bfa6-4ee4-9c78-b616304ff4bb",
   "metadata": {
    "tags": []
   },
   "outputs": [],
   "source": [
    "driver = webdriver.Chrome()\n",
    "driver.get(\"https://www.linkedin.com/in/alanaklopstein\")\n",
    "time.sleep(4)\n"
   ]
  },
  {
   "cell_type": "code",
   "execution_count": 242,
   "id": "8b9f2072-0fb1-427d-a969-5d3b287b2be8",
   "metadata": {
    "tags": []
   },
   "outputs": [],
   "source": [
    "def signin(driver):\n",
    "    d = driver.find_elements(By.CLASS_NAME, \"sign-in-modal__outlet-btn\")\n",
    "    d[0].click()\n",
    "    email = driver.find_elements(By.ID, \"public_profile_contextual-sign-in_sign-in-modal_session_key\")\n",
    "    email[0].send_keys(\"pablosfsanchez@gmail.com\")\n",
    "    time.sleep(2)\n",
    "    password = driver.find_elements(By.ID, \"public_profile_contextual-sign-in_sign-in-modal_session_password\")\n",
    "    p = password[0]\n",
    "    p.send_keys(\"Pajpakpaj1\")\n",
    "    signin = driver.find_elements(By.CLASS_NAME, \"sign-in-form__submit-btn--full-width\")\n",
    "    signin[0].click()\n",
    "\n",
    "def get_title(link):\n",
    "    driver = webdriver.Chrome()\n",
    "    driver.get(link)\n",
    "    time.sleep(4)\n",
    "    \n",
    "    \n",
    "    s = driver.find_elements(By.CLASS_NAME, \"profile-section-card__title\")\n",
    "    if (len(s) != 3):\n",
    "        signin(driver)\n",
    "    else:\n",
    "        s[-2].click()\n",
    "        \n",
    "    titles = [x.text for x in driver.find_elements(By.CLASS_NAME, \"mr1\")]\n",
    "    driver.close()\n",
    "    return titles\n",
    "\n",
    "def get_TitleT(link):\n",
    "    driver = webdriver.Chrome()\n",
    "    driver.get(\"https://www.linkedin.com/in/tim-ambrose-02088221/\")\n",
    "    time.sleep(4)\n",
    "    \n",
    "\n",
    "    # public_profile_contextual-sign-in_sign-in-modal_session_key\n",
    "    "
   ]
  },
  {
   "cell_type": "code",
   "execution_count": 248,
   "id": "5f6c86dc-4bfa-489e-8248-584d44a12b11",
   "metadata": {
    "tags": []
   },
   "outputs": [],
   "source": [
    "titles = []\n",
    "for x in range(int(len(linkedinURLS)/2)):\n",
    "    url = linkedinURLS[x * 2]\n",
    "    try:\n",
    "        titles.append(get_title(url))\n",
    "    except:\n",
    "        pass"
   ]
  },
  {
   "cell_type": "code",
   "execution_count": null,
   "id": "1aae988e-add9-4a76-bf7d-6f013c8f8aab",
   "metadata": {
    "tags": []
   },
   "outputs": [],
   "source": []
  },
  {
   "cell_type": "code",
   "execution_count": 259,
   "id": "de46ebe1-87c8-4bbb-b8cd-4850c9b69e89",
   "metadata": {
    "tags": []
   },
   "outputs": [
    {
     "data": {
      "text/plain": [
       "{'spreadsheetId': '1TK-o_4Z_bzFFxklrp9hPDgUbva8w_teO2uYYEOYuQfg',\n",
       " 'updatedRange': 'Sheet1!A1'}"
      ]
     },
     "execution_count": 259,
     "metadata": {},
     "output_type": "execute_result"
    }
   ],
   "source": [
    "def transpose(l1, l2):\n",
    " \n",
    "    # iterate over list l1 to the length of an item\n",
    "    for i in range(len(l1[0])):\n",
    "        # print(i)\n",
    "        row =[]\n",
    "        for item in l1:\n",
    "            # appending to new list with values and index positions\n",
    "            # i contains index position and item contains values\n",
    "            row.append(item[i])\n",
    "        l2.append(row)\n",
    "    return l2\n",
    "\n",
    "import gspread\n",
    "\n",
    "gc = gspread.service_account()\n",
    "\n",
    "sh = gc.open(\"Untitled spreadsheet\").sheet1\n",
    "\n",
    "newTitles = []\n",
    "transpose(titles, newTitles)\n",
    "sh.update('A1', titles)\n"
   ]
  },
  {
   "cell_type": "code",
   "execution_count": 263,
   "id": "854cbcca-27aa-40af-b062-2f432296609e",
   "metadata": {
    "tags": []
   },
   "outputs": [
    {
     "name": "stdout",
     "output_type": "stream",
     "text": [
      "25\n"
     ]
    }
   ],
   "source": [
    "print(len(titles[1]))"
   ]
  },
  {
   "cell_type": "code",
   "execution_count": 223,
   "id": "5c322d1b-7c5a-4caa-9bf0-00648bfe1996",
   "metadata": {
    "tags": []
   },
   "outputs": [
    {
     "name": "stdout",
     "output_type": "stream",
     "text": [
      "https://www.linkedin.com/in/johnnyceja?miniProfileUrn=urn%3Ali%3Afs_miniProfile%3AACoAABwr6uQB1RLWwBzPMj1k-SglSqYAH6orv-4\n"
     ]
    }
   ],
   "source": [
    "print(linkedinURLS[5])"
   ]
  },
  {
   "cell_type": "code",
   "execution_count": 215,
   "id": "1b1bfe55-dd99-4611-bf9e-c31816b5b698",
   "metadata": {
    "tags": []
   },
   "outputs": [],
   "source": []
  },
  {
   "cell_type": "code",
   "execution_count": 216,
   "id": "519ffffa-5916-4699-a249-673448bc6ce4",
   "metadata": {
    "tags": []
   },
   "outputs": [
    {
     "name": "stdout",
     "output_type": "stream",
     "text": [
      "9\n"
     ]
    }
   ],
   "source": [
    "print(len(titles))\n"
   ]
  },
  {
   "cell_type": "code",
   "execution_count": 106,
   "id": "0651d3fb-e95a-487f-8d7a-af0585535f26",
   "metadata": {
    "tags": []
   },
   "outputs": [],
   "source": [
    "driver = webdriver.Chrome()\n",
    "driver.get(\"https://www.linkedin.com/in/tim-ambrose-02088221/\")\n"
   ]
  },
  {
   "cell_type": "code",
   "execution_count": 107,
   "id": "8c3ad5d1-306c-4784-95f2-19b7401428fd",
   "metadata": {
    "tags": []
   },
   "outputs": [],
   "source": [
    "d = driver.find_elements(By.CLASS_NAME, \"sign-in-modal__outlet-btn\")"
   ]
  },
  {
   "cell_type": "code",
   "execution_count": 109,
   "id": "c5ddf1a0-d8b1-4b4c-9724-69c15efc1251",
   "metadata": {
    "tags": []
   },
   "outputs": [],
   "source": [
    "d[0].click()"
   ]
  },
  {
   "cell_type": "code",
   "execution_count": 115,
   "id": "414177ad-c8b7-4c35-8172-b43d80933a15",
   "metadata": {
    "tags": []
   },
   "outputs": [],
   "source": [
    "email = driver.find_elements(By.ID, \"public_profile_contextual-sign-in_sign-in-modal_session_key\")"
   ]
  },
  {
   "cell_type": "code",
   "execution_count": 117,
   "id": "9ca3e278-a895-47b8-ac17-35fa5af2af85",
   "metadata": {
    "tags": []
   },
   "outputs": [],
   "source": [
    "password = driver.find_elements(By.ID, \"public_profile_contextual-sign-in_sign-in-modal_session_password\")"
   ]
  },
  {
   "cell_type": "code",
   "execution_count": 201,
   "id": "383bad62-0c06-4fdb-bced-06c02ffdfc00",
   "metadata": {
    "tags": []
   },
   "outputs": [
    {
     "name": "stdout",
     "output_type": "stream",
     "text": [
      "['https://www.linkedin.com/in/joshaubin?miniProfileUrn=urn%3Ali%3Afs_miniProfile%3AACoAAC-8lLgBrr4sDk6JaJRryv7LyeRjANwMY4M', 'https://www.linkedin.com/in/joshaubin?miniProfileUrn=urn%3Ali%3Afs_miniProfile%3AACoAAC-8lLgBrr4sDk6JaJRryv7LyeRjANwMY4M', 'https://www.linkedin.com/in/ACoAACV7vhwBGYlMfBnVmi0PTQy6RQrnB2EkQyI?miniProfileUrn=urn%3Ali%3Afs_miniProfile%3AACoAACV7vhwBGYlMfBnVmi0PTQy6RQrnB2EkQyI', 'https://www.linkedin.com/in/ACoAAC8WVhYBB3K2Aw2c2qPyq3PsLC_VXtfZLAY?miniProfileUrn=urn%3Ali%3Afs_miniProfile%3AACoAAC8WVhYBB3K2Aw2c2qPyq3PsLC_VXtfZLAY', 'https://www.linkedin.com/in/johnnyceja?miniProfileUrn=urn%3Ali%3Afs_miniProfile%3AACoAABwr6uQB1RLWwBzPMj1k-SglSqYAH6orv-4', 'https://www.linkedin.com/in/johnnyceja?miniProfileUrn=urn%3Ali%3Afs_miniProfile%3AACoAABwr6uQB1RLWwBzPMj1k-SglSqYAH6orv-4', 'https://www.linkedin.com/in/tim-ambrose-02088221?miniProfileUrn=urn%3Ali%3Afs_miniProfile%3AACoAAASUBZgBHrMK8M5pJ4_nn8dma9Dxx0QKltg', 'https://www.linkedin.com/in/tim-ambrose-02088221?miniProfileUrn=urn%3Ali%3Afs_miniProfile%3AACoAAASUBZgBHrMK8M5pJ4_nn8dma9Dxx0QKltg', 'https://www.linkedin.com/in/alanaklopstein?miniProfileUrn=urn%3Ali%3Afs_miniProfile%3AACoAACgIN7gBLjPEQv3aIBKrKpTEhlAiLp_9zi8', 'https://www.linkedin.com/in/alanaklopstein?miniProfileUrn=urn%3Ali%3Afs_miniProfile%3AACoAACgIN7gBLjPEQv3aIBKrKpTEhlAiLp_9zi8', 'https://www.linkedin.com/in/ACoAAC-8lLgBrr4sDk6JaJRryv7LyeRjANwMY4M?miniProfileUrn=urn%3Ali%3Afs_miniProfile%3AACoAAC-8lLgBrr4sDk6JaJRryv7LyeRjANwMY4M', 'https://www.linkedin.com/in/alondra-cazares-586bb5203?miniProfileUrn=urn%3Ali%3Afs_miniProfile%3AACoAADP4E_YBpa19WrmbCPAZUm7oRv_jXBcbVjY', 'https://www.linkedin.com/in/alondra-cazares-586bb5203?miniProfileUrn=urn%3Ali%3Afs_miniProfile%3AACoAADP4E_YBpa19WrmbCPAZUm7oRv_jXBcbVjY', 'https://www.linkedin.com/in/jeremy-rogers-693820203?miniProfileUrn=urn%3Ali%3Afs_miniProfile%3AACoAADPptc8BQbxxnnPi6kXsewzEA2ZifNWw7hQ', 'https://www.linkedin.com/in/jeremy-rogers-693820203?miniProfileUrn=urn%3Ali%3Afs_miniProfile%3AACoAADPptc8BQbxxnnPi6kXsewzEA2ZifNWw7hQ', 'https://www.linkedin.com/in/sonia-velasco?miniProfileUrn=urn%3Ali%3Afs_miniProfile%3AACoAAB6atg8BB_l0nccHd3QKE2HFhESyFyh_fWU', 'https://www.linkedin.com/in/sonia-velasco?miniProfileUrn=urn%3Ali%3Afs_miniProfile%3AACoAAB6atg8BB_l0nccHd3QKE2HFhESyFyh_fWU', 'https://www.linkedin.com/in/michael-haslow?miniProfileUrn=urn%3Ali%3Afs_miniProfile%3AACoAAA7BXwgBu8fUWygcKS5twgexMStazRnoIVA', 'https://www.linkedin.com/in/michael-haslow?miniProfileUrn=urn%3Ali%3Afs_miniProfile%3AACoAAA7BXwgBu8fUWygcKS5twgexMStazRnoIVA', 'https://www.linkedin.com/in/irabiel?miniProfileUrn=urn%3Ali%3Afs_miniProfile%3AACoAADDFVw8B8_RAwQPDUU_9sEDCQqQDPUNvFRY', 'https://www.linkedin.com/in/irabiel?miniProfileUrn=urn%3Ali%3Afs_miniProfile%3AACoAADDFVw8B8_RAwQPDUU_9sEDCQqQDPUNvFRY', 'https://www.linkedin.com/in/bryson-frank-5819b2221?miniProfileUrn=urn%3Ali%3Afs_miniProfile%3AACoAADfax7EBxc_BmH-wUe--IVnfY_xqnhSxigs', 'https://www.linkedin.com/in/bryson-frank-5819b2221?miniProfileUrn=urn%3Ali%3Afs_miniProfile%3AACoAADfax7EBxc_BmH-wUe--IVnfY_xqnhSxigs', 'https://www.linkedin.com/in/hannie-vo?miniProfileUrn=urn%3Ali%3Afs_miniProfile%3AACoAACz1vbUBWYRlul8gAK0JO0kwckGEHsD6MKY', 'https://www.linkedin.com/in/hannie-vo?miniProfileUrn=urn%3Ali%3Afs_miniProfile%3AACoAACz1vbUBWYRlul8gAK0JO0kwckGEHsD6MKY', 'https://www.linkedin.com/in/justin-domingo-2028?miniProfileUrn=urn%3Ali%3Afs_miniProfile%3AACoAADcT9WcBDZbFdrxdABE8ON4DEZYXc_9bhPE', 'https://www.linkedin.com/in/justin-domingo-2028?miniProfileUrn=urn%3Ali%3Afs_miniProfile%3AACoAADcT9WcBDZbFdrxdABE8ON4DEZYXc_9bhPE', 'https://www.linkedin.com/in/ACoAADcT9WcBDZbFdrxdABE8ON4DEZYXc_9bhPE', 'https://www.linkedin.com/in/rahperry?miniProfileUrn=urn%3Ali%3Afs_miniProfile%3AACoAADDSgf8BWyGeqcYbkqrg8ZRF7qx71OfIqr8', 'https://www.linkedin.com/in/rahperry?miniProfileUrn=urn%3Ali%3Afs_miniProfile%3AACoAADDSgf8BWyGeqcYbkqrg8ZRF7qx71OfIqr8', 'https://www.linkedin.com/in/ACoAADDSgf8BWyGeqcYbkqrg8ZRF7qx71OfIqr8', 'https://www.linkedin.com/in/adrianjmedina?miniProfileUrn=urn%3Ali%3Afs_miniProfile%3AACoAADMWgVUBaRwl6Tr-puRcGeImnlWaOCEww1M', 'https://www.linkedin.com/in/adrianjmedina?miniProfileUrn=urn%3Ali%3Afs_miniProfile%3AACoAADMWgVUBaRwl6Tr-puRcGeImnlWaOCEww1M', 'https://www.linkedin.com/in/seananthonymccollum?miniProfileUrn=urn%3Ali%3Afs_miniProfile%3AACoAAC1-jv8BxJPKc43BWB656l_QHwye8AGf0b8', 'https://www.linkedin.com/in/seananthonymccollum?miniProfileUrn=urn%3Ali%3Afs_miniProfile%3AACoAAC1-jv8BxJPKc43BWB656l_QHwye8AGf0b8', 'https://www.linkedin.com/in/henry-tran-543b30218?miniProfileUrn=urn%3Ali%3Afs_miniProfile%3AACoAADb7-gMBJ5xL8uTfzW558oqR2jcipuwpxpI', 'https://www.linkedin.com/in/henry-tran-543b30218?miniProfileUrn=urn%3Ali%3Afs_miniProfile%3AACoAADb7-gMBJ5xL8uTfzW558oqR2jcipuwpxpI', 'https://www.linkedin.com/in/nicholaus-goetjen-b85670200?miniProfileUrn=urn%3Ali%3Afs_miniProfile%3AACoAADNbBZUBXDfw45ednqcyPMdnCWg8DystrBk', 'https://www.linkedin.com/in/nicholaus-goetjen-b85670200?miniProfileUrn=urn%3Ali%3Afs_miniProfile%3AACoAADNbBZUBXDfw45ednqcyPMdnCWg8DystrBk', 'https://www.linkedin.com/in/sumit-solanki?miniProfileUrn=urn%3Ali%3Afs_miniProfile%3AACoAACQY2yoBW0ngrKTPZOgY0OlJBtT_oWK3uQc', 'https://www.linkedin.com/in/sumit-solanki?miniProfileUrn=urn%3Ali%3Afs_miniProfile%3AACoAACQY2yoBW0ngrKTPZOgY0OlJBtT_oWK3uQc', 'https://www.linkedin.com/in/omar-gamboa-93a339141?miniProfileUrn=urn%3Ali%3Afs_miniProfile%3AACoAACJmKP4B5JQH1UhCMRYeZ-cYlmffhbmRAfU', 'https://www.linkedin.com/in/omar-gamboa-93a339141?miniProfileUrn=urn%3Ali%3Afs_miniProfile%3AACoAACJmKP4B5JQH1UhCMRYeZ-cYlmffhbmRAfU', 'https://www.linkedin.com/in/mariela-cecelski-1876a21a3?miniProfileUrn=urn%3Ali%3Afs_miniProfile%3AACoAAC-fMHcB6C9FdGbIIuxjioYGZImWn4kljVc', 'https://www.linkedin.com/in/mariela-cecelski-1876a21a3?miniProfileUrn=urn%3Ali%3Afs_miniProfile%3AACoAAC-fMHcB6C9FdGbIIuxjioYGZImWn4kljVc', 'https://www.linkedin.com/in/trever-mckee-54585a58?miniProfileUrn=urn%3Ali%3Afs_miniProfile%3AACoAAAw6e4UBVH4Sv-Jxymb1wbEkC5pWN71F7Z8', 'https://www.linkedin.com/in/trever-mckee-54585a58?miniProfileUrn=urn%3Ali%3Afs_miniProfile%3AACoAAAw6e4UBVH4Sv-Jxymb1wbEkC5pWN71F7Z8', 'https://www.linkedin.com/in/mpassaglia?miniProfileUrn=urn%3Ali%3Afs_miniProfile%3AACoAAApWqiUBreM4bNwBFQhV-QMir35BWOXIojw', 'https://www.linkedin.com/in/mpassaglia?miniProfileUrn=urn%3Ali%3Afs_miniProfile%3AACoAAApWqiUBreM4bNwBFQhV-QMir35BWOXIojw', 'https://www.linkedin.com/in/ACoAAC-8lLgBrr4sDk6JaJRryv7LyeRjANwMY4M?miniProfileUrn=urn%3Ali%3Afs_miniProfile%3AACoAAC-8lLgBrr4sDk6JaJRryv7LyeRjANwMY4M', 'https://www.linkedin.com/in/janellorozco?miniProfileUrn=urn%3Ali%3Afs_miniProfile%3AACoAAB010CUBXBxmY_yJtZI_QgMhZHr2OappaIU', 'https://www.linkedin.com/in/janellorozco?miniProfileUrn=urn%3Ali%3Afs_miniProfile%3AACoAAB010CUBXBxmY_yJtZI_QgMhZHr2OappaIU', 'https://www.linkedin.com/in/joey-sharette?miniProfileUrn=urn%3Ali%3Afs_miniProfile%3AACoAAA25t_MBvF-m_lsU3J7uo2jA6Bz8GWAWsfA', 'https://www.linkedin.com/in/joey-sharette?miniProfileUrn=urn%3Ali%3Afs_miniProfile%3AACoAAA25t_MBvF-m_lsU3J7uo2jA6Bz8GWAWsfA', 'https://www.linkedin.com/in/jeremy-p-duke?miniProfileUrn=urn%3Ali%3Afs_miniProfile%3AACoAABLBNB4BY0PW-MgAILluw23YZdppJfCbP54', 'https://www.linkedin.com/in/jeremy-p-duke?miniProfileUrn=urn%3Ali%3Afs_miniProfile%3AACoAABLBNB4BY0PW-MgAILluw23YZdppJfCbP54', 'https://www.linkedin.com/in/karissa-nunez-5459381a3?miniProfileUrn=urn%3Ali%3Afs_miniProfile%3AACoAAC-oiAUBI28gs2aLYseOmBmNLBw0nh7XjhE', 'https://www.linkedin.com/in/karissa-nunez-5459381a3?miniProfileUrn=urn%3Ali%3Afs_miniProfile%3AACoAAC-oiAUBI28gs2aLYseOmBmNLBw0nh7XjhE', 'https://www.linkedin.com/in/claytonfowler?miniProfileUrn=urn%3Ali%3Afs_miniProfile%3AACoAABrCKZ4BRcK_M2Q247CYcqqT-m1qtL4PJ_0', 'https://www.linkedin.com/in/claytonfowler?miniProfileUrn=urn%3Ali%3Afs_miniProfile%3AACoAABrCKZ4BRcK_M2Q247CYcqqT-m1qtL4PJ_0', 'https://www.linkedin.com/in/joseph-ramirez-30598591?miniProfileUrn=urn%3Ali%3Afs_miniProfile%3AACoAABOLJ3UBI7SsLUl509adQDQxSgKtEW_lRVA', 'https://www.linkedin.com/in/joseph-ramirez-30598591?miniProfileUrn=urn%3Ali%3Afs_miniProfile%3AACoAABOLJ3UBI7SsLUl509adQDQxSgKtEW_lRVA', 'https://www.linkedin.com/in/eric-de-la-rosa-331952b9?miniProfileUrn=urn%3Ali%3Afs_miniProfile%3AACoAABk8IFUBgqL4ki7CUOVthHjqIV5Fd5ha6hk', 'https://www.linkedin.com/in/eric-de-la-rosa-331952b9?miniProfileUrn=urn%3Ali%3Afs_miniProfile%3AACoAABk8IFUBgqL4ki7CUOVthHjqIV5Fd5ha6hk', 'https://www.linkedin.com/in/nicholascullor?miniProfileUrn=urn%3Ali%3Afs_miniProfile%3AACoAABzLitEBKeoHCdHMreegK3mv5BnwGdkjhr8', 'https://www.linkedin.com/in/nicholascullor?miniProfileUrn=urn%3Ali%3Afs_miniProfile%3AACoAABzLitEBKeoHCdHMreegK3mv5BnwGdkjhr8', 'https://www.linkedin.com/in/saul-frias-50aa2b1a5?miniProfileUrn=urn%3Ali%3Afs_miniProfile%3AACoAADAHNxoBuyKgczNsl3uGj4DkksLYTeMkAfY', 'https://www.linkedin.com/in/saul-frias-50aa2b1a5?miniProfileUrn=urn%3Ali%3Afs_miniProfile%3AACoAADAHNxoBuyKgczNsl3uGj4DkksLYTeMkAfY', 'https://www.linkedin.com/in/erivera382?miniProfileUrn=urn%3Ali%3Afs_miniProfile%3AACoAACd-IVQB_IDHrP4tS49aaG8fVl96kE-NjyY', 'https://www.linkedin.com/in/erivera382?miniProfileUrn=urn%3Ali%3Afs_miniProfile%3AACoAACd-IVQB_IDHrP4tS49aaG8fVl96kE-NjyY', 'https://www.linkedin.com/in/rosybergman?miniProfileUrn=urn%3Ali%3Afs_miniProfile%3AACoAADrkpRsB4-K-3DDn1bOdJe6wJ4-5ndlqgCQ', 'https://www.linkedin.com/in/rosybergman?miniProfileUrn=urn%3Ali%3Afs_miniProfile%3AACoAADrkpRsB4-K-3DDn1bOdJe6wJ4-5ndlqgCQ', 'https://www.linkedin.com/in/marco-quintana-1a3b23222?miniProfileUrn=urn%3Ali%3Afs_miniProfile%3AACoAADgNG0sBV0cnkPT_fPx3G-qnDlJ2ZFITadE', 'https://www.linkedin.com/in/marco-quintana-1a3b23222?miniProfileUrn=urn%3Ali%3Afs_miniProfile%3AACoAADgNG0sBV0cnkPT_fPx3G-qnDlJ2ZFITadE', 'https://www.linkedin.com/in/nick-bakich-090072bb?miniProfileUrn=urn%3Ali%3Afs_miniProfile%3AACoAABl1tOwBElhWhZFnimTqC4AUHP6A5faOLoA', 'https://www.linkedin.com/in/nick-bakich-090072bb?miniProfileUrn=urn%3Ali%3Afs_miniProfile%3AACoAABl1tOwBElhWhZFnimTqC4AUHP6A5faOLoA', 'https://www.linkedin.com/in/frankie-gonzalez-b0542a103?miniProfileUrn=urn%3Ali%3Afs_miniProfile%3AACoAABo5y7UBtgCeRDAEE6FyfUj0GHF22vN6jGI', 'https://www.linkedin.com/in/frankie-gonzalez-b0542a103?miniProfileUrn=urn%3Ali%3Afs_miniProfile%3AACoAABo5y7UBtgCeRDAEE6FyfUj0GHF22vN6jGI', 'https://www.linkedin.com/in/carlos-davila-8681571bb?miniProfileUrn=urn%3Ali%3Afs_miniProfile%3AACoAADMaBRABHTjfOKDMF1alLPpdITueZe6tWlw', 'https://www.linkedin.com/in/carlos-davila-8681571bb?miniProfileUrn=urn%3Ali%3Afs_miniProfile%3AACoAADMaBRABHTjfOKDMF1alLPpdITueZe6tWlw', 'https://www.linkedin.com/in/colby-langen-829852a0?miniProfileUrn=urn%3Ali%3Afs_miniProfile%3AACoAABV7hyEBZ2EzTZaHQ95LZ2YFONf8xylKSiw', 'https://www.linkedin.com/in/colby-langen-829852a0?miniProfileUrn=urn%3Ali%3Afs_miniProfile%3AACoAABV7hyEBZ2EzTZaHQ95LZ2YFONf8xylKSiw', 'https://www.linkedin.com/in/michael-poelke-96355a124?miniProfileUrn=urn%3Ali%3Afs_miniProfile%3AACoAAB6xmdsBo8hZT_X-rSTTr-UOKkDQCtZG-Hc', 'https://www.linkedin.com/in/michael-poelke-96355a124?miniProfileUrn=urn%3Ali%3Afs_miniProfile%3AACoAAB6xmdsBo8hZT_X-rSTTr-UOKkDQCtZG-Hc', 'https://www.linkedin.com/in/jeremiah-johnson-61590b224?miniProfileUrn=urn%3Ali%3Afs_miniProfile%3AACoAADhgObEBP2z576hkmM8MC6hHhwuH1G-ANEs', 'https://www.linkedin.com/in/jeremiah-johnson-61590b224?miniProfileUrn=urn%3Ali%3Afs_miniProfile%3AACoAADhgObEBP2z576hkmM8MC6hHhwuH1G-ANEs', 'https://www.linkedin.com/in/dominic-fanucchi-020071214?miniProfileUrn=urn%3Ali%3Afs_miniProfile%3AACoAADYdPdgBKWxsjhX2Y2hncOPmjwbWQp_TWWE', 'https://www.linkedin.com/in/dominic-fanucchi-020071214?miniProfileUrn=urn%3Ali%3Afs_miniProfile%3AACoAADYdPdgBKWxsjhX2Y2hncOPmjwbWQp_TWWE', 'https://www.linkedin.com/in/ann-masengale-66b7a1b1?miniProfileUrn=urn%3Ali%3Afs_miniProfile%3AACoAABfJmHMBx8oziwhSzekKumbWZUZs4LhI21M', 'https://www.linkedin.com/in/ann-masengale-66b7a1b1?miniProfileUrn=urn%3Ali%3Afs_miniProfile%3AACoAABfJmHMBx8oziwhSzekKumbWZUZs4LhI21M', 'https://www.linkedin.com/in/carlos-v-1b6265112?miniProfileUrn=urn%3Ali%3Afs_miniProfile%3AACoAABwogNoBgwBgArgCodo-RH2uD_5cNLSw7Lw', 'https://www.linkedin.com/in/carlos-v-1b6265112?miniProfileUrn=urn%3Ali%3Afs_miniProfile%3AACoAABwogNoBgwBgArgCodo-RH2uD_5cNLSw7Lw', 'https://www.linkedin.com/in/damaris-camarena?miniProfileUrn=urn%3Ali%3Afs_miniProfile%3AACoAACIQeMIBG0LSE-34QX7nz2PcaxG4hDh0KTc', 'https://www.linkedin.com/in/damaris-camarena?miniProfileUrn=urn%3Ali%3Afs_miniProfile%3AACoAACIQeMIBG0LSE-34QX7nz2PcaxG4hDh0KTc', 'https://www.linkedin.com/in/pete-trevino-26400496?miniProfileUrn=urn%3Ali%3Afs_miniProfile%3AACoAABRKPGwBmZrFdhL0PI0Pn1xI8nHxRhpdSb8', 'https://www.linkedin.com/in/pete-trevino-26400496?miniProfileUrn=urn%3Ali%3Afs_miniProfile%3AACoAABRKPGwBmZrFdhL0PI0Pn1xI8nHxRhpdSb8', 'https://www.linkedin.com/in/alma-cruz-ramos?miniProfileUrn=urn%3Ali%3Afs_miniProfile%3AACoAACoA_K0Bni8UXJpVAo-z5MBSd74-770J8SM', 'https://www.linkedin.com/in/alma-cruz-ramos?miniProfileUrn=urn%3Ali%3Afs_miniProfile%3AACoAACoA_K0Bni8UXJpVAo-z5MBSd74-770J8SM', 'https://www.linkedin.com/in/zach-arneson-219991a6?miniProfileUrn=urn%3Ali%3Afs_miniProfile%3AACoAABaR7PUBqnwSZfdkVspe-kvH2k3hefJ77q8', 'https://www.linkedin.com/in/zach-arneson-219991a6?miniProfileUrn=urn%3Ali%3Afs_miniProfile%3AACoAABaR7PUBqnwSZfdkVspe-kvH2k3hefJ77q8', 'https://www.linkedin.com/in/ACoAABaR7PUBqnwSZfdkVspe-kvH2k3hefJ77q8', 'https://www.linkedin.com/in/sharandeepgill?miniProfileUrn=urn%3Ali%3Afs_miniProfile%3AACoAAC1xsUsBmT2w6SWGzJl99P01rEAWMrHSwQ4', 'https://www.linkedin.com/in/sharandeepgill?miniProfileUrn=urn%3Ali%3Afs_miniProfile%3AACoAAC1xsUsBmT2w6SWGzJl99P01rEAWMrHSwQ4', 'https://www.linkedin.com/in/william-trivitt-28b1a6195?miniProfileUrn=urn%3Ali%3Afs_miniProfile%3AACoAAC3EsAsB2TGifWQ6arPkrLWoy6ka2tcbtRU', 'https://www.linkedin.com/in/william-trivitt-28b1a6195?miniProfileUrn=urn%3Ali%3Afs_miniProfile%3AACoAAC3EsAsB2TGifWQ6arPkrLWoy6ka2tcbtRU', 'https://www.linkedin.com/in/johnpaul-sakowski-668b11212?miniProfileUrn=urn%3Ali%3Afs_miniProfile%3AACoAADXp_3ABPLG-Ogxx1Dq4oaJ9mshx5xsmtOU', 'https://www.linkedin.com/in/johnpaul-sakowski-668b11212?miniProfileUrn=urn%3Ali%3Afs_miniProfile%3AACoAADXp_3ABPLG-Ogxx1Dq4oaJ9mshx5xsmtOU', 'https://www.linkedin.com/in/brian-redden?miniProfileUrn=urn%3Ali%3Afs_miniProfile%3AACoAACEYTEQB5SjMvWI7JENE8YlEyU7z0lVtats', 'https://www.linkedin.com/in/brian-redden?miniProfileUrn=urn%3Ali%3Afs_miniProfile%3AACoAACEYTEQB5SjMvWI7JENE8YlEyU7z0lVtats', 'https://www.linkedin.com/in/ron-r-6156993?miniProfileUrn=urn%3Ali%3Afs_miniProfile%3AACoAAACikTEBepAgyOo2ZDCdC65AKaRQdiLPjvc', 'https://www.linkedin.com/in/ron-r-6156993?miniProfileUrn=urn%3Ali%3Afs_miniProfile%3AACoAAACikTEBepAgyOo2ZDCdC65AKaRQdiLPjvc', 'https://www.linkedin.com/in/ronald-lopez-9282021a6?miniProfileUrn=urn%3Ali%3Afs_miniProfile%3AACoAADAVirAB0CN8DaRKwyvRYO48NhAqDhvi6dc', 'https://www.linkedin.com/in/ronald-lopez-9282021a6?miniProfileUrn=urn%3Ali%3Afs_miniProfile%3AACoAADAVirAB0CN8DaRKwyvRYO48NhAqDhvi6dc', 'https://www.linkedin.com/in/daniel-aguilar-49517587?miniProfileUrn=urn%3Ali%3Afs_miniProfile%3AACoAABJbF3EB-YucerH2Pgdy_4c8kBdup49LOx4', 'https://www.linkedin.com/in/daniel-aguilar-49517587?miniProfileUrn=urn%3Ali%3Afs_miniProfile%3AACoAABJbF3EB-YucerH2Pgdy_4c8kBdup49LOx4', 'https://www.linkedin.com/in/veronica-jaimes-81799920a?miniProfileUrn=urn%3Ali%3Afs_miniProfile%3AACoAADUu5lMBdS8VSeAVwHh4ZNHMapjRka1F5Aw', 'https://www.linkedin.com/in/veronica-jaimes-81799920a?miniProfileUrn=urn%3Ali%3Afs_miniProfile%3AACoAADUu5lMBdS8VSeAVwHh4ZNHMapjRka1F5Aw', 'https://www.linkedin.com/in/wael-alqaini?miniProfileUrn=urn%3Ali%3Afs_miniProfile%3AACoAACYxkLwBX511OGMddmWqcT1L2ERqJLqEArY', 'https://www.linkedin.com/in/wael-alqaini?miniProfileUrn=urn%3Ali%3Afs_miniProfile%3AACoAACYxkLwBX511OGMddmWqcT1L2ERqJLqEArY', 'https://www.linkedin.com/in/lacee-n-amos-002943b3?miniProfileUrn=urn%3Ali%3Afs_miniProfile%3AACoAABgqdEIBxW7B0wRi5y0uLADoiF5EYaeBwZs', 'https://www.linkedin.com/in/lacee-n-amos-002943b3?miniProfileUrn=urn%3Ali%3Afs_miniProfile%3AACoAABgqdEIBxW7B0wRi5y0uLADoiF5EYaeBwZs', 'https://www.linkedin.com/in/max-garcia-a89397133?miniProfileUrn=urn%3Ali%3Afs_miniProfile%3AACoAACCgYkkBXNpt2emN-b1sIzV4GJWUaLwcu-4', 'https://www.linkedin.com/in/max-garcia-a89397133?miniProfileUrn=urn%3Ali%3Afs_miniProfile%3AACoAACCgYkkBXNpt2emN-b1sIzV4GJWUaLwcu-4', 'https://www.linkedin.com/in/robertenger?miniProfileUrn=urn%3Ali%3Afs_miniProfile%3AACoAAArKKVsBoXa1bT1ccLjxK2a-fw_pLSJv5KI', 'https://www.linkedin.com/in/robertenger?miniProfileUrn=urn%3Ali%3Afs_miniProfile%3AACoAAArKKVsBoXa1bT1ccLjxK2a-fw_pLSJv5KI', 'https://www.linkedin.com/in/rebeccaqeynaud?miniProfileUrn=urn%3Ali%3Afs_miniProfile%3AACoAAAJZD6MBB9OmaUA08O2FPqygvrK3zxO4NUA', 'https://www.linkedin.com/in/rebeccaqeynaud?miniProfileUrn=urn%3Ali%3Afs_miniProfile%3AACoAAAJZD6MBB9OmaUA08O2FPqygvrK3zxO4NUA', 'https://www.linkedin.com/in/alejandra-m-39a06a210?miniProfileUrn=urn%3Ali%3Afs_miniProfile%3AACoAADVm66YBVr0l-UeSybgUKZRI2uQhAu6hDQI', 'https://www.linkedin.com/in/alejandra-m-39a06a210?miniProfileUrn=urn%3Ali%3Afs_miniProfile%3AACoAADVm66YBVr0l-UeSybgUKZRI2uQhAu6hDQI', 'https://www.linkedin.com/in/jelani-b-70b351172?miniProfileUrn=urn%3Ali%3Afs_miniProfile%3AACoAACj8Y7sBPIFRFYoBvTlMPFAFHxxWXUYkhNU', 'https://www.linkedin.com/in/jelani-b-70b351172?miniProfileUrn=urn%3Ali%3Afs_miniProfile%3AACoAACj8Y7sBPIFRFYoBvTlMPFAFHxxWXUYkhNU', 'https://www.linkedin.com/in/jessicamcontreras?miniProfileUrn=urn%3Ali%3Afs_miniProfile%3AACoAACmWl2gBiC0iy-BXATkO1RiDz9k5-Qi_gFE', 'https://www.linkedin.com/in/jessicamcontreras?miniProfileUrn=urn%3Ali%3Afs_miniProfile%3AACoAACmWl2gBiC0iy-BXATkO1RiDz9k5-Qi_gFE', 'https://www.linkedin.com/in/jerred-blunt?miniProfileUrn=urn%3Ali%3Afs_miniProfile%3AACoAABE7E6oBwB4r85ENACwC48WylYYJfl57kkM', 'https://www.linkedin.com/in/jerred-blunt?miniProfileUrn=urn%3Ali%3Afs_miniProfile%3AACoAABE7E6oBwB4r85ENACwC48WylYYJfl57kkM', 'https://www.linkedin.com/in/paul-serrano-03280a50?miniProfileUrn=urn%3Ali%3Afs_miniProfile%3AACoAAArMY6YBXd-mJ0UbnhlhW5biHjDHWo75Za0', 'https://www.linkedin.com/in/paul-serrano-03280a50?miniProfileUrn=urn%3Ali%3Afs_miniProfile%3AACoAAArMY6YBXd-mJ0UbnhlhW5biHjDHWo75Za0', 'https://www.linkedin.com/in/enrique-v-a78b14143?miniProfileUrn=urn%3Ali%3Afs_miniProfile%3AACoAACLe5fwB7aA80fi1NX_FA-UmmrT7bTKXcGA', 'https://www.linkedin.com/in/enrique-v-a78b14143?miniProfileUrn=urn%3Ali%3Afs_miniProfile%3AACoAACLe5fwB7aA80fi1NX_FA-UmmrT7bTKXcGA', 'https://www.linkedin.com/in/cynthia-garcia-ab61b3143?miniProfileUrn=urn%3Ali%3Afs_miniProfile%3AACoAACK8EWoBGLQ8qfeolAChDz9wD2ZWuplA83M', 'https://www.linkedin.com/in/cynthia-garcia-ab61b3143?miniProfileUrn=urn%3Ali%3Afs_miniProfile%3AACoAACK8EWoBGLQ8qfeolAChDz9wD2ZWuplA83M', 'https://www.linkedin.com/in/angel-saavedra-6423061a3?miniProfileUrn=urn%3Ali%3Afs_miniProfile%3AACoAAC-QwBIBcy7zsY_wXGG6wokWGOc2gG2XtBk', 'https://www.linkedin.com/in/angel-saavedra-6423061a3?miniProfileUrn=urn%3Ali%3Afs_miniProfile%3AACoAAC-QwBIBcy7zsY_wXGG6wokWGOc2gG2XtBk', 'https://www.linkedin.com/in/lovemypz?miniProfileUrn=urn%3Ali%3Afs_miniProfile%3AACoAABKg7_ABkv1gzeiyKCkoMhCvjqaNuNSbGdw', 'https://www.linkedin.com/in/lovemypz?miniProfileUrn=urn%3Ali%3Afs_miniProfile%3AACoAABKg7_ABkv1gzeiyKCkoMhCvjqaNuNSbGdw', 'https://www.linkedin.com/in/tony-c-hernandez-ii-110060171?miniProfileUrn=urn%3Ali%3Afs_miniProfile%3AACoAACjDtpwBAxqaBcXTCP0sApHWex-r6YBQH5M', 'https://www.linkedin.com/in/tony-c-hernandez-ii-110060171?miniProfileUrn=urn%3Ali%3Afs_miniProfile%3AACoAACjDtpwBAxqaBcXTCP0sApHWex-r6YBQH5M', 'https://www.linkedin.com/in/kyle-deramus-40977b47?miniProfileUrn=urn%3Ali%3Afs_miniProfile%3AACoAAAnnB4kBkHeqGcLBpNLqXOkqu0x4DiVDhYw', 'https://www.linkedin.com/in/kyle-deramus-40977b47?miniProfileUrn=urn%3Ali%3Afs_miniProfile%3AACoAAAnnB4kBkHeqGcLBpNLqXOkqu0x4DiVDhYw', 'https://www.linkedin.com/in/stephannie-cole-aa075171?miniProfileUrn=urn%3Ali%3Afs_miniProfile%3AACoAAA89BdgBo9xQqyrA88mzXTRaWjOittTFc0k', 'https://www.linkedin.com/in/stephannie-cole-aa075171?miniProfileUrn=urn%3Ali%3Afs_miniProfile%3AACoAAA89BdgBo9xQqyrA88mzXTRaWjOittTFc0k', 'https://www.linkedin.com/in/rico-gonzales-58b5ba55?miniProfileUrn=urn%3Ali%3Afs_miniProfile%3AACoAAAuoTbsBUBJHyRvOVnaOYxmaenycUeEKYMs', 'https://www.linkedin.com/in/rico-gonzales-58b5ba55?miniProfileUrn=urn%3Ali%3Afs_miniProfile%3AACoAAAuoTbsBUBJHyRvOVnaOYxmaenycUeEKYMs', 'https://www.linkedin.com/in/davidrayca?miniProfileUrn=urn%3Ali%3Afs_miniProfile%3AACoAAAxS4B8BVz-EvNWN2WCyb8Zy08k9XJCu89s', 'https://www.linkedin.com/in/davidrayca?miniProfileUrn=urn%3Ali%3Afs_miniProfile%3AACoAAAxS4B8BVz-EvNWN2WCyb8Zy08k9XJCu89s', 'https://www.linkedin.com/in/michelle-aguirre-977822151?miniProfileUrn=urn%3Ali%3Afs_miniProfile%3AACoAACSbZOsBlCmQibxySqvbTVSOpXjphpJ8UTw', 'https://www.linkedin.com/in/michelle-aguirre-977822151?miniProfileUrn=urn%3Ali%3Afs_miniProfile%3AACoAACSbZOsBlCmQibxySqvbTVSOpXjphpJ8UTw', 'https://www.linkedin.com/in/nicholas-tisinger-18098556?miniProfileUrn=urn%3Ali%3Afs_miniProfile%3AACoAAAvj9rAB41EvGJXKu5VE0DuodEXhUVcv-io', 'https://www.linkedin.com/in/nicholas-tisinger-18098556?miniProfileUrn=urn%3Ali%3Afs_miniProfile%3AACoAAAvj9rAB41EvGJXKu5VE0DuodEXhUVcv-io', 'https://www.linkedin.com/in/lorraine-budy-09766625?miniProfileUrn=urn%3Ali%3Afs_miniProfile%3AACoAAAVCJvMByBk1XD9ZgWvKwOdjWaxiwDUB50Q', 'https://www.linkedin.com/in/lorraine-budy-09766625?miniProfileUrn=urn%3Ali%3Afs_miniProfile%3AACoAAAVCJvMByBk1XD9ZgWvKwOdjWaxiwDUB50Q', 'https://www.linkedin.com/in/alex-rivera-285b71109?miniProfileUrn=urn%3Ali%3Afs_miniProfile%3AACoAABtnE0UBEQCUtS4f7yywCLETR5QQWS3gM68', 'https://www.linkedin.com/in/alex-rivera-285b71109?miniProfileUrn=urn%3Ali%3Afs_miniProfile%3AACoAABtnE0UBEQCUtS4f7yywCLETR5QQWS3gM68', 'https://www.linkedin.com/in/dixie-love-88218228?miniProfileUrn=urn%3Ali%3Afs_miniProfile%3AACoAAAW4ZmIBsg8-B_0fBwAqs13Uz8obBzCna14', 'https://www.linkedin.com/in/dixie-love-88218228?miniProfileUrn=urn%3Ali%3Afs_miniProfile%3AACoAAAW4ZmIBsg8-B_0fBwAqs13Uz8obBzCna14', 'https://www.linkedin.com/in/gabriel-ramirez-1352b5139?miniProfileUrn=urn%3Ali%3Afs_miniProfile%3AACoAACGuhXkBzi8IxH-GMtzmX1dVvQDsCu5RD98', 'https://www.linkedin.com/in/gabriel-ramirez-1352b5139?miniProfileUrn=urn%3Ali%3Afs_miniProfile%3AACoAACGuhXkBzi8IxH-GMtzmX1dVvQDsCu5RD98']\n"
     ]
    }
   ],
   "source": [
    "print(linkedinURLS)"
   ]
  },
  {
   "cell_type": "code",
   "execution_count": 41,
   "id": "93d3eb73-c922-42ab-90e4-6ffdd1f61792",
   "metadata": {
    "tags": []
   },
   "outputs": [],
   "source": [
    "element1=driver.find_elements(By.CLASS_NAME, \"topcard__title\")\n",
    "title=[t.text for t in element1]\n"
   ]
  },
  {
   "cell_type": "code",
   "execution_count": 42,
   "id": "eac4ebd5-e0fd-4c2e-90e0-b36493f16155",
   "metadata": {
    "tags": []
   },
   "outputs": [
    {
     "name": "stdout",
     "output_type": "stream",
     "text": [
      "[]\n"
     ]
    }
   ],
   "source": [
    "print(title)"
   ]
  },
  {
   "cell_type": "code",
   "execution_count": 7,
   "id": "605e51da-7a56-4174-acce-2631adef27e8",
   "metadata": {
    "tags": []
   },
   "outputs": [
    {
     "name": "stdout",
     "output_type": "stream",
     "text": [
      "<html><head>\n",
      "<script type=\"text/javascript\">\n",
      "window.onload = function() {\n",
      "  // Parse the tracking code from cookies.\n",
      "  var trk = \"bf\";\n",
      "  var trkInfo = \"bf\";\n",
      "  var cookies = document.cookie.split(\"; \");\n",
      "  for (var i = 0; i < cookies.length; ++i) {\n",
      "    if ((cookies[i].indexOf(\"trkCode=\") == 0) && (cookies[i].length > 8)) {\n",
      "      trk = cookies[i].substring(8);\n",
      "    }\n",
      "    else if ((cookies[i].indexOf(\"trkInfo=\") == 0) && (cookies[i].length > 8)) {\n",
      "      trkInfo = cookies[i].substring(8);\n",
      "    }\n",
      "  }\n",
      "\n",
      "  if (window.location.protocol == \"http:\") {\n",
      "    // If \"sl\" cookie is set, redirect to https.\n",
      "    for (var i = 0; i < cookies.length; ++i) {\n",
      "      if ((cookies[i].indexOf(\"sl=\") == 0) && (cookies[i].length > 3)) {\n",
      "        window.location.href = \"https:\" + window.location.href.substring(window.location.protocol.length);\n",
      "        return;\n",
      "      }\n",
      "    }\n",
      "  }\n",
      "\n",
      "  // Get the new domain. For international domains such as\n",
      "  // fr.linkedin.com, we convert it to www.linkedin.com\n",
      "  // treat .cn similar to .com here\n",
      "  var domain = location.host;\n",
      "  if (domain != \"www.linkedin.com\" && domain != \"www.linkedin.cn\") {\n",
      "    var subdomainIndex = location.host.indexOf(\".linkedin\");\n",
      "    if (subdomainIndex != -1) {\n",
      "      domain = \"www\" + location.host.substring(subdomainIndex);\n",
      "    }\n",
      "  }\n",
      "\n",
      "  window.location.href = \"https://\" + domain + \"/authwall?trk=\" + trk + \"&trkInfo=\" + trkInfo +\n",
      "      \"&original_referer=\" + document.referrer.substr(0, 200) +\n",
      "      \"&sessionRedirect=\" + encodeURIComponent(window.location.href);\n",
      "}\n",
      "</script>\n",
      "</head></html>\n",
      "\n"
     ]
    }
   ],
   "source": [
    "print(soup) \n",
    "\n",
    "d = soup.find(class_='pvs-list__outer-container')"
   ]
  },
  {
   "cell_type": "code",
   "execution_count": 6,
   "id": "62b89f9c-635f-486f-a534-2707e0d7ea43",
   "metadata": {
    "tags": []
   },
   "outputs": [
    {
     "ename": "AttributeError",
     "evalue": "'NoneType' object has no attribute 'text'",
     "output_type": "error",
     "traceback": [
      "\u001b[0;31m---------------------------------------------------------------------------\u001b[0m",
      "\u001b[0;31mAttributeError\u001b[0m                            Traceback (most recent call last)",
      "Cell \u001b[0;32mIn[6], line 1\u001b[0m\n\u001b[0;32m----> 1\u001b[0m \u001b[38;5;28mprint\u001b[39m(\u001b[43md\u001b[49m\u001b[38;5;241;43m.\u001b[39;49m\u001b[43mtext\u001b[49m)\n",
      "\u001b[0;31mAttributeError\u001b[0m: 'NoneType' object has no attribute 'text'"
     ]
    }
   ],
   "source": []
  },
  {
   "cell_type": "code",
   "execution_count": null,
   "id": "5c1543a6-91f7-4f9e-ac86-3833061a9669",
   "metadata": {},
   "outputs": [],
   "source": []
  }
 ],
 "metadata": {
  "kernelspec": {
   "display_name": "Python 3 (ipykernel)",
   "language": "python",
   "name": "python3"
  },
  "language_info": {
   "codemirror_mode": {
    "name": "ipython",
    "version": 3
   },
   "file_extension": ".py",
   "mimetype": "text/x-python",
   "name": "python",
   "nbconvert_exporter": "python",
   "pygments_lexer": "ipython3",
   "version": "3.11.2"
  }
 },
 "nbformat": 4,
 "nbformat_minor": 5
}
