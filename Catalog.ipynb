{
 "cells": [
  {
   "cell_type": "code",
   "execution_count": 2,
   "id": "1dc6487d-e46f-4204-8315-ad7edd896841",
   "metadata": {
    "tags": []
   },
   "outputs": [],
   "source": [
    "from bs4 import BeautifulSoup\n",
    "import requests\n",
    "from bs4 import BeautifulSoup\n",
    "from selenium import webdriver\n",
    "from selenium.webdriver.common.by import By\n",
    "\n",
    "import time\n"
   ]
  },
  {
   "cell_type": "code",
   "execution_count": 3,
   "id": "ad00febc",
   "metadata": {
    "tags": []
   },
   "outputs": [],
   "source": [
    "# Get all program names + links\n",
    "def get_links(link):\n",
    "    \n",
    "    driver = webdriver.Chrome()\n",
    "    driver.get(\"https://bakersfield.elumenapp.com/catalog/2021-2022/agriculturenutritionandculinaryartspathway#mainContent\")\n",
    "    time.sleep(4)\n",
    "    dct = {}\n",
    "    tag = driver.find_elements(By.TAG_NAME, \"span\")\n",
    "    for e in tag:\n",
    "        if (e.get_attribute(\"class\") == \"navitem-x-text\"):\n",
    "            if (e.find_element(\"xpath\",'..').get_attribute(\"href\").startswith('https://bakersfield.elumenapp.com/catalog/2021-2022/program')):\n",
    "                dct[e.get_attribute(\"innerHTML\")] = str(e.find_element(\"xpath\",'..').get_attribute(\"href\"))\n",
    "                # print(e.get_attribute(\"innerHTML\"))\n",
    "                # print(e.find_element(\"xpath\",'..').get_attribute(\"href\"))\n",
    "\n",
    "    return dct\n",
    "\n",
    "# Extracts all tbodies from specific catalog link\n",
    "def extract_tbody(catalog_link):\n",
    "    programs = {}\n",
    "    driver = webdriver.Chrome()\n",
    "\n",
    "    driver.get(catalog_link)\n",
    "    time.sleep(4)\n",
    "    \n",
    "    elements = []\n",
    "    tag = driver.find_elements(By.TAG_NAME, \"tbody\")\n",
    "    print(len(tag))\n",
    "    for i in tag:\n",
    "        elements.append(i)\n",
    "        d = i.find_element(By.TAG_NAME, \"th\")\n",
    "        print(d)\n",
    "        # When detect new program, create new program entry\n",
    "    return elements\n",
    "\n",
    "def extract_courses(courseKeys, dct):\n",
    "    dst = {}\n",
    "    for x in range(len(courseKeys)):\n",
    "        i = courseKeys[x]\n",
    "\n",
    "        driver = webdriver.Chrome()\n",
    "        driver.get(dct[i])\n",
    "        time.sleep(4)\n",
    "\n",
    "        tag = driver.find_elements(By.TAG_NAME, \"tbody\")\n",
    "        for i in range(2):\n",
    "            print(\"1\")\n",
    "            try: \n",
    "                d = i.find_elements(By.TAG_NAME, \"th\")\n",
    "            except:\n",
    "                print(\"NONE\")\n",
    "                continue\n",
    "            # print(d.get_attribute(\"innerHTML\"))\n",
    "            print(len(d))\n",
    "\n",
    "            for a in d:\n",
    "                try: \n",
    "                    s = a.find_element(By.TAG_NAME, \"a\")\n",
    "                    dst[s.get_attribute(\"innerHTML\").strip()] = s.get_attribute(\"href\")\n",
    "\n",
    "                except:\n",
    "                    # print(d.content)\n",
    "                    print(\"ERROR\")\n",
    "                    pass\n",
    "                # print(s.get_attribute(\"href\"))\n",
    "                # print(s.get_attribute(\"innerHTML\").strip())\n",
    "    return dst"
   ]
  },
  {
   "cell_type": "code",
   "execution_count": 1,
   "id": "093cfeb0-97f5-4c94-87c3-7bcc479add6f",
   "metadata": {
    "tags": []
   },
   "outputs": [
    {
     "ename": "NameError",
     "evalue": "name 'get_links' is not defined",
     "output_type": "error",
     "traceback": [
      "\u001b[0;31m---------------------------------------------------------------------------\u001b[0m",
      "\u001b[0;31mNameError\u001b[0m                                 Traceback (most recent call last)",
      "Cell \u001b[0;32mIn[1], line 1\u001b[0m\n\u001b[0;32m----> 1\u001b[0m dct \u001b[38;5;241m=\u001b[39m \u001b[43mget_links\u001b[49m(\u001b[38;5;124m\"\u001b[39m\u001b[38;5;124m\"\u001b[39m)\n",
      "\u001b[0;31mNameError\u001b[0m: name 'get_links' is not defined"
     ]
    }
   ],
   "source": [
    "# dct = get_links(\"\")"
   ]
  },
  {
   "cell_type": "code",
   "execution_count": null,
   "id": "88582a32-639c-4679-be91-c0c6aa224aca",
   "metadata": {
    "tags": []
   },
   "outputs": [],
   "source": [
    "\n"
   ]
  },
  {
   "cell_type": "code",
   "execution_count": null,
   "id": "778e1f9d-d922-4160-8dfc-9a72195d52c5",
   "metadata": {
    "tags": []
   },
   "outputs": [],
   "source": []
  },
  {
   "cell_type": "code",
   "execution_count": null,
   "id": "133125ac-a43c-4a11-867a-e8f943c86985",
   "metadata": {},
   "outputs": [],
   "source": []
  },
  {
   "cell_type": "code",
   "execution_count": null,
   "id": "cdceb796",
   "metadata": {},
   "outputs": [],
   "source": []
  },
  {
   "cell_type": "code",
   "execution_count": null,
   "id": "64017a23",
   "metadata": {},
   "outputs": [],
   "source": []
  },
  {
   "cell_type": "code",
   "execution_count": 5,
   "id": "596e3b2f",
   "metadata": {
    "tags": []
   },
   "outputs": [],
   "source": [
    "from bs4 import BeautifulSoup\n",
    "from selenium import webdriver\n",
    "from selenium.webdriver.common.by import By\n",
    "\n",
    "import time\n",
    "\n",
    "#  link example: https://bakersfield.elumenapp.com/catalog/2021-2022/program/agriculture-animal-science-associate-in-science-for-transfer-summer-2019#mainContent\n",
    "\n",
    "def get_outcomes(link):\n",
    "    driver = webdriver.Chrome()\n",
    "    driver.get(link)\n",
    "    time.sleep(4)\n",
    "    e = driver.find_element(By.ID, \"accordion-pslos\")\n",
    "    d = e.find_element(By.TAG_NAME, \"ul\")\n",
    "    f = d.find_elements(By.TAG_NAME, \"li\")\n",
    "    word = \"\"\n",
    "    for d in f:\n",
    "        word = word + d.get_attribute(\"innerHTML\") + \"\\n\"\n",
    "    p = driver.find_element(By.CLASS_NAME, \"introtext\")\n",
    "    ans = p.find_element(By.TAG_NAME, \"p\").get_attribute(\"innerHTML\")\n",
    "    return (ans, word)\n",
    "    \n",
    "# print(get_outcomes(\"\"))\n",
    "\n",
    "\n",
    "# Returns all major names and major links\n",
    "def get_courses_and_links():\n",
    "    driver = webdriver.Chrome()\n",
    "    driver.get(\"https://bakersfield.elumenapp.com/catalog/2021-2022/agriculturenutritionandculinaryartspathway#mainContent\")\n",
    "    time.sleep(4)\n",
    "    dct = {}\n",
    "    tag = driver.find_elements(By.TAG_NAME, \"span\")\n",
    "    for e in tag:\n",
    "        if (e.get_attribute(\"class\") == \"navitem-x-text\"):\n",
    "            if (e.find_element(\"xpath\",'..').get_attribute(\"href\").startswith('https://bakersfield.elumenapp.com/catalog/2021-2022/program')):\n",
    "                dct[e.get_attribute(\"innerHTML\")] = str(e.find_element(\"xpath\",'..').get_attribute(\"href\"))\n",
    "    return dct\n",
    "dct = get_courses_and_links()\n"
   ]
  },
  {
   "cell_type": "code",
   "execution_count": 6,
   "id": "356cb308-3872-4caa-82d1-03c31f1563cb",
   "metadata": {
    "tags": []
   },
   "outputs": [
    {
     "name": "stdout",
     "output_type": "stream",
     "text": [
      "{'Agriculture Business Associate in Science for Transfer': 'https://bakersfield.elumenapp.com/catalog/2021-2022/program/agriculture-business-associate-in-science-for-transfer-spring-2021', 'Agriculture Business Management Certificate of Achievement': 'https://bakersfield.elumenapp.com/catalog/2021-2022/program/agriculture-business-management-certificate-of-achievement-summer-2019v2', 'Agriculture Plant Science Associate in Science for Transfer': 'https://bakersfield.elumenapp.com/catalog/2021-2022/program/associate-in-science-in-agriculture-plant-science-for-transfer-fall-2018', 'Agriculture Animal Science Associate in Science for Transfer': 'https://bakersfield.elumenapp.com/catalog/2021-2022/program/agriculture-animal-science-associate-in-science-for-transfer-summer-2019', 'Animal Science Associate of Science': 'https://bakersfield.elumenapp.com/catalog/2021-2022/program/animal-science-associate-of-science-summer-2018', 'Animal Science Certificate of Achievement': 'https://bakersfield.elumenapp.com/catalog/2021-2022/program/animal-science-certificate-of-achievement-summer-2019', 'Culinary Arts Associate of Science': 'https://bakersfield.elumenapp.com/catalog/2021-2022/program/culinary-arts-associate-of-science-fall-2019', 'Culinary Arts Certificate of Achievement': 'https://bakersfield.elumenapp.com/catalog/2021-2022/program/culinary-arts-certificate-of-achievement-spring-2020', 'Dietetic Services Supervisor Certificate of Achievement': 'https://bakersfield.elumenapp.com/catalog/2021-2022/program/dietetic-services-supervisor-program-certificate-of-achievement-fall-2018', 'Environmental Horticulture Associate of Science': 'https://bakersfield.elumenapp.com/catalog/2021-2022/program/environmental-horticulture-associate-of-science-spring-2019', 'Environmental Horticulture Certificate of Achievement': 'https://bakersfield.elumenapp.com/catalog/2021-2022/program/environmental-horticulture-certificate-of-achievement-summer-2019', 'Food Science Technology Certificate of Achievement': 'https://bakersfield.elumenapp.com/catalog/2021-2022/program/food-science-and-technology-certificate-of-achievement-summer-2021', 'Food Service Management Associate of Science': 'https://bakersfield.elumenapp.com/catalog/2021-2022/program/foodservice-management-associate-of-science-degree-fall-2019', 'Forestry Associate of Science': 'https://bakersfield.elumenapp.com/catalog/2021-2022/program/forestry-associate-of-science-spring-2019', 'Forestry Certificate of Achievement': 'https://bakersfield.elumenapp.com/catalog/2021-2022/program/forestry-certificate-of-achievement-summer-2019', 'Heavy Equipment Technician Certificate of Achievement': 'https://bakersfield.elumenapp.com/catalog/2021-2022/program/heavy-equipment-technician-certificate-of-achievement-summer-2018', 'Mechanized Agriculture Associate of Science': 'https://bakersfield.elumenapp.com/catalog/2021-2022/program/mechanized-agriculture-associate-of-science-spring-2020', 'Nutrition and Dietetics Associate of Science for Transfer': 'https://bakersfield.elumenapp.com/catalog/2021-2022/program/nutrition-and-dietetics-associate-in-science-for-transfer-fall-2020', 'Plant Science Associate of Science': 'https://bakersfield.elumenapp.com/catalog/2021-2022/program/plant-science-associate-of-science-summer-2020', 'Plant Science Certificate of Achievement': 'https://bakersfield.elumenapp.com/catalog/2021-2022/program/plant-science-certificate-of-achievement-summer-2019', 'Pre-Veterinary Medicine': 'https://bakersfield.elumenapp.com/catalog/2021-2022/program/preveterinarymedicine', 'Registered Veterinary Technician Job Skills Certificate': 'https://bakersfield.elumenapp.com/catalog/2021-2022/program/registered-veterinary-technicians-job-skills-certificate-summer-2019', 'American Sign Language Associate of Arts': 'https://bakersfield.elumenapp.com/catalog/2021-2022/program/american-sign-language-associate-of-arts-summer-2019', 'ASL Interpreter Training Program Certificate of Achievement': 'https://bakersfield.elumenapp.com/catalog/2021-2022/program/asl-interpreter-training-program-certificate-of-achievement-summer-2019', 'Art History Associate in Arts Degree for Transfer': 'https://bakersfield.elumenapp.com/catalog/2021-2022/program/art-history-associate-in-arts-for-transfer-summer-2019', 'Commercial Music Certificate of Achievement': 'https://bakersfield.elumenapp.com/catalog/2021-2022/program/commercial-music-certificate-of-achievement-summer-2019', 'Communication Studies Associate in Arts for Transfer': 'https://bakersfield.elumenapp.com/catalog/2021-2022/program/communication-studies-associate-in-arts-for-transfer-summer-2019', 'Communication Certificate of Achievement': 'https://bakersfield.elumenapp.com/catalog/2021-2022/program/communication-certificate-of-achievement-summer-2019', 'English Associate in Arts for Transfer': 'https://bakersfield.elumenapp.com/catalog/2021-2022/program/english-associate-in-art-for-transfer-fall-2019', 'English for Multilingual Students Advanced Certificate of Competency NC': 'https://bakersfield.elumenapp.com/catalog/2021-2022/program/english-for-multilingual-students-advanced-certificate-of-completion-nc', 'English for Multilingual Students Intermediate Certificate of Competency NC': 'https://bakersfield.elumenapp.com/catalog/2021-2022/program/english-for-multilingual-students-intermediate-certificate-of-competency-nc-summer-2020', 'English for Multilingual Students Introduction Certificate of Competency NC': 'https://bakersfield.elumenapp.com/catalog/2021-2022/program/english-for-multilingual-students-introduction-certificate-of-competency-nc', 'English for Multilingual Students Listening/Speaking Certificate of Completion': 'https://bakersfield.elumenapp.com/catalog/2021-2022/program/english-for-multilingual-students-listening-speaking-certificate-of-competency-nc-summer-2020', 'English for Multilingual Students Reading Certificate of Completion NC': 'https://bakersfield.elumenapp.com/catalog/2021-2022/program/english-for-multilingual-students-reading-certificate-of-competency-nc-summer-2020', 'English for Multilingual Students Writing Certificate of Completion NC': 'https://bakersfield.elumenapp.com/catalog/2021-2022/program/english-for-multilingual-students-writing-certificate-of-competency-nc-summer-2020', 'Graphic Design Certificate of Achievement': 'https://bakersfield.elumenapp.com/catalog/2021-2022/program/graphic-design-certificate-of-achievement-spring-2018', 'Japanese Associate of Arts': 'https://bakersfield.elumenapp.com/catalog/2021-2022/program/japanese-associate-of-arts-summer-2020', 'Journalism Associate in Arts for Transfer': 'https://bakersfield.elumenapp.com/catalog/2021-2022/program/journalism-associate-in-arts-for-transfer-summer-2019', 'Media Arts Certificate of Achievement': 'https://bakersfield.elumenapp.com/catalog/2021-2022/program/media-arts-certificate-of-achievement-summer-2019', 'Music Associate in Arts for Transfer': 'https://bakersfield.elumenapp.com/catalog/2021-2022/program/music-associate-in-arts-for-transfer-summer-2021', 'Philosophy Associate in Arts for Transfer': 'https://bakersfield.elumenapp.com/catalog/2021-2022/program/philosophy-associate-in-arts-for-transfer-summer-2019', 'Photography Certificate of Achievement': 'https://bakersfield.elumenapp.com/catalog/2021-2022/program/photography-certificate-of-achievement-summer-2019', 'Spanish Associate in Arts for Transfer': 'https://bakersfield.elumenapp.com/catalog/2021-2022/program/spanish-associate-in-arts-for-transfer-fall-2019', 'Studio Arts Associate in Arts Degree for Transfer': 'https://bakersfield.elumenapp.com/catalog/2021-2022/program/studio-arts-associate-in-arts-for-transfer-summer-2019', 'Theatre Arts Associate in Arts for Transfer': 'https://bakersfield.elumenapp.com/catalog/2021-2022/program/theatre-arts-associate-in-arts-for-transfer-fall-2019', 'Accounting Associate of Arts': 'https://bakersfield.elumenapp.com/catalog/2021-2022/program/accounting-associate-of-arts-spring-2018', 'Administrative Office Assistant Associate of Arts': 'https://bakersfield.elumenapp.com/catalog/2021-2022/program/administrative-office-assistant-associate-of-arts-spring-2021', 'Basic Internet Skills Certificate of Completion': 'https://bakersfield.elumenapp.com/catalog/2021-2022/program/basic-internet-skills-certificate-of-completion-nc-fall-2020', 'Basic Office Skills Certificate of Completion NC': 'https://bakersfield.elumenapp.com/catalog/2021-2022/program/basic-office-skills-certificate-of-completion-nc-spring-2020', 'Basic Office Software Skills Certification of Completion NC': 'https://bakersfield.elumenapp.com/catalog/2021-2022/program/basic-office-software-skills-certificate-of-completion-nc-spring-2020', 'Beginning Computer Skills Certificate  of Completion': 'https://bakersfield.elumenapp.com/catalog/2021-2022/program/beginning-computer-skills-certificate-of-completion-nc-fall-2020', 'Bookkeeping Certificate of Achievement': 'https://bakersfield.elumenapp.com/catalog/2021-2022/program/bookkeeping-certificate-of-achievement-summer-2019', 'Business Administration Associate in Science for Transfer (Through Fall 2021)': 'https://bakersfield.elumenapp.com/catalog/2021-2022/program/business-administration-associate-in-science-for-transfer-summer-2019', 'Business Administration 2.0 Associate in Science for Transfer (Starting in Spring 2022)': 'https://bakersfield.elumenapp.com/catalog/2021-2022/program/business-administration-2-associate-in-science-fall-2021', 'CompTIA Certificate of Achievement': 'https://bakersfield.elumenapp.com/catalog/2021-2022/program/comptia-certificate-of-achievement-fall-2019', 'Customer Relations Certificate of Completion (NC)': 'https://bakersfield.elumenapp.com/catalog/2021-2022/program/customer-relations-certificate-of-completion-nc-fall-2020', 'Digital Marketing for Small Business Certificate of Completion (NC)': 'https://bakersfield.elumenapp.com/catalog/2021-2022/program/digital-marketing-for-small-business-certificate-of-completion-nc-fall-2020', 'Economics Associate in Arts for Transfer': 'https://bakersfield.elumenapp.com/catalog/2021-2022/program/economics-associate-in-arts-for-transfer-summer-2019', 'Entrepreneurship Certificate of Completion NC': 'https://bakersfield.elumenapp.com/catalog/2021-2022/program/entrepreneurship-certificate-of-completion-nc-fall-2020', 'General Business Job Skills Certificate': 'https://bakersfield.elumenapp.com/catalog/2021-2022/program/general-business-job-skills-certificate-summer-2019', 'Logistics Management Associate of Science': 'https://bakersfield.elumenapp.com/catalog/2021-2022/program/logistics-management-associate-of-science-fall-2021', 'Logistics Management Certificate of Achievement': 'https://bakersfield.elumenapp.com/catalog/2021-2022/program/logistics-management-certificate-of-completion-fall-2021', 'Office Assistant Certificate of Achievement': 'https://bakersfield.elumenapp.com/catalog/2021-2022/program/office-assistant-certificate-of-achievement-summer-2019', 'Office Assistant Job Skills Certificate': 'https://bakersfield.elumenapp.com/catalog/2021-2022/program/office-assistant-job-skills-certificate-spring-2021', 'Powerful Presentation Certificate of Completion NC': 'https://bakersfield.elumenapp.com/catalog/2021-2022/program/powerful-presentation-certificate-of-completion-nc-fall-2020', 'QuickBooks Basics for Small Business Certificate of Completion NC': 'https://bakersfield.elumenapp.com/catalog/2021-2022/program/quickbooks-basics-for-small-business-certificate-of-completion-nc-spring-2020', 'Recruiting and Managing Employees Certificate of Completion (NC)': 'https://bakersfield.elumenapp.com/catalog/2021-2022/program/recruiting-and-managing-employees-certificate-of-completion-nc-fall-2020', 'Sales Techniques Certificate of Completion (NC)': 'https://bakersfield.elumenapp.com/catalog/2021-2022/program/sales-techniques-certificate-of-completion-nc-fall-2020', 'Applied Leadership Certificate of Completion': 'https://bakersfield.elumenapp.com/catalog/2021-2022/program/applied-leadership-certificate-of-completion-fall-2021', 'Child Development Assistant Teacher Job Skills Certificate': 'https://bakersfield.elumenapp.com/catalog/2021-2022/program/child-development-assistant-teacher-job-skills-certificate-summer-2018', 'Child Development Associate Teacher Job Skills Certificate': 'https://bakersfield.elumenapp.com/catalog/2021-2022/program/child-development-associate-teacher-job-skills-certificate-spring-2019', 'Child Development Master Teacher: Infant Toddler Certificate of Achievement': 'https://bakersfield.elumenapp.com/catalog/2021-2022/program/child-development-master-teacher-infant-toddler-certificate-of-achievement-summer-2019', 'Child Development Master Teacher: Special Education Certificate of Achievement': 'https://bakersfield.elumenapp.com/catalog/2021-2022/program/child-development-master-teacher-special-education-certificate-of-achievement-summer-2019', 'Child Development Teacher Certificate of Achievement': 'https://bakersfield.elumenapp.com/catalog/2021-2022/program/child-development-teacher-certificate-of-achievement-summer-2019', 'Early Childhood Education Associate in Science for Transfer': 'https://bakersfield.elumenapp.com/catalog/2021-2022/program/associate-in-science-in-early-childhood-education-for-transfer-spring-2018', 'Education Studies Associate of Science': 'https://bakersfield.elumenapp.com/catalog/2021-2022/program/education-studies-associate-of-science', 'Elementary Teacher Education Associate in Arts for Transfer': 'https://bakersfield.elumenapp.com/catalog/2021-2022/program/elementary-teacher-education-associate-in-arts-for-transter-summer-2020', 'Inclusive and Accessible Digital Content': 'https://bakersfield.elumenapp.com/catalog/2021-2022/program/inclusive-and-accessible-digital-content-fall-2021', 'Introduction to Early Care and Education Certificate of Completion NC': 'https://bakersfield.elumenapp.com/catalog/2021-2022/program/introduction-to-early-care-and-education-certificate-of-completion-nc-spring-2020', 'Online Teaching Certificate of Completion (NC)': 'https://bakersfield.elumenapp.com/catalog/2021-2022/program/online-teaching-certificate-of-completion', ' Online Teaching Level 1 Job Skills Certificate': 'https://bakersfield.elumenapp.com/catalog/2021-2022/program/online-teaching-level-1-job-skills-certificate', ' Online Teaching Level II Certificate of Achievement': 'https://bakersfield.elumenapp.com/catalog/2021-2022/program/online-teaching-level-ii-certificate-of-achievement', 'Paraprofessional Level 1 Certificate of Achievement': 'https://bakersfield.elumenapp.com/catalog/2021-2022/program/paraprofessional-level-i-certificate-of-achievement-spring-2020', 'Paraprofessional Level II Certificate of Achievement': 'https://bakersfield.elumenapp.com/catalog/2021-2022/program/paraprofessional-level-ii-certificate-of-achievement-summer-2020', 'Paraprofessional Level III Certificate of Achievement': 'https://bakersfield.elumenapp.com/catalog/2021-2022/program/paraprofessional-level-iii-certificate-of-achievement-summer-2020', 'Paraprofessional Level IV Certificate of Achievement': 'https://bakersfield.elumenapp.com/catalog/2021-2022/program/paraprofessional-level-iv-certificate-of-achievement', 'Transitional Kindergarten Certificate of Achievement': 'https://bakersfield.elumenapp.com/catalog/2021-2022/program/transitional-kindergarten-certificate-of-achievement-summer-2019', 'Health Information Technology Associate of Science': 'https://bakersfield.elumenapp.com/catalog/2021-2022/program/health-information-technology-associate-of-science-fall-2021', 'Health Navigator Certificate of Achievement': 'https://bakersfield.elumenapp.com/catalog/2021-2022/program/health-navigator-certificate-of-achievement-summer-2018', 'Human Biology Associate of Science': 'https://bakersfield.elumenapp.com/catalog/2021-2022/program/human-biology-associate-of-science-fall-2020', 'Kinesiology Associate in Arts for Transfer': 'https://bakersfield.elumenapp.com/catalog/2021-2022/program/kinesiology-associate-in-arts-for-transfer-summer-2019', 'LVN to Associate Degree Nursing Program Associate of Science': 'https://bakersfield.elumenapp.com/catalog/2021-2022/program/lvn-to-associate-degree-nursing-program-associate-of-science-fall-2019', 'LVN to Non-Degree Nurse (30 unit option)': 'https://bakersfield.elumenapp.com/catalog/2021-2022/program/lvn-to-non-degree-nurse-30-unit-option-summer-2019', 'Nurse Assistant Job Skills Certificate': 'https://bakersfield.elumenapp.com/catalog/2021-2022/program/nurse-assistant-job-skills-certificate-summer-2019', 'Physical Therapist Assistant Associate of Science': 'https://bakersfield.elumenapp.com/catalog/2021-2022/program/physical-therapist-assistant-associate-of-science-spring-2022', 'Principles of Fluoroscopy Job Skills Certificate': 'https://bakersfield.elumenapp.com/catalog/2021-2022/program/principles-of-fluoroscopy-job-skills-certificate-summer-2019', 'Principles of Venipuncture Job Skills Certificate': 'https://bakersfield.elumenapp.com/catalog/2021-2022/program/principles-of-venipuncture-job-skills-certificate-summer-2019', 'Public Health Non-Health Professionals NC': 'https://bakersfield.elumenapp.com/catalog/2021-2022/program/public-health-non-health-professionals-nc', '  Public Health Science Associate of Science Degree for Transfer': 'https://bakersfield.elumenapp.com/catalog/2021-2022/program/public-health-science-associate-in-science-for-transfer-summer-2021', 'Radiologic Technology Associate of Science': 'https://bakersfield.elumenapp.com/catalog/2021-2022/program/radiologic-technology-associate-of-science-summer-2019', 'Registered Nursing Associate of Science': 'https://bakersfield.elumenapp.com/catalog/2021-2022/program/registered-nursing-associate-of-science-summer-2019', 'Vocational Nursing Program Certificate of Achievement': 'https://bakersfield.elumenapp.com/catalog/2021-2022/program/vocational-nursing-program-certificate-of-achievement-summer-2019', '  Advanced Electrical Safety and Arc Flash Certification of Completion NC': 'https://bakersfield.elumenapp.com/catalog/2021-2022/program/advanced-electrical-safety-and-arc-flash-certificate-of-completion-spring-2021', 'Apprenticeship Associate of Arts': 'https://bakersfield.elumenapp.com/catalog/2021-2022/program/apprenticeshipassociateofarts', 'Apprenticeship Certificate of Achievement': 'https://bakersfield.elumenapp.com/catalog/2021-2022/program/apprenticeshipcertificateofachievement', 'Architectural Computer Aided Drafting Job Skills Certificate': 'https://bakersfield.elumenapp.com/catalog/2021-2022/program/architectural-computer-aided-drafting-job-skills-certificate-summer-2019', 'Architecture/Architectural Drafting Associate of Science': 'https://bakersfield.elumenapp.com/catalog/2021-2022/program/architecture-architectural-drafting-associate-of-science-fall-2018', 'Automatic Transmissions Certificate of Achievement': 'https://bakersfield.elumenapp.com/catalog/2021-2022/program/automatic-transmissions-certificate-of-achievement-summer-2018', 'Automotive Heating &amp; Air Conditioning Certificate of Achievement': 'https://bakersfield.elumenapp.com/catalog/2021-2022/program/automotive-heating-air-conditioning-certificate-of-achievement-summer-2018', 'Automotive Management Certificate of Achievement': 'https://bakersfield.elumenapp.com/catalog/2021-2022/program/automotive-management-certificate-of-achievement-summer-2018', 'Automotive Technology Associate of Science': 'https://bakersfield.elumenapp.com/catalog/2021-2022/program/automotive-technology-associate-of-science-fall-2018', 'Basic Machine Tool Operations-Lathe, Mill Job Skills Certificate': 'https://bakersfield.elumenapp.com/catalog/2021-2022/program/basic-machine-tool-operations-lathe-mill-job-skills-certificate-summer-2019', 'Blueprint Reading and Layout for Welders, Job Skills Certificate': 'https://bakersfield.elumenapp.com/catalog/2021-2022/program/blueprint-reading-and-layout-for-welders-job-skills-certificate-summer-2019', 'Brake System Certificate of Achievement': 'https://bakersfield.elumenapp.com/catalog/2021-2022/program/brake-system-certificate-of-achievement-summer-2018', 'Computer Numerical Control Programming Job Skills Certificate': 'https://bakersfield.elumenapp.com/catalog/2021-2022/program/computer-numerical-control-programming-job-skills-summer-2019', 'Construction Management Associate of Science': 'https://bakersfield.elumenapp.com/catalog/2021-2022/program/associate-of-science-degree-in-construction-management-summer-2018', 'Construction Technology Certificate of Achievement': 'https://bakersfield.elumenapp.com/catalog/2021-2022/program/construction-technology-certificate-of-achievement-summer-2019', 'Electrical and Electronic Systems Certificate of Achievement': 'https://bakersfield.elumenapp.com/catalog/2021-2022/program/electrical-and-electronic-systems-certificate-of-achievement-summer-2018', ' Electrical Safety Certificate of Completion NC': 'https://bakersfield.elumenapp.com/catalog/2021-2022/program/electrical-safety-certificate-of-completion-nc', 'Electronics Associate of Science': 'https://bakersfield.elumenapp.com/catalog/2021-2022/program/electronics-associate-of-science-summer-2019', 'Electronics Technology Certificate of Achievement': 'https://bakersfield.elumenapp.com/catalog/2021-2022/program/electronics-technology-certificate-of-achievement-summer-2019', 'Electronics - Industrial Automation Job Skills Certificate': 'https://bakersfield.elumenapp.com/catalog/2021-2022/program/electronics-industrial-automation-job-skills-certificate-summer-2019', 'Electronics - Industrial Communications Job Skills Certificate': 'https://bakersfield.elumenapp.com/catalog/2021-2022/program/electronics-industrial-communications-job-skills-certificate-summer-2019', 'Electronics - Industrial Maintenance Job Skills Certificate': 'https://bakersfield.elumenapp.com/catalog/2021-2022/program/electronics-industrial-maintenance-job-skills-certificate-fall-2017', 'Electronics - Manufacturing Automation Job Skills Certificate': 'https://bakersfield.elumenapp.com/catalog/2021-2022/program/electronics-manufacturing-automation-job-skills-certificate-spring-2018', 'Engine Overhaul and Repair Certificate of Achievement': 'https://bakersfield.elumenapp.com/catalog/2021-2022/program/engine-overhaul-and-repair-certificate-of-achievement-summer-2018', 'Engine Performance Certificate of Achievement': 'https://bakersfield.elumenapp.com/catalog/2021-2022/program/engine-performance-certificate-of-achievement-summer-2018', 'Engineering Technology Associate of Science': 'https://bakersfield.elumenapp.com/catalog/2021-2022/program/engineering-technology-associate-of-science-fall-2018', 'Engineering Technology Certificate of Achievement': 'https://bakersfield.elumenapp.com/catalog/2021-2022/program/engineering-technology-certificate-of-achievement-summer-2019', 'Gas Metal Arc/Gas Tungsten Arc/Flux Core Arc Welding, Job Skills Certificate': 'https://bakersfield.elumenapp.com/catalog/2021-2022/program/gas-metal-arc-gas-tungsten-arc-flux-core-arc-welding-job-skills-certificate-summer-2019', 'HVAC Technology Associate of Science': 'https://bakersfield.elumenapp.com/catalog/2021-2022/program/hvac-technology-associate-of-science-summer-2019', 'HVAC Technology Certificate of Achievement': 'https://bakersfield.elumenapp.com/catalog/2021-2022/program/hvac-technology-certificate-of-achievement-summer-2019', 'Industrial Automation Bachelor of Science': 'https://bakersfield.elumenapp.com/catalog/2021-2022/program/industrial-automation-bachelor-of-science-summer-2020', 'Industrial Automation Associate of Science': 'https://bakersfield.elumenapp.com/catalog/2021-2022/program/industrial-automation-associate-of-science-fall-2019', 'Industrial Automation Certificate of Achievement': 'https://bakersfield.elumenapp.com/catalog/2021-2022/program/industrial-automation-certificate-of-achievement-fall-2018', 'Industrial Drawing Associate of Science': 'https://bakersfield.elumenapp.com/catalog/2021-2022/program/industrial-drawing-associate-of-science-summer-2019', 'Industrial Drawing Certificate of Achievement': 'https://bakersfield.elumenapp.com/catalog/2021-2022/program/industrial-drawing-certificate-of-achievement-fall-2018', 'Industrial Drawing, AutoCAD Job Skills Certificate': 'https://bakersfield.elumenapp.com/catalog/2021-2022/program/industrial-drawing-autocad-job-skills-certificate-summer-2019', 'Industrial Technology Associate of Science': 'https://bakersfield.elumenapp.com/catalog/2021-2022/program/industrial-technology-associate-of-science-summer-2019', 'Introduction to Welding Certificate of Completion NC': 'https://bakersfield.elumenapp.com/catalog/2021-2022/program/introduction-to-welding-certificate-of-completion-summer-2022', 'Light Duty Diesel Performance Certificate of Achievement': 'https://bakersfield.elumenapp.com/catalog/2021-2022/program/light-duty-diesel-performance-certificate-of-achievement-summer-2018', 'Manual Drive Train and Axles Certificate of Achievement': 'https://bakersfield.elumenapp.com/catalog/2021-2022/program/manual-drive-train-and-axles-certificate-of-achievement-summer-2018', 'Manufacturing Technology Associate of Science': 'https://bakersfield.elumenapp.com/catalog/2021-2022/program/manufacturing-technology-associate-of-science-summer-2019', 'Manufacturing Technology Certificate of Achievement': 'https://bakersfield.elumenapp.com/catalog/2021-2022/program/manufacturing-technology-certificate-of-achievement-summer-2019', 'Manufacturing Metal Fabrication Technology Associate of Science': 'https://bakersfield.elumenapp.com/catalog/2021-2022/program/manufacturing-metal-fabrication-technology-associate-of-science-summer-2018', 'Occupational Safety and Risk Management, Agriculture Associate of Science': 'https://bakersfield.elumenapp.com/catalog/2021-2022/program/occupational-safety-and-risk-management-agriculture-associate-in-science-summer-2020', 'Occupational Safety and Risk Management, Business Associate of Science': 'https://bakersfield.elumenapp.com/catalog/2021-2022/program/associate-in-science-occupational-safety-and-risk-management-business-summer-2018', 'Occupational Safety and Risk Management, Health Science Associate of Science': 'https://bakersfield.elumenapp.com/catalog/2021-2022/program/occupational-safety-and-risk-management-health-science-associate-in-science-summer-2020', 'Occupational Safety and Risk Management, Industrial Technology Associate of Science': 'https://bakersfield.elumenapp.com/catalog/2021-2022/program/occupational-safety-and-risk-management-industrial-technology-associate-in-science-summer-2020', 'Occupational Safety and Risk Management Certificate of Achievement': 'https://bakersfield.elumenapp.com/catalog/2021-2022/program/occupational-safety-and-risk-management-certificate-of-achievement-fall-2020', 'Process Technology Associate of Science': 'https://bakersfield.elumenapp.com/catalog/2021-2022/program/process-technology-associate-of-science-summer-2020', 'Process Technology Certificate of Achievement': 'https://bakersfield.elumenapp.com/catalog/2021-2022/program/process-technology-certificate-of-achievement-summer-2019', 'Shielded Metal Arc Welding Job Skills Certificate': 'https://bakersfield.elumenapp.com/catalog/2021-2022/program/shielded-metal-arc-welding-job-skills-certificate-summer-2019', 'Suspension and Steering Certificate of Achievement': 'https://bakersfield.elumenapp.com/catalog/2021-2022/program/suspension-and-steering-certificate-of-achievement-summer-2018', 'Welding Associate of Science': 'https://bakersfield.elumenapp.com/catalog/2021-2022/program/welding-associate-of-science-summer-2019', 'Welding Certificate of Achievement': 'https://bakersfield.elumenapp.com/catalog/2021-2022/program/welding-certificate-of-achievement-summer-2019', 'Welding Certification Job Skills Certificate': 'https://bakersfield.elumenapp.com/catalog/2021-2022/program/welding-certification-job-skills-certificate-fall-2017', 'Woodworking/Cabinetmaking Associate of Science': 'https://bakersfield.elumenapp.com/catalog/2021-2022/program/woodworking-cabinetmaking-associate-of-science-spring-2019', 'Woodworking/Cabinetmaking Certificate of Achievement': 'https://bakersfield.elumenapp.com/catalog/2021-2022/program/woodworking-cabinetmaking-certificate-of-achievement-summer-2019', 'Woodworking &amp; Cabinetmaking Job Skills Certificate': 'https://bakersfield.elumenapp.com/catalog/2021-2022/program/woodworking-cabinetmaking-job-skills-certificate-spring-2018', 'Administration of Justice Associate in Science for Transfer': 'https://bakersfield.elumenapp.com/catalog/2021-2022/program/administration-of-justice-associate-in-science-for-transfer-summer-2021', 'Correctional Administration Associate of Arts': 'https://bakersfield.elumenapp.com/catalog/2021-2022/program/correctional-administration-associate-of-arts-fall-2018', 'Criminal Justice Associate of Arts': 'https://bakersfield.elumenapp.com/catalog/2021-2022/program/criminal-justice-associate-of-arts-summer-2019', 'Emergency Medical Technician Job Skills Certificate': 'https://bakersfield.elumenapp.com/catalog/2021-2022/program/emergency-medical-technician-job-skills-certificate-spring-2020', 'Executive Chief Fire Officer Certificate of Achievement': 'https://bakersfield.elumenapp.com/catalog/2021-2022/program/executive-chief-fire-officer-certificate-of-achievement-summer-2018', 'Fire Academy Job Skills Certificate': 'https://bakersfield.elumenapp.com/catalog/2021-2022/program/fire-academy-job-skills-certificate-summer-2019', 'Fire Technology Associate of Arts': 'https://bakersfield.elumenapp.com/catalog/2021-2022/program/fire-technology-associate-of-arts-fall-2018', 'Fire Technology Certificate of Achievement': 'https://bakersfield.elumenapp.com/catalog/2021-2022/program/fire-technology-certificate-of-achievement-summer-2019', 'Fire Fighter I Academy Certificate of Achievement': 'https://bakersfield.elumenapp.com/catalog/2021-2022/program/fire-fighter-i-academy-certificate-of-achievement-fall-2019', 'Paramedic Program Associate of Science': 'https://bakersfield.elumenapp.com/catalog/2021-2022/program/paramedic-program-associate-of-science-summer-2019', 'Paramedic Certificate of Achievement': 'https://bakersfield.elumenapp.com/catalog/2021-2022/program/paramedic-certificate-of-achievement-summer-2019', 'Wildland Firefighting Associate of Science': 'https://bakersfield.elumenapp.com/catalog/2021-2022/program/wildland-firefighting-associate-of-science-fall-2018', 'Wildland Firefighting Job Skills Certificate': 'https://bakersfield.elumenapp.com/catalog/2021-2022/program/wildland-firefighting-job-skills-certificate-summer-2019', 'Anthropology Associate in Arts for Transfer': 'https://bakersfield.elumenapp.com/catalog/2021-2022/program/associate-in-arts-in-anthropology-for-transfer-spring-2018', 'History Associate in Arts for Transfer': 'https://bakersfield.elumenapp.com/catalog/2021-2022/program/history-associate-in-arts-for-transfer-summer-2019', 'Human Services Associate of Arts': 'https://bakersfield.elumenapp.com/catalog/2021-2022/program/human-services-associate-of-arts-summer-2019', 'Human Services Job Skills Certificate': 'https://bakersfield.elumenapp.com/catalog/2021-2022/program/human-services-job-skills-certificate-summer-2019', 'Pathway to Law School': 'https://bakersfield.elumenapp.com/catalog/2021-2022/program/pathwaytolawschool', 'Political Science Associate in Arts for Transfer': 'https://bakersfield.elumenapp.com/catalog/2021-2022/program/political-science-associate-in-arts-for-transfer-summer-2019', 'Psychology Associate in Arts Degree for Transfer': 'https://bakersfield.elumenapp.com/catalog/2021-2022/program/psychology-associate-in-arts-degree-for-transfer-spring-2018', 'Social Justice Studies Associate of Arts for Transfer': 'https://bakersfield.elumenapp.com/catalog/2021-2022/program/social-justice-studies-aa-t-summer-2021', 'Sociology Associate in Arts Degree for Transfer': 'https://bakersfield.elumenapp.com/catalog/2021-2022/program/sociology-associate-in-arts-for-transfer-fall-2021', 'Biology Associate in Science for Transfer Degree': 'https://bakersfield.elumenapp.com/catalog/2021-2022/program/biology-associate-in-science-for-transfer-degree-fall-2019', 'Chemistry Associate in Science for Transfer': 'https://bakersfield.elumenapp.com/catalog/2021-2022/program/chemistry-associate-in-science-for-transfer-summer-2019', 'Chemistry Associate in Science for UC': 'https://bakersfield.elumenapp.com/catalog/2021-2022/program/chemistry-associate-in-science-for-uc-fall-2020', 'Computer Science Associate in Science for Transfer': 'https://bakersfield.elumenapp.com/catalog/2021-2022/program/associate-in-science-in-computer-science-for-transfer-spring-2018', 'Engineering Associate of Science': 'https://bakersfield.elumenapp.com/catalog/2021-2022/program/engineering-associate-of-science-fall-2018', 'Environmental Science Associate in Science for Transfer Degree': 'https://bakersfield.elumenapp.com/catalog/2021-2022/program/environmental-science-associate-in-science-for-transfer-fall-2019', 'Geology Associate of Science for Transfer': 'https://bakersfield.elumenapp.com/catalog/2021-2022/program/geology-associate-of-science-for-transfer-summer-2019', 'Information Technology Certificate of Achievement': 'https://bakersfield.elumenapp.com/catalog/2021-2022/program/information-technology-certificate-of-achievement-spring-2019', 'Math Associate in Science for Transfer': 'https://bakersfield.elumenapp.com/catalog/2021-2022/program/associate-in-science-in-math-for-transfer-fall-2018', 'Physics Associate in Science for Transfer': 'https://bakersfield.elumenapp.com/catalog/2021-2022/program/associate-in-science-in-physics-for-transfer-spring-2018', 'Physics Associate of Science for UC': 'https://bakersfield.elumenapp.com/catalog/2021-2022/program/physics-associate-in-science-for-uc-summer-2020', 'Web Design and Development Certificate of Achievement': 'https://bakersfield.elumenapp.com/catalog/2021-2022/program/web-design-and-development-certificate-of-achievement-summer-2019', 'California State University (CSU) General Education Breadth Certificate of Achievement': 'https://bakersfield.elumenapp.com/catalog/2021-2022/program/california-state-university-csu-general-education-breadth-certificate-of-achievement-summer-2019', 'Intersegmental General Education Transfer (IGETC) General Education Certificate of Achievement': 'https://bakersfield.elumenapp.com/catalog/2021-2022/program/intersegmental-general-education-transfer-igetc-general-education-certificate-of-achievement-summer-2018', 'Intersegmental General Education Transfer (IGETC) for STEM General Education Certificate of Achievement': 'https://bakersfield.elumenapp.com/catalog/2021-2022/program/intersegmental-general-education-transfer-igetc-for-stem-general-education-certificate-of-achievement-summer-2019', 'Liberal Arts Associate of Arts': 'https://bakersfield.elumenapp.com/catalog/2021-2022/program/liberal-arts-associate-of-arts-summer-2018', 'Forestry Associate of Arts': 'https://bakersfield.elumenapp.com/catalog/2021-2022/program/forestry-associate-of-arts-summer-2019'}\n"
     ]
    }
   ],
   "source": [
    "print(dct)"
   ]
  },
  {
   "cell_type": "code",
   "execution_count": 9,
   "id": "f57a0637-1662-4c49-b1cc-11cd94a17b71",
   "metadata": {
    "tags": []
   },
   "outputs": [
    {
     "name": "stdout",
     "output_type": "stream",
     "text": [
      "https://bakersfield.elumenapp.com/catalog/2021-2022/program/agriculture-business-associate-in-science-for-transfer-spring-2021\n",
      "https://bakersfield.elumenapp.com/catalog/2021-2022/program/agriculture-business-associate-in-science-for-transfer-spring-2021\n",
      "https://bakersfield.elumenapp.com/catalog/2021-2022/program/agriculture-business-management-certificate-of-achievement-summer-2019v2\n",
      "https://bakersfield.elumenapp.com/catalog/2021-2022/program/agriculture-business-management-certificate-of-achievement-summer-2019v2\n",
      "https://bakersfield.elumenapp.com/catalog/2021-2022/program/associate-in-science-in-agriculture-plant-science-for-transfer-fall-2018\n",
      "https://bakersfield.elumenapp.com/catalog/2021-2022/program/associate-in-science-in-agriculture-plant-science-for-transfer-fall-2018\n",
      "https://bakersfield.elumenapp.com/catalog/2021-2022/program/agriculture-animal-science-associate-in-science-for-transfer-summer-2019\n",
      "https://bakersfield.elumenapp.com/catalog/2021-2022/program/agriculture-animal-science-associate-in-science-for-transfer-summer-2019\n",
      "https://bakersfield.elumenapp.com/catalog/2021-2022/program/animal-science-associate-of-science-summer-2018\n",
      "https://bakersfield.elumenapp.com/catalog/2021-2022/program/animal-science-associate-of-science-summer-2018\n",
      "https://bakersfield.elumenapp.com/catalog/2021-2022/program/animal-science-certificate-of-achievement-summer-2019\n",
      "https://bakersfield.elumenapp.com/catalog/2021-2022/program/animal-science-certificate-of-achievement-summer-2019\n",
      "https://bakersfield.elumenapp.com/catalog/2021-2022/program/culinary-arts-associate-of-science-fall-2019\n",
      "https://bakersfield.elumenapp.com/catalog/2021-2022/program/culinary-arts-associate-of-science-fall-2019\n",
      "https://bakersfield.elumenapp.com/catalog/2021-2022/program/culinary-arts-certificate-of-achievement-spring-2020\n",
      "https://bakersfield.elumenapp.com/catalog/2021-2022/program/culinary-arts-certificate-of-achievement-spring-2020\n",
      "https://bakersfield.elumenapp.com/catalog/2021-2022/program/dietetic-services-supervisor-program-certificate-of-achievement-fall-2018\n",
      "https://bakersfield.elumenapp.com/catalog/2021-2022/program/dietetic-services-supervisor-program-certificate-of-achievement-fall-2018\n",
      "https://bakersfield.elumenapp.com/catalog/2021-2022/program/environmental-horticulture-associate-of-science-spring-2019\n",
      "https://bakersfield.elumenapp.com/catalog/2021-2022/program/environmental-horticulture-associate-of-science-spring-2019\n",
      "https://bakersfield.elumenapp.com/catalog/2021-2022/program/environmental-horticulture-certificate-of-achievement-summer-2019\n",
      "https://bakersfield.elumenapp.com/catalog/2021-2022/program/environmental-horticulture-certificate-of-achievement-summer-2019\n",
      "https://bakersfield.elumenapp.com/catalog/2021-2022/program/food-science-and-technology-certificate-of-achievement-summer-2021\n",
      "https://bakersfield.elumenapp.com/catalog/2021-2022/program/food-science-and-technology-certificate-of-achievement-summer-2021\n",
      "https://bakersfield.elumenapp.com/catalog/2021-2022/program/foodservice-management-associate-of-science-degree-fall-2019\n",
      "https://bakersfield.elumenapp.com/catalog/2021-2022/program/foodservice-management-associate-of-science-degree-fall-2019\n",
      "https://bakersfield.elumenapp.com/catalog/2021-2022/program/forestry-associate-of-science-spring-2019\n",
      "https://bakersfield.elumenapp.com/catalog/2021-2022/program/forestry-associate-of-science-spring-2019\n",
      "https://bakersfield.elumenapp.com/catalog/2021-2022/program/forestry-certificate-of-achievement-summer-2019\n",
      "https://bakersfield.elumenapp.com/catalog/2021-2022/program/forestry-certificate-of-achievement-summer-2019\n",
      "https://bakersfield.elumenapp.com/catalog/2021-2022/program/heavy-equipment-technician-certificate-of-achievement-summer-2018\n",
      "https://bakersfield.elumenapp.com/catalog/2021-2022/program/heavy-equipment-technician-certificate-of-achievement-summer-2018\n",
      "https://bakersfield.elumenapp.com/catalog/2021-2022/program/mechanized-agriculture-associate-of-science-spring-2020\n",
      "https://bakersfield.elumenapp.com/catalog/2021-2022/program/mechanized-agriculture-associate-of-science-spring-2020\n",
      "https://bakersfield.elumenapp.com/catalog/2021-2022/program/nutrition-and-dietetics-associate-in-science-for-transfer-fall-2020\n",
      "https://bakersfield.elumenapp.com/catalog/2021-2022/program/nutrition-and-dietetics-associate-in-science-for-transfer-fall-2020\n",
      "https://bakersfield.elumenapp.com/catalog/2021-2022/program/plant-science-associate-of-science-summer-2020\n",
      "https://bakersfield.elumenapp.com/catalog/2021-2022/program/plant-science-associate-of-science-summer-2020\n",
      "https://bakersfield.elumenapp.com/catalog/2021-2022/program/plant-science-certificate-of-achievement-summer-2019\n",
      "https://bakersfield.elumenapp.com/catalog/2021-2022/program/plant-science-certificate-of-achievement-summer-2019\n",
      "https://bakersfield.elumenapp.com/catalog/2021-2022/program/preveterinarymedicine\n",
      "https://bakersfield.elumenapp.com/catalog/2021-2022/program/registered-veterinary-technicians-job-skills-certificate-summer-2019\n",
      "https://bakersfield.elumenapp.com/catalog/2021-2022/program/registered-veterinary-technicians-job-skills-certificate-summer-2019\n",
      "https://bakersfield.elumenapp.com/catalog/2021-2022/program/american-sign-language-associate-of-arts-summer-2019\n",
      "https://bakersfield.elumenapp.com/catalog/2021-2022/program/american-sign-language-associate-of-arts-summer-2019\n",
      "https://bakersfield.elumenapp.com/catalog/2021-2022/program/asl-interpreter-training-program-certificate-of-achievement-summer-2019\n",
      "https://bakersfield.elumenapp.com/catalog/2021-2022/program/asl-interpreter-training-program-certificate-of-achievement-summer-2019\n",
      "https://bakersfield.elumenapp.com/catalog/2021-2022/program/art-history-associate-in-arts-for-transfer-summer-2019\n",
      "https://bakersfield.elumenapp.com/catalog/2021-2022/program/art-history-associate-in-arts-for-transfer-summer-2019\n",
      "https://bakersfield.elumenapp.com/catalog/2021-2022/program/commercial-music-certificate-of-achievement-summer-2019\n",
      "https://bakersfield.elumenapp.com/catalog/2021-2022/program/commercial-music-certificate-of-achievement-summer-2019\n",
      "https://bakersfield.elumenapp.com/catalog/2021-2022/program/communication-studies-associate-in-arts-for-transfer-summer-2019\n",
      "https://bakersfield.elumenapp.com/catalog/2021-2022/program/communication-studies-associate-in-arts-for-transfer-summer-2019\n",
      "https://bakersfield.elumenapp.com/catalog/2021-2022/program/communication-certificate-of-achievement-summer-2019\n",
      "https://bakersfield.elumenapp.com/catalog/2021-2022/program/communication-certificate-of-achievement-summer-2019\n",
      "https://bakersfield.elumenapp.com/catalog/2021-2022/program/english-associate-in-art-for-transfer-fall-2019\n",
      "https://bakersfield.elumenapp.com/catalog/2021-2022/program/english-associate-in-art-for-transfer-fall-2019\n",
      "https://bakersfield.elumenapp.com/catalog/2021-2022/program/english-for-multilingual-students-advanced-certificate-of-completion-nc\n",
      "https://bakersfield.elumenapp.com/catalog/2021-2022/program/english-for-multilingual-students-advanced-certificate-of-completion-nc\n",
      "https://bakersfield.elumenapp.com/catalog/2021-2022/program/english-for-multilingual-students-intermediate-certificate-of-competency-nc-summer-2020\n",
      "https://bakersfield.elumenapp.com/catalog/2021-2022/program/english-for-multilingual-students-intermediate-certificate-of-competency-nc-summer-2020\n",
      "https://bakersfield.elumenapp.com/catalog/2021-2022/program/english-for-multilingual-students-introduction-certificate-of-competency-nc\n",
      "https://bakersfield.elumenapp.com/catalog/2021-2022/program/english-for-multilingual-students-introduction-certificate-of-competency-nc\n",
      "https://bakersfield.elumenapp.com/catalog/2021-2022/program/english-for-multilingual-students-listening-speaking-certificate-of-competency-nc-summer-2020\n",
      "https://bakersfield.elumenapp.com/catalog/2021-2022/program/english-for-multilingual-students-listening-speaking-certificate-of-competency-nc-summer-2020\n",
      "https://bakersfield.elumenapp.com/catalog/2021-2022/program/english-for-multilingual-students-reading-certificate-of-competency-nc-summer-2020\n",
      "https://bakersfield.elumenapp.com/catalog/2021-2022/program/english-for-multilingual-students-reading-certificate-of-competency-nc-summer-2020\n",
      "https://bakersfield.elumenapp.com/catalog/2021-2022/program/english-for-multilingual-students-writing-certificate-of-competency-nc-summer-2020\n",
      "https://bakersfield.elumenapp.com/catalog/2021-2022/program/english-for-multilingual-students-writing-certificate-of-competency-nc-summer-2020\n",
      "https://bakersfield.elumenapp.com/catalog/2021-2022/program/graphic-design-certificate-of-achievement-spring-2018\n",
      "https://bakersfield.elumenapp.com/catalog/2021-2022/program/graphic-design-certificate-of-achievement-spring-2018\n",
      "https://bakersfield.elumenapp.com/catalog/2021-2022/program/japanese-associate-of-arts-summer-2020\n",
      "https://bakersfield.elumenapp.com/catalog/2021-2022/program/japanese-associate-of-arts-summer-2020\n",
      "https://bakersfield.elumenapp.com/catalog/2021-2022/program/journalism-associate-in-arts-for-transfer-summer-2019\n",
      "https://bakersfield.elumenapp.com/catalog/2021-2022/program/journalism-associate-in-arts-for-transfer-summer-2019\n",
      "https://bakersfield.elumenapp.com/catalog/2021-2022/program/media-arts-certificate-of-achievement-summer-2019\n",
      "https://bakersfield.elumenapp.com/catalog/2021-2022/program/media-arts-certificate-of-achievement-summer-2019\n",
      "https://bakersfield.elumenapp.com/catalog/2021-2022/program/music-associate-in-arts-for-transfer-summer-2021\n",
      "https://bakersfield.elumenapp.com/catalog/2021-2022/program/music-associate-in-arts-for-transfer-summer-2021\n",
      "https://bakersfield.elumenapp.com/catalog/2021-2022/program/philosophy-associate-in-arts-for-transfer-summer-2019\n",
      "https://bakersfield.elumenapp.com/catalog/2021-2022/program/philosophy-associate-in-arts-for-transfer-summer-2019\n",
      "https://bakersfield.elumenapp.com/catalog/2021-2022/program/photography-certificate-of-achievement-summer-2019\n",
      "https://bakersfield.elumenapp.com/catalog/2021-2022/program/photography-certificate-of-achievement-summer-2019\n",
      "https://bakersfield.elumenapp.com/catalog/2021-2022/program/spanish-associate-in-arts-for-transfer-fall-2019\n",
      "https://bakersfield.elumenapp.com/catalog/2021-2022/program/spanish-associate-in-arts-for-transfer-fall-2019\n",
      "https://bakersfield.elumenapp.com/catalog/2021-2022/program/studio-arts-associate-in-arts-for-transfer-summer-2019\n",
      "https://bakersfield.elumenapp.com/catalog/2021-2022/program/studio-arts-associate-in-arts-for-transfer-summer-2019\n",
      "https://bakersfield.elumenapp.com/catalog/2021-2022/program/theatre-arts-associate-in-arts-for-transfer-fall-2019\n",
      "https://bakersfield.elumenapp.com/catalog/2021-2022/program/theatre-arts-associate-in-arts-for-transfer-fall-2019\n",
      "https://bakersfield.elumenapp.com/catalog/2021-2022/program/accounting-associate-of-arts-spring-2018\n",
      "https://bakersfield.elumenapp.com/catalog/2021-2022/program/accounting-associate-of-arts-spring-2018\n",
      "https://bakersfield.elumenapp.com/catalog/2021-2022/program/administrative-office-assistant-associate-of-arts-spring-2021\n",
      "https://bakersfield.elumenapp.com/catalog/2021-2022/program/administrative-office-assistant-associate-of-arts-spring-2021\n",
      "https://bakersfield.elumenapp.com/catalog/2021-2022/program/basic-internet-skills-certificate-of-completion-nc-fall-2020\n",
      "https://bakersfield.elumenapp.com/catalog/2021-2022/program/basic-internet-skills-certificate-of-completion-nc-fall-2020\n",
      "https://bakersfield.elumenapp.com/catalog/2021-2022/program/basic-office-skills-certificate-of-completion-nc-spring-2020\n",
      "https://bakersfield.elumenapp.com/catalog/2021-2022/program/basic-office-skills-certificate-of-completion-nc-spring-2020\n",
      "https://bakersfield.elumenapp.com/catalog/2021-2022/program/basic-office-software-skills-certificate-of-completion-nc-spring-2020\n",
      "https://bakersfield.elumenapp.com/catalog/2021-2022/program/basic-office-software-skills-certificate-of-completion-nc-spring-2020\n",
      "https://bakersfield.elumenapp.com/catalog/2021-2022/program/beginning-computer-skills-certificate-of-completion-nc-fall-2020\n",
      "https://bakersfield.elumenapp.com/catalog/2021-2022/program/beginning-computer-skills-certificate-of-completion-nc-fall-2020\n",
      "https://bakersfield.elumenapp.com/catalog/2021-2022/program/bookkeeping-certificate-of-achievement-summer-2019\n",
      "https://bakersfield.elumenapp.com/catalog/2021-2022/program/bookkeeping-certificate-of-achievement-summer-2019\n",
      "https://bakersfield.elumenapp.com/catalog/2021-2022/program/business-administration-associate-in-science-for-transfer-summer-2019\n",
      "https://bakersfield.elumenapp.com/catalog/2021-2022/program/business-administration-associate-in-science-for-transfer-summer-2019\n",
      "https://bakersfield.elumenapp.com/catalog/2021-2022/program/business-administration-2-associate-in-science-fall-2021\n",
      "https://bakersfield.elumenapp.com/catalog/2021-2022/program/business-administration-2-associate-in-science-fall-2021\n",
      "https://bakersfield.elumenapp.com/catalog/2021-2022/program/comptia-certificate-of-achievement-fall-2019\n",
      "https://bakersfield.elumenapp.com/catalog/2021-2022/program/comptia-certificate-of-achievement-fall-2019\n",
      "https://bakersfield.elumenapp.com/catalog/2021-2022/program/customer-relations-certificate-of-completion-nc-fall-2020\n",
      "https://bakersfield.elumenapp.com/catalog/2021-2022/program/customer-relations-certificate-of-completion-nc-fall-2020\n",
      "https://bakersfield.elumenapp.com/catalog/2021-2022/program/digital-marketing-for-small-business-certificate-of-completion-nc-fall-2020\n",
      "https://bakersfield.elumenapp.com/catalog/2021-2022/program/digital-marketing-for-small-business-certificate-of-completion-nc-fall-2020\n",
      "https://bakersfield.elumenapp.com/catalog/2021-2022/program/economics-associate-in-arts-for-transfer-summer-2019\n",
      "https://bakersfield.elumenapp.com/catalog/2021-2022/program/economics-associate-in-arts-for-transfer-summer-2019\n",
      "https://bakersfield.elumenapp.com/catalog/2021-2022/program/entrepreneurship-certificate-of-completion-nc-fall-2020\n",
      "https://bakersfield.elumenapp.com/catalog/2021-2022/program/entrepreneurship-certificate-of-completion-nc-fall-2020\n",
      "https://bakersfield.elumenapp.com/catalog/2021-2022/program/general-business-job-skills-certificate-summer-2019\n",
      "https://bakersfield.elumenapp.com/catalog/2021-2022/program/general-business-job-skills-certificate-summer-2019\n",
      "https://bakersfield.elumenapp.com/catalog/2021-2022/program/logistics-management-associate-of-science-fall-2021\n",
      "https://bakersfield.elumenapp.com/catalog/2021-2022/program/logistics-management-associate-of-science-fall-2021\n",
      "https://bakersfield.elumenapp.com/catalog/2021-2022/program/logistics-management-certificate-of-completion-fall-2021\n",
      "https://bakersfield.elumenapp.com/catalog/2021-2022/program/logistics-management-certificate-of-completion-fall-2021\n",
      "https://bakersfield.elumenapp.com/catalog/2021-2022/program/office-assistant-certificate-of-achievement-summer-2019\n",
      "https://bakersfield.elumenapp.com/catalog/2021-2022/program/office-assistant-certificate-of-achievement-summer-2019\n",
      "https://bakersfield.elumenapp.com/catalog/2021-2022/program/office-assistant-job-skills-certificate-spring-2021\n",
      "https://bakersfield.elumenapp.com/catalog/2021-2022/program/office-assistant-job-skills-certificate-spring-2021\n",
      "https://bakersfield.elumenapp.com/catalog/2021-2022/program/powerful-presentation-certificate-of-completion-nc-fall-2020\n",
      "https://bakersfield.elumenapp.com/catalog/2021-2022/program/powerful-presentation-certificate-of-completion-nc-fall-2020\n",
      "https://bakersfield.elumenapp.com/catalog/2021-2022/program/quickbooks-basics-for-small-business-certificate-of-completion-nc-spring-2020\n",
      "https://bakersfield.elumenapp.com/catalog/2021-2022/program/quickbooks-basics-for-small-business-certificate-of-completion-nc-spring-2020\n",
      "https://bakersfield.elumenapp.com/catalog/2021-2022/program/recruiting-and-managing-employees-certificate-of-completion-nc-fall-2020\n",
      "https://bakersfield.elumenapp.com/catalog/2021-2022/program/recruiting-and-managing-employees-certificate-of-completion-nc-fall-2020\n",
      "https://bakersfield.elumenapp.com/catalog/2021-2022/program/sales-techniques-certificate-of-completion-nc-fall-2020\n",
      "https://bakersfield.elumenapp.com/catalog/2021-2022/program/sales-techniques-certificate-of-completion-nc-fall-2020\n",
      "https://bakersfield.elumenapp.com/catalog/2021-2022/program/applied-leadership-certificate-of-completion-fall-2021\n",
      "https://bakersfield.elumenapp.com/catalog/2021-2022/program/child-development-assistant-teacher-job-skills-certificate-summer-2018\n",
      "https://bakersfield.elumenapp.com/catalog/2021-2022/program/child-development-assistant-teacher-job-skills-certificate-summer-2018\n",
      "https://bakersfield.elumenapp.com/catalog/2021-2022/program/child-development-associate-teacher-job-skills-certificate-spring-2019\n",
      "https://bakersfield.elumenapp.com/catalog/2021-2022/program/child-development-associate-teacher-job-skills-certificate-spring-2019\n",
      "https://bakersfield.elumenapp.com/catalog/2021-2022/program/child-development-master-teacher-infant-toddler-certificate-of-achievement-summer-2019\n",
      "https://bakersfield.elumenapp.com/catalog/2021-2022/program/child-development-master-teacher-infant-toddler-certificate-of-achievement-summer-2019\n",
      "https://bakersfield.elumenapp.com/catalog/2021-2022/program/child-development-master-teacher-special-education-certificate-of-achievement-summer-2019\n",
      "https://bakersfield.elumenapp.com/catalog/2021-2022/program/child-development-master-teacher-special-education-certificate-of-achievement-summer-2019\n",
      "https://bakersfield.elumenapp.com/catalog/2021-2022/program/child-development-teacher-certificate-of-achievement-summer-2019\n",
      "https://bakersfield.elumenapp.com/catalog/2021-2022/program/child-development-teacher-certificate-of-achievement-summer-2019\n",
      "https://bakersfield.elumenapp.com/catalog/2021-2022/program/associate-in-science-in-early-childhood-education-for-transfer-spring-2018\n",
      "https://bakersfield.elumenapp.com/catalog/2021-2022/program/associate-in-science-in-early-childhood-education-for-transfer-spring-2018\n",
      "https://bakersfield.elumenapp.com/catalog/2021-2022/program/education-studies-associate-of-science\n",
      "https://bakersfield.elumenapp.com/catalog/2021-2022/program/education-studies-associate-of-science\n",
      "https://bakersfield.elumenapp.com/catalog/2021-2022/program/elementary-teacher-education-associate-in-arts-for-transter-summer-2020\n",
      "https://bakersfield.elumenapp.com/catalog/2021-2022/program/elementary-teacher-education-associate-in-arts-for-transter-summer-2020\n",
      "https://bakersfield.elumenapp.com/catalog/2021-2022/program/inclusive-and-accessible-digital-content-fall-2021\n",
      "https://bakersfield.elumenapp.com/catalog/2021-2022/program/inclusive-and-accessible-digital-content-fall-2021\n",
      "https://bakersfield.elumenapp.com/catalog/2021-2022/program/introduction-to-early-care-and-education-certificate-of-completion-nc-spring-2020\n",
      "https://bakersfield.elumenapp.com/catalog/2021-2022/program/introduction-to-early-care-and-education-certificate-of-completion-nc-spring-2020\n",
      "https://bakersfield.elumenapp.com/catalog/2021-2022/program/online-teaching-certificate-of-completion\n",
      "https://bakersfield.elumenapp.com/catalog/2021-2022/program/online-teaching-certificate-of-completion\n",
      "https://bakersfield.elumenapp.com/catalog/2021-2022/program/online-teaching-level-1-job-skills-certificate\n",
      "https://bakersfield.elumenapp.com/catalog/2021-2022/program/online-teaching-level-1-job-skills-certificate\n",
      "https://bakersfield.elumenapp.com/catalog/2021-2022/program/online-teaching-level-ii-certificate-of-achievement\n",
      "https://bakersfield.elumenapp.com/catalog/2021-2022/program/online-teaching-level-ii-certificate-of-achievement\n",
      "https://bakersfield.elumenapp.com/catalog/2021-2022/program/paraprofessional-level-i-certificate-of-achievement-spring-2020\n",
      "https://bakersfield.elumenapp.com/catalog/2021-2022/program/paraprofessional-level-i-certificate-of-achievement-spring-2020\n",
      "https://bakersfield.elumenapp.com/catalog/2021-2022/program/paraprofessional-level-ii-certificate-of-achievement-summer-2020\n",
      "https://bakersfield.elumenapp.com/catalog/2021-2022/program/paraprofessional-level-ii-certificate-of-achievement-summer-2020\n",
      "https://bakersfield.elumenapp.com/catalog/2021-2022/program/paraprofessional-level-iii-certificate-of-achievement-summer-2020\n",
      "https://bakersfield.elumenapp.com/catalog/2021-2022/program/paraprofessional-level-iii-certificate-of-achievement-summer-2020\n",
      "https://bakersfield.elumenapp.com/catalog/2021-2022/program/paraprofessional-level-iv-certificate-of-achievement\n",
      "https://bakersfield.elumenapp.com/catalog/2021-2022/program/paraprofessional-level-iv-certificate-of-achievement\n",
      "https://bakersfield.elumenapp.com/catalog/2021-2022/program/transitional-kindergarten-certificate-of-achievement-summer-2019\n",
      "https://bakersfield.elumenapp.com/catalog/2021-2022/program/transitional-kindergarten-certificate-of-achievement-summer-2019\n",
      "https://bakersfield.elumenapp.com/catalog/2021-2022/program/health-information-technology-associate-of-science-fall-2021\n",
      "https://bakersfield.elumenapp.com/catalog/2021-2022/program/health-information-technology-associate-of-science-fall-2021\n",
      "https://bakersfield.elumenapp.com/catalog/2021-2022/program/health-navigator-certificate-of-achievement-summer-2018\n",
      "https://bakersfield.elumenapp.com/catalog/2021-2022/program/health-navigator-certificate-of-achievement-summer-2018\n",
      "https://bakersfield.elumenapp.com/catalog/2021-2022/program/human-biology-associate-of-science-fall-2020\n",
      "https://bakersfield.elumenapp.com/catalog/2021-2022/program/human-biology-associate-of-science-fall-2020\n",
      "https://bakersfield.elumenapp.com/catalog/2021-2022/program/kinesiology-associate-in-arts-for-transfer-summer-2019\n",
      "https://bakersfield.elumenapp.com/catalog/2021-2022/program/kinesiology-associate-in-arts-for-transfer-summer-2019\n",
      "https://bakersfield.elumenapp.com/catalog/2021-2022/program/lvn-to-associate-degree-nursing-program-associate-of-science-fall-2019\n",
      "https://bakersfield.elumenapp.com/catalog/2021-2022/program/lvn-to-associate-degree-nursing-program-associate-of-science-fall-2019\n",
      "https://bakersfield.elumenapp.com/catalog/2021-2022/program/lvn-to-non-degree-nurse-30-unit-option-summer-2019\n",
      "https://bakersfield.elumenapp.com/catalog/2021-2022/program/lvn-to-non-degree-nurse-30-unit-option-summer-2019\n",
      "https://bakersfield.elumenapp.com/catalog/2021-2022/program/nurse-assistant-job-skills-certificate-summer-2019\n",
      "https://bakersfield.elumenapp.com/catalog/2021-2022/program/nurse-assistant-job-skills-certificate-summer-2019\n",
      "https://bakersfield.elumenapp.com/catalog/2021-2022/program/physical-therapist-assistant-associate-of-science-spring-2022\n",
      "https://bakersfield.elumenapp.com/catalog/2021-2022/program/physical-therapist-assistant-associate-of-science-spring-2022\n",
      "https://bakersfield.elumenapp.com/catalog/2021-2022/program/principles-of-fluoroscopy-job-skills-certificate-summer-2019\n",
      "https://bakersfield.elumenapp.com/catalog/2021-2022/program/principles-of-fluoroscopy-job-skills-certificate-summer-2019\n",
      "https://bakersfield.elumenapp.com/catalog/2021-2022/program/principles-of-venipuncture-job-skills-certificate-summer-2019\n",
      "https://bakersfield.elumenapp.com/catalog/2021-2022/program/principles-of-venipuncture-job-skills-certificate-summer-2019\n",
      "https://bakersfield.elumenapp.com/catalog/2021-2022/program/public-health-non-health-professionals-nc\n",
      "https://bakersfield.elumenapp.com/catalog/2021-2022/program/public-health-non-health-professionals-nc\n",
      "https://bakersfield.elumenapp.com/catalog/2021-2022/program/public-health-science-associate-in-science-for-transfer-summer-2021\n",
      "https://bakersfield.elumenapp.com/catalog/2021-2022/program/public-health-science-associate-in-science-for-transfer-summer-2021\n",
      "https://bakersfield.elumenapp.com/catalog/2021-2022/program/radiologic-technology-associate-of-science-summer-2019\n",
      "https://bakersfield.elumenapp.com/catalog/2021-2022/program/radiologic-technology-associate-of-science-summer-2019\n",
      "https://bakersfield.elumenapp.com/catalog/2021-2022/program/registered-nursing-associate-of-science-summer-2019\n",
      "https://bakersfield.elumenapp.com/catalog/2021-2022/program/registered-nursing-associate-of-science-summer-2019\n",
      "https://bakersfield.elumenapp.com/catalog/2021-2022/program/vocational-nursing-program-certificate-of-achievement-summer-2019\n",
      "https://bakersfield.elumenapp.com/catalog/2021-2022/program/vocational-nursing-program-certificate-of-achievement-summer-2019\n",
      "https://bakersfield.elumenapp.com/catalog/2021-2022/program/advanced-electrical-safety-and-arc-flash-certificate-of-completion-spring-2021\n",
      "https://bakersfield.elumenapp.com/catalog/2021-2022/program/advanced-electrical-safety-and-arc-flash-certificate-of-completion-spring-2021\n",
      "https://bakersfield.elumenapp.com/catalog/2021-2022/program/apprenticeshipassociateofarts\n",
      "https://bakersfield.elumenapp.com/catalog/2021-2022/program/apprenticeshipcertificateofachievement\n",
      "https://bakersfield.elumenapp.com/catalog/2021-2022/program/architectural-computer-aided-drafting-job-skills-certificate-summer-2019\n",
      "https://bakersfield.elumenapp.com/catalog/2021-2022/program/architectural-computer-aided-drafting-job-skills-certificate-summer-2019\n",
      "https://bakersfield.elumenapp.com/catalog/2021-2022/program/architecture-architectural-drafting-associate-of-science-fall-2018\n",
      "https://bakersfield.elumenapp.com/catalog/2021-2022/program/architecture-architectural-drafting-associate-of-science-fall-2018\n",
      "https://bakersfield.elumenapp.com/catalog/2021-2022/program/automatic-transmissions-certificate-of-achievement-summer-2018\n",
      "https://bakersfield.elumenapp.com/catalog/2021-2022/program/automatic-transmissions-certificate-of-achievement-summer-2018\n",
      "https://bakersfield.elumenapp.com/catalog/2021-2022/program/automotive-heating-air-conditioning-certificate-of-achievement-summer-2018\n",
      "https://bakersfield.elumenapp.com/catalog/2021-2022/program/automotive-heating-air-conditioning-certificate-of-achievement-summer-2018\n",
      "https://bakersfield.elumenapp.com/catalog/2021-2022/program/automotive-management-certificate-of-achievement-summer-2018\n",
      "https://bakersfield.elumenapp.com/catalog/2021-2022/program/automotive-management-certificate-of-achievement-summer-2018\n",
      "https://bakersfield.elumenapp.com/catalog/2021-2022/program/automotive-technology-associate-of-science-fall-2018\n",
      "https://bakersfield.elumenapp.com/catalog/2021-2022/program/automotive-technology-associate-of-science-fall-2018\n",
      "https://bakersfield.elumenapp.com/catalog/2021-2022/program/basic-machine-tool-operations-lathe-mill-job-skills-certificate-summer-2019\n",
      "https://bakersfield.elumenapp.com/catalog/2021-2022/program/basic-machine-tool-operations-lathe-mill-job-skills-certificate-summer-2019\n",
      "https://bakersfield.elumenapp.com/catalog/2021-2022/program/blueprint-reading-and-layout-for-welders-job-skills-certificate-summer-2019\n",
      "https://bakersfield.elumenapp.com/catalog/2021-2022/program/blueprint-reading-and-layout-for-welders-job-skills-certificate-summer-2019\n",
      "https://bakersfield.elumenapp.com/catalog/2021-2022/program/brake-system-certificate-of-achievement-summer-2018\n",
      "https://bakersfield.elumenapp.com/catalog/2021-2022/program/brake-system-certificate-of-achievement-summer-2018\n",
      "https://bakersfield.elumenapp.com/catalog/2021-2022/program/computer-numerical-control-programming-job-skills-summer-2019\n",
      "https://bakersfield.elumenapp.com/catalog/2021-2022/program/computer-numerical-control-programming-job-skills-summer-2019\n",
      "https://bakersfield.elumenapp.com/catalog/2021-2022/program/associate-of-science-degree-in-construction-management-summer-2018\n",
      "https://bakersfield.elumenapp.com/catalog/2021-2022/program/associate-of-science-degree-in-construction-management-summer-2018\n",
      "https://bakersfield.elumenapp.com/catalog/2021-2022/program/construction-technology-certificate-of-achievement-summer-2019\n",
      "https://bakersfield.elumenapp.com/catalog/2021-2022/program/construction-technology-certificate-of-achievement-summer-2019\n",
      "https://bakersfield.elumenapp.com/catalog/2021-2022/program/electrical-and-electronic-systems-certificate-of-achievement-summer-2018\n",
      "https://bakersfield.elumenapp.com/catalog/2021-2022/program/electrical-and-electronic-systems-certificate-of-achievement-summer-2018\n",
      "https://bakersfield.elumenapp.com/catalog/2021-2022/program/electrical-safety-certificate-of-completion-nc\n",
      "https://bakersfield.elumenapp.com/catalog/2021-2022/program/electrical-safety-certificate-of-completion-nc\n",
      "https://bakersfield.elumenapp.com/catalog/2021-2022/program/electronics-associate-of-science-summer-2019\n",
      "https://bakersfield.elumenapp.com/catalog/2021-2022/program/electronics-associate-of-science-summer-2019\n",
      "https://bakersfield.elumenapp.com/catalog/2021-2022/program/electronics-technology-certificate-of-achievement-summer-2019\n",
      "https://bakersfield.elumenapp.com/catalog/2021-2022/program/electronics-technology-certificate-of-achievement-summer-2019\n",
      "https://bakersfield.elumenapp.com/catalog/2021-2022/program/electronics-industrial-automation-job-skills-certificate-summer-2019\n",
      "https://bakersfield.elumenapp.com/catalog/2021-2022/program/electronics-industrial-automation-job-skills-certificate-summer-2019\n",
      "https://bakersfield.elumenapp.com/catalog/2021-2022/program/electronics-industrial-communications-job-skills-certificate-summer-2019\n",
      "https://bakersfield.elumenapp.com/catalog/2021-2022/program/electronics-industrial-communications-job-skills-certificate-summer-2019\n",
      "https://bakersfield.elumenapp.com/catalog/2021-2022/program/electronics-industrial-maintenance-job-skills-certificate-fall-2017\n",
      "https://bakersfield.elumenapp.com/catalog/2021-2022/program/electronics-industrial-maintenance-job-skills-certificate-fall-2017\n",
      "https://bakersfield.elumenapp.com/catalog/2021-2022/program/electronics-manufacturing-automation-job-skills-certificate-spring-2018\n",
      "https://bakersfield.elumenapp.com/catalog/2021-2022/program/electronics-manufacturing-automation-job-skills-certificate-spring-2018\n",
      "https://bakersfield.elumenapp.com/catalog/2021-2022/program/engine-overhaul-and-repair-certificate-of-achievement-summer-2018\n",
      "https://bakersfield.elumenapp.com/catalog/2021-2022/program/engine-overhaul-and-repair-certificate-of-achievement-summer-2018\n",
      "https://bakersfield.elumenapp.com/catalog/2021-2022/program/engine-performance-certificate-of-achievement-summer-2018\n",
      "https://bakersfield.elumenapp.com/catalog/2021-2022/program/engine-performance-certificate-of-achievement-summer-2018\n",
      "https://bakersfield.elumenapp.com/catalog/2021-2022/program/engineering-technology-associate-of-science-fall-2018\n",
      "https://bakersfield.elumenapp.com/catalog/2021-2022/program/engineering-technology-associate-of-science-fall-2018\n",
      "https://bakersfield.elumenapp.com/catalog/2021-2022/program/engineering-technology-certificate-of-achievement-summer-2019\n",
      "https://bakersfield.elumenapp.com/catalog/2021-2022/program/engineering-technology-certificate-of-achievement-summer-2019\n",
      "https://bakersfield.elumenapp.com/catalog/2021-2022/program/gas-metal-arc-gas-tungsten-arc-flux-core-arc-welding-job-skills-certificate-summer-2019\n",
      "https://bakersfield.elumenapp.com/catalog/2021-2022/program/gas-metal-arc-gas-tungsten-arc-flux-core-arc-welding-job-skills-certificate-summer-2019\n",
      "https://bakersfield.elumenapp.com/catalog/2021-2022/program/hvac-technology-associate-of-science-summer-2019\n",
      "https://bakersfield.elumenapp.com/catalog/2021-2022/program/hvac-technology-associate-of-science-summer-2019\n",
      "https://bakersfield.elumenapp.com/catalog/2021-2022/program/hvac-technology-certificate-of-achievement-summer-2019\n",
      "https://bakersfield.elumenapp.com/catalog/2021-2022/program/hvac-technology-certificate-of-achievement-summer-2019\n",
      "https://bakersfield.elumenapp.com/catalog/2021-2022/program/industrial-automation-bachelor-of-science-summer-2020\n",
      "https://bakersfield.elumenapp.com/catalog/2021-2022/program/industrial-automation-bachelor-of-science-summer-2020\n",
      "https://bakersfield.elumenapp.com/catalog/2021-2022/program/industrial-automation-associate-of-science-fall-2019\n",
      "https://bakersfield.elumenapp.com/catalog/2021-2022/program/industrial-automation-associate-of-science-fall-2019\n",
      "https://bakersfield.elumenapp.com/catalog/2021-2022/program/industrial-automation-certificate-of-achievement-fall-2018\n",
      "https://bakersfield.elumenapp.com/catalog/2021-2022/program/industrial-automation-certificate-of-achievement-fall-2018\n",
      "https://bakersfield.elumenapp.com/catalog/2021-2022/program/industrial-drawing-associate-of-science-summer-2019\n",
      "https://bakersfield.elumenapp.com/catalog/2021-2022/program/industrial-drawing-associate-of-science-summer-2019\n",
      "https://bakersfield.elumenapp.com/catalog/2021-2022/program/industrial-drawing-certificate-of-achievement-fall-2018\n",
      "https://bakersfield.elumenapp.com/catalog/2021-2022/program/industrial-drawing-certificate-of-achievement-fall-2018\n",
      "https://bakersfield.elumenapp.com/catalog/2021-2022/program/industrial-drawing-autocad-job-skills-certificate-summer-2019\n",
      "https://bakersfield.elumenapp.com/catalog/2021-2022/program/industrial-drawing-autocad-job-skills-certificate-summer-2019\n",
      "https://bakersfield.elumenapp.com/catalog/2021-2022/program/industrial-technology-associate-of-science-summer-2019\n",
      "https://bakersfield.elumenapp.com/catalog/2021-2022/program/industrial-technology-associate-of-science-summer-2019\n",
      "https://bakersfield.elumenapp.com/catalog/2021-2022/program/introduction-to-welding-certificate-of-completion-summer-2022\n",
      "https://bakersfield.elumenapp.com/catalog/2021-2022/program/introduction-to-welding-certificate-of-completion-summer-2022\n",
      "https://bakersfield.elumenapp.com/catalog/2021-2022/program/light-duty-diesel-performance-certificate-of-achievement-summer-2018\n",
      "https://bakersfield.elumenapp.com/catalog/2021-2022/program/light-duty-diesel-performance-certificate-of-achievement-summer-2018\n",
      "https://bakersfield.elumenapp.com/catalog/2021-2022/program/manual-drive-train-and-axles-certificate-of-achievement-summer-2018\n",
      "https://bakersfield.elumenapp.com/catalog/2021-2022/program/manufacturing-technology-associate-of-science-summer-2019\n",
      "https://bakersfield.elumenapp.com/catalog/2021-2022/program/manufacturing-technology-associate-of-science-summer-2019\n",
      "https://bakersfield.elumenapp.com/catalog/2021-2022/program/manufacturing-technology-certificate-of-achievement-summer-2019\n",
      "https://bakersfield.elumenapp.com/catalog/2021-2022/program/manufacturing-technology-certificate-of-achievement-summer-2019\n",
      "https://bakersfield.elumenapp.com/catalog/2021-2022/program/manufacturing-metal-fabrication-technology-associate-of-science-summer-2018\n",
      "https://bakersfield.elumenapp.com/catalog/2021-2022/program/manufacturing-metal-fabrication-technology-associate-of-science-summer-2018\n",
      "https://bakersfield.elumenapp.com/catalog/2021-2022/program/occupational-safety-and-risk-management-agriculture-associate-in-science-summer-2020\n",
      "https://bakersfield.elumenapp.com/catalog/2021-2022/program/occupational-safety-and-risk-management-agriculture-associate-in-science-summer-2020\n",
      "https://bakersfield.elumenapp.com/catalog/2021-2022/program/associate-in-science-occupational-safety-and-risk-management-business-summer-2018\n",
      "https://bakersfield.elumenapp.com/catalog/2021-2022/program/associate-in-science-occupational-safety-and-risk-management-business-summer-2018\n",
      "https://bakersfield.elumenapp.com/catalog/2021-2022/program/occupational-safety-and-risk-management-health-science-associate-in-science-summer-2020\n",
      "https://bakersfield.elumenapp.com/catalog/2021-2022/program/occupational-safety-and-risk-management-health-science-associate-in-science-summer-2020\n",
      "https://bakersfield.elumenapp.com/catalog/2021-2022/program/occupational-safety-and-risk-management-industrial-technology-associate-in-science-summer-2020\n",
      "https://bakersfield.elumenapp.com/catalog/2021-2022/program/occupational-safety-and-risk-management-industrial-technology-associate-in-science-summer-2020\n",
      "https://bakersfield.elumenapp.com/catalog/2021-2022/program/occupational-safety-and-risk-management-certificate-of-achievement-fall-2020\n",
      "https://bakersfield.elumenapp.com/catalog/2021-2022/program/occupational-safety-and-risk-management-certificate-of-achievement-fall-2020\n",
      "https://bakersfield.elumenapp.com/catalog/2021-2022/program/process-technology-associate-of-science-summer-2020\n",
      "https://bakersfield.elumenapp.com/catalog/2021-2022/program/process-technology-associate-of-science-summer-2020\n",
      "https://bakersfield.elumenapp.com/catalog/2021-2022/program/process-technology-certificate-of-achievement-summer-2019\n",
      "https://bakersfield.elumenapp.com/catalog/2021-2022/program/process-technology-certificate-of-achievement-summer-2019\n",
      "https://bakersfield.elumenapp.com/catalog/2021-2022/program/shielded-metal-arc-welding-job-skills-certificate-summer-2019\n",
      "https://bakersfield.elumenapp.com/catalog/2021-2022/program/shielded-metal-arc-welding-job-skills-certificate-summer-2019\n",
      "https://bakersfield.elumenapp.com/catalog/2021-2022/program/suspension-and-steering-certificate-of-achievement-summer-2018\n",
      "https://bakersfield.elumenapp.com/catalog/2021-2022/program/suspension-and-steering-certificate-of-achievement-summer-2018\n",
      "https://bakersfield.elumenapp.com/catalog/2021-2022/program/welding-associate-of-science-summer-2019\n",
      "https://bakersfield.elumenapp.com/catalog/2021-2022/program/welding-associate-of-science-summer-2019\n",
      "https://bakersfield.elumenapp.com/catalog/2021-2022/program/welding-certificate-of-achievement-summer-2019\n",
      "https://bakersfield.elumenapp.com/catalog/2021-2022/program/welding-certificate-of-achievement-summer-2019\n",
      "https://bakersfield.elumenapp.com/catalog/2021-2022/program/welding-certification-job-skills-certificate-fall-2017\n",
      "https://bakersfield.elumenapp.com/catalog/2021-2022/program/welding-certification-job-skills-certificate-fall-2017\n",
      "https://bakersfield.elumenapp.com/catalog/2021-2022/program/woodworking-cabinetmaking-associate-of-science-spring-2019\n",
      "https://bakersfield.elumenapp.com/catalog/2021-2022/program/woodworking-cabinetmaking-associate-of-science-spring-2019\n",
      "https://bakersfield.elumenapp.com/catalog/2021-2022/program/woodworking-cabinetmaking-certificate-of-achievement-summer-2019\n",
      "https://bakersfield.elumenapp.com/catalog/2021-2022/program/woodworking-cabinetmaking-certificate-of-achievement-summer-2019\n",
      "https://bakersfield.elumenapp.com/catalog/2021-2022/program/woodworking-cabinetmaking-job-skills-certificate-spring-2018\n",
      "https://bakersfield.elumenapp.com/catalog/2021-2022/program/woodworking-cabinetmaking-job-skills-certificate-spring-2018\n",
      "https://bakersfield.elumenapp.com/catalog/2021-2022/program/administration-of-justice-associate-in-science-for-transfer-summer-2021\n",
      "https://bakersfield.elumenapp.com/catalog/2021-2022/program/administration-of-justice-associate-in-science-for-transfer-summer-2021\n",
      "https://bakersfield.elumenapp.com/catalog/2021-2022/program/correctional-administration-associate-of-arts-fall-2018\n",
      "https://bakersfield.elumenapp.com/catalog/2021-2022/program/correctional-administration-associate-of-arts-fall-2018\n",
      "https://bakersfield.elumenapp.com/catalog/2021-2022/program/criminal-justice-associate-of-arts-summer-2019\n",
      "https://bakersfield.elumenapp.com/catalog/2021-2022/program/criminal-justice-associate-of-arts-summer-2019\n",
      "https://bakersfield.elumenapp.com/catalog/2021-2022/program/emergency-medical-technician-job-skills-certificate-spring-2020\n",
      "https://bakersfield.elumenapp.com/catalog/2021-2022/program/emergency-medical-technician-job-skills-certificate-spring-2020\n",
      "https://bakersfield.elumenapp.com/catalog/2021-2022/program/executive-chief-fire-officer-certificate-of-achievement-summer-2018\n",
      "https://bakersfield.elumenapp.com/catalog/2021-2022/program/executive-chief-fire-officer-certificate-of-achievement-summer-2018\n",
      "https://bakersfield.elumenapp.com/catalog/2021-2022/program/fire-academy-job-skills-certificate-summer-2019\n",
      "https://bakersfield.elumenapp.com/catalog/2021-2022/program/fire-academy-job-skills-certificate-summer-2019\n",
      "https://bakersfield.elumenapp.com/catalog/2021-2022/program/fire-technology-associate-of-arts-fall-2018\n",
      "https://bakersfield.elumenapp.com/catalog/2021-2022/program/fire-technology-associate-of-arts-fall-2018\n",
      "https://bakersfield.elumenapp.com/catalog/2021-2022/program/fire-technology-certificate-of-achievement-summer-2019\n",
      "https://bakersfield.elumenapp.com/catalog/2021-2022/program/fire-technology-certificate-of-achievement-summer-2019\n",
      "https://bakersfield.elumenapp.com/catalog/2021-2022/program/fire-fighter-i-academy-certificate-of-achievement-fall-2019\n",
      "https://bakersfield.elumenapp.com/catalog/2021-2022/program/fire-fighter-i-academy-certificate-of-achievement-fall-2019\n",
      "https://bakersfield.elumenapp.com/catalog/2021-2022/program/paramedic-program-associate-of-science-summer-2019\n",
      "https://bakersfield.elumenapp.com/catalog/2021-2022/program/paramedic-program-associate-of-science-summer-2019\n",
      "https://bakersfield.elumenapp.com/catalog/2021-2022/program/paramedic-certificate-of-achievement-summer-2019\n",
      "https://bakersfield.elumenapp.com/catalog/2021-2022/program/paramedic-certificate-of-achievement-summer-2019\n",
      "https://bakersfield.elumenapp.com/catalog/2021-2022/program/wildland-firefighting-associate-of-science-fall-2018\n",
      "https://bakersfield.elumenapp.com/catalog/2021-2022/program/wildland-firefighting-associate-of-science-fall-2018\n",
      "https://bakersfield.elumenapp.com/catalog/2021-2022/program/wildland-firefighting-job-skills-certificate-summer-2019\n",
      "https://bakersfield.elumenapp.com/catalog/2021-2022/program/wildland-firefighting-job-skills-certificate-summer-2019\n",
      "https://bakersfield.elumenapp.com/catalog/2021-2022/program/associate-in-arts-in-anthropology-for-transfer-spring-2018\n",
      "https://bakersfield.elumenapp.com/catalog/2021-2022/program/associate-in-arts-in-anthropology-for-transfer-spring-2018\n",
      "https://bakersfield.elumenapp.com/catalog/2021-2022/program/history-associate-in-arts-for-transfer-summer-2019\n",
      "https://bakersfield.elumenapp.com/catalog/2021-2022/program/history-associate-in-arts-for-transfer-summer-2019\n",
      "https://bakersfield.elumenapp.com/catalog/2021-2022/program/human-services-associate-of-arts-summer-2019\n",
      "https://bakersfield.elumenapp.com/catalog/2021-2022/program/human-services-associate-of-arts-summer-2019\n",
      "https://bakersfield.elumenapp.com/catalog/2021-2022/program/human-services-job-skills-certificate-summer-2019\n",
      "https://bakersfield.elumenapp.com/catalog/2021-2022/program/human-services-job-skills-certificate-summer-2019\n",
      "https://bakersfield.elumenapp.com/catalog/2021-2022/program/pathwaytolawschool\n",
      "https://bakersfield.elumenapp.com/catalog/2021-2022/program/political-science-associate-in-arts-for-transfer-summer-2019\n",
      "https://bakersfield.elumenapp.com/catalog/2021-2022/program/psychology-associate-in-arts-degree-for-transfer-spring-2018\n",
      "https://bakersfield.elumenapp.com/catalog/2021-2022/program/psychology-associate-in-arts-degree-for-transfer-spring-2018\n",
      "https://bakersfield.elumenapp.com/catalog/2021-2022/program/social-justice-studies-aa-t-summer-2021\n",
      "https://bakersfield.elumenapp.com/catalog/2021-2022/program/social-justice-studies-aa-t-summer-2021\n",
      "https://bakersfield.elumenapp.com/catalog/2021-2022/program/sociology-associate-in-arts-for-transfer-fall-2021\n",
      "https://bakersfield.elumenapp.com/catalog/2021-2022/program/sociology-associate-in-arts-for-transfer-fall-2021\n",
      "https://bakersfield.elumenapp.com/catalog/2021-2022/program/biology-associate-in-science-for-transfer-degree-fall-2019\n",
      "https://bakersfield.elumenapp.com/catalog/2021-2022/program/biology-associate-in-science-for-transfer-degree-fall-2019\n",
      "https://bakersfield.elumenapp.com/catalog/2021-2022/program/chemistry-associate-in-science-for-transfer-summer-2019\n",
      "https://bakersfield.elumenapp.com/catalog/2021-2022/program/chemistry-associate-in-science-for-transfer-summer-2019\n",
      "https://bakersfield.elumenapp.com/catalog/2021-2022/program/chemistry-associate-in-science-for-uc-fall-2020\n",
      "https://bakersfield.elumenapp.com/catalog/2021-2022/program/associate-in-science-in-computer-science-for-transfer-spring-2018\n",
      "https://bakersfield.elumenapp.com/catalog/2021-2022/program/engineering-associate-of-science-fall-2018\n",
      "https://bakersfield.elumenapp.com/catalog/2021-2022/program/environmental-science-associate-in-science-for-transfer-fall-2019\n",
      "https://bakersfield.elumenapp.com/catalog/2021-2022/program/geology-associate-of-science-for-transfer-summer-2019\n",
      "https://bakersfield.elumenapp.com/catalog/2021-2022/program/information-technology-certificate-of-achievement-spring-2019\n",
      "https://bakersfield.elumenapp.com/catalog/2021-2022/program/associate-in-science-in-math-for-transfer-fall-2018\n",
      "https://bakersfield.elumenapp.com/catalog/2021-2022/program/associate-in-science-in-physics-for-transfer-spring-2018\n",
      "https://bakersfield.elumenapp.com/catalog/2021-2022/program/physics-associate-in-science-for-uc-summer-2020\n",
      "https://bakersfield.elumenapp.com/catalog/2021-2022/program/web-design-and-development-certificate-of-achievement-summer-2019\n",
      "https://bakersfield.elumenapp.com/catalog/2021-2022/program/california-state-university-csu-general-education-breadth-certificate-of-achievement-summer-2019\n",
      "https://bakersfield.elumenapp.com/catalog/2021-2022/program/intersegmental-general-education-transfer-igetc-general-education-certificate-of-achievement-summer-2018\n",
      "https://bakersfield.elumenapp.com/catalog/2021-2022/program/intersegmental-general-education-transfer-igetc-for-stem-general-education-certificate-of-achievement-summer-2019\n",
      "https://bakersfield.elumenapp.com/catalog/2021-2022/program/liberal-arts-associate-of-arts-summer-2018\n",
      "https://bakersfield.elumenapp.com/catalog/2021-2022/program/forestry-associate-of-arts-summer-2019\n"
     ]
    }
   ],
   "source": [
    "# # print(get_outcomes('https://bakersfield.elumenapp.com/catalog/2021-2022/program/agriculture-animal-science-associate-in-science-for-transfer-summer-2019#mainContent'))\n",
    "# mapToOutcomes = {}\n",
    "for x in range(len(dct.keys())):\n",
    "    try:\n",
    "        i = list(dct.keys())[x]\n",
    "        print(dct[i])\n",
    "        mapToOutcomes[i] = get_outcomes(dct[i])\n",
    "        # print(dct[i])\n",
    "    except:\n",
    "        pass"
   ]
  },
  {
   "cell_type": "code",
   "execution_count": 14,
   "id": "895871f9-e028-448f-bc82-b9a325adea1e",
   "metadata": {
    "tags": []
   },
   "outputs": [
    {
     "name": "stdout",
     "output_type": "stream",
     "text": [
      "\n"
     ]
    }
   ],
   "source": [
    "print()"
   ]
  },
  {
   "cell_type": "code",
   "execution_count": 16,
   "id": "5dbae72d-04a3-4fde-88f8-7ff69f577d3b",
   "metadata": {
    "tags": []
   },
   "outputs": [],
   "source": [
    "import json \n",
    "cnto = open('courseNameToOutcomes.json', 'w')\n",
    "json.dump(mapToOutcomes, cnto)"
   ]
  },
  {
   "cell_type": "code",
   "execution_count": 17,
   "id": "3b039bf0-abf6-4346-a245-8ad73ba79866",
   "metadata": {
    "tags": []
   },
   "outputs": [
    {
     "name": "stdout",
     "output_type": "stream",
     "text": [
      "199\n"
     ]
    }
   ],
   "source": [
    "# print((mapToOutcomes.keys()))\n",
    "print(len(dct.keys()))"
   ]
  },
  {
   "cell_type": "code",
   "execution_count": 18,
   "id": "1bc38bd9",
   "metadata": {
    "tags": []
   },
   "outputs": [],
   "source": [
    "\n",
    "def get_program_names():\n",
    "    start = False\n",
    "    courseKeys = [ ]\n",
    "    courses = {}\n",
    "\n",
    "    for key in dct.keys():\n",
    "\n",
    "        if (start):\n",
    "            if (key == \"Registered Veterinary Technician Job Skills Certificate\"):\n",
    "                break\n",
    "            courses[key]=dct[key]\n",
    "            courseKeys.append(key)\n",
    "        elif (key == \"Agriculture Animal Science Associate in Science for Transfer\"):\n",
    "            start = True\n",
    "            courseKeys.append(key)\n",
    "    return (courseKeys, courses)\n",
    "(courseKeys, courses) = get_program_names()\n"
   ]
  },
  {
   "cell_type": "code",
   "execution_count": 21,
   "id": "418fa618-b950-4e08-b545-c9a54510be01",
   "metadata": {
    "tags": []
   },
   "outputs": [],
   "source": [
    "import json\n",
    "coursesAndLinks = open(\"coursesAndLinks.json\", 'w')\n",
    "json.dump(courses, coursesAndLinks)\n",
    "# print(courses)"
   ]
  },
  {
   "cell_type": "code",
   "execution_count": null,
   "id": "dfeb4175",
   "metadata": {},
   "outputs": [],
   "source": [
    "# elements = []\n",
    "\n",
    "# for i in courseKeys:\n",
    "#     driver = webdriver.Chrome()\n",
    "#     # print(dct[i])\n",
    "#     driver.get(dct[i])\n",
    "#     time.sleep(4)\n",
    "#     tag = driver.find_elements(By.TAG_NAME, \"tbody\")\n",
    "#     print(len(tag))\n",
    "#     driver.close()\n",
    "#     for i in tag:\n",
    "#         elements.append(i)\n",
    "        \n",
    "#         # d = i.find_element(By.TAG_NAME, \"th\")\n",
    "#         print(d)\n",
    "#     print(len(elements))\n",
    "#     # print(len(tag))\n",
    "\n"
   ]
  },
  {
   "cell_type": "code",
   "execution_count": 35,
   "id": "50005827",
   "metadata": {},
   "outputs": [
    {
     "name": "stdout",
     "output_type": "stream",
     "text": [
      "<selenium.webdriver.remote.webelement.WebElement (session=\"5a97f686c4e735100fa69acd8f8e073d\", element=\"87fb24be-84f1-4ccf-ae2c-e528f6d98a2c\")>\n",
      "<selenium.webdriver.remote.webelement.WebElement (session=\"5a97f686c4e735100fa69acd8f8e073d\", element=\"569909e1-430c-48f2-961b-cba6fb853570\")>\n",
      "<selenium.webdriver.remote.webelement.WebElement (session=\"5a97f686c4e735100fa69acd8f8e073d\", element=\"0904408a-5f16-4132-9795-e0e5dc8c4500\")>\n",
      "<selenium.webdriver.remote.webelement.WebElement (session=\"5a97f686c4e735100fa69acd8f8e073d\", element=\"66cc7e76-01ba-4e8b-ab09-b3ed927f68b4\")>\n",
      "<selenium.webdriver.remote.webelement.WebElement (session=\"5a97f686c4e735100fa69acd8f8e073d\", element=\"f2e0432e-2b15-4b6d-aaf2-1da9713565d0\")>\n"
     ]
    }
   ],
   "source": [
    "driver = webdriver.Chrome()\n",
    "elements = []\n",
    "\n",
    "\n",
    "lnk = 'https://bakersfield.elumenapp.com/catalog/2021-2022/program/agriculture-animal-science-associate-in-science-for-transfer-summer-2019'\n",
    "driver.get(lnk)\n",
    "time.sleep(4)\n",
    "tag = driver.find_elements(By.TAG_NAME, \"tbody\")\n",
    "for i in tag:\n",
    "    elements.append(i)\n",
    "    d = i.find_element(By.TAG_NAME, \"th\")\n",
    "\n"
   ]
  },
  {
   "cell_type": "code",
   "execution_count": 23,
   "id": "8695c7b3",
   "metadata": {
    "scrolled": true,
    "tags": []
   },
   "outputs": [
    {
     "name": "stdout",
     "output_type": "stream",
     "text": [
      "Animal Science Associate of Science\n",
      "Animal Science Certificate of Achievement\n",
      "Culinary Arts Associate of Science\n",
      "Culinary Arts Certificate of Achievement\n",
      "Dietetic Services Supervisor Certificate of Achievement\n",
      "Environmental Horticulture Associate of Science\n",
      "Environmental Horticulture Certificate of Achievement\n",
      "Food Science Technology Certificate of Achievement\n",
      "Food Service Management Associate of Science\n",
      "Forestry Associate of Science\n",
      "Forestry Certificate of Achievement\n",
      "Heavy Equipment Technician Certificate of Achievement\n",
      "Mechanized Agriculture Associate of Science\n",
      "Nutrition and Dietetics Associate of Science for Transfer\n",
      "Plant Science Associate of Science\n",
      "Plant Science Certificate of Achievement\n",
      "Pre-Veterinary Medicine\n"
     ]
    }
   ],
   "source": [
    "def get_courses(courseKey, dct):\n",
    "    dst = {}\n",
    "    # for x in range(len(courseKeys)):\n",
    "    i = courseKey\n",
    "\n",
    "    driver = webdriver.Chrome()\n",
    "    driver.get(dct[i])\n",
    "    time.sleep(4)\n",
    "\n",
    "    tag = driver.find_elements(By.TAG_NAME, \"tbody\")\n",
    "    for i in tag:\n",
    "        try: \n",
    "            d = i.find_elements(By.TAG_NAME, \"tr\")\n",
    "        except:\n",
    "            continue\n",
    "\n",
    "        for a in d:\n",
    "#                 print(\"HI\")\n",
    "            if (len(a.find_elements(By.TAG_NAME, \"th\")) == 0):\n",
    "                continue\n",
    "            try: \n",
    "#                     print(\"H\")\n",
    "                header = a.find_element(By.TAG_NAME, \"th\")\n",
    "#                     print(\"S\")\n",
    "                s = header.find_element(By.TAG_NAME, \"a\")\n",
    "#                     print(\"TD\")\n",
    "                td = a.find_element(By.TAG_NAME, \"td\")\n",
    "#                     print(\"DST\")\n",
    "                dst[s.get_attribute(\"innerHTML\").strip()] = [s.get_attribute(\"href\"), td.get_attribute(\"innerHTML\").strip()]\n",
    "            except:\n",
    "                return dst\n",
    "                pass\n",
    "    return dst\n",
    "\n",
    "dctionary={}\n",
    "for i in range(1, len(courseKeys)):\n",
    "               \n",
    "    try: \n",
    "        key = courseKeys[i]\n",
    "        print(key)\n",
    "        tempDct = {}\n",
    "        tempDct['name'] = key\n",
    "        tempDct['link'] = courses[key]\n",
    "        tempDct['courses'] = get_courses(key, dct)\n",
    "        tempDct['description'] = mapToOutcomes[key]\n",
    "        dctionary[i] = tempDct\n",
    "    except:\n",
    "        pass\n",
    "\n",
    "# print(courses['Animal Science Associate of Science'])\n",
    "# print(courseKeys[1])\n",
    "# courses = get_courses(courseKeys, dct)\n",
    "# print(courses)"
   ]
  },
  {
   "cell_type": "code",
   "execution_count": 26,
   "id": "a910ac0d-9097-42a2-95f5-0e9c9271651e",
   "metadata": {
    "tags": []
   },
   "outputs": [
    {
     "name": "stdout",
     "output_type": "stream",
     "text": [
      "{1: {'name': 'Animal Science Associate of Science', 'link': 'https://bakersfield.elumenapp.com/catalog/2021-2022/program/animal-science-associate-of-science-summer-2018', 'courses': {'AGBSB2 - Agricultural Economics': ['https://bakersfield.elumenapp.com/catalog/2021-2022/course/agbsb2', '3.0'], 'AGRIB1 - Agriculture, Environment and Society': ['https://bakersfield.elumenapp.com/catalog/2021-2022/course/agrib1', '3.0'], 'ANSCB1 - Introduction to Animal Science': ['https://bakersfield.elumenapp.com/catalog/2021-2022/course/anscb1', '3.0'], 'AGRIB49 - Agriculture Leadership Training': ['https://bakersfield.elumenapp.com/catalog/2021-2022/course/agrib49', '2.0'], 'ANSCB2 - Beef Production': ['https://bakersfield.elumenapp.com/catalog/2021-2022/course/anscb2', '3.0'], 'ANSCB3 - Sheep Production': ['https://bakersfield.elumenapp.com/catalog/2021-2022/course/anscb3', '3.0'], 'ANSCB4 - Dairy Production': ['https://bakersfield.elumenapp.com/catalog/2021-2022/course/anscb4', '3.0'], 'ANSCB5 - Swine Production': ['https://bakersfield.elumenapp.com/catalog/2021-2022/course/anscb5', '3.0'], 'ANSCB10 - Horse Production': ['https://bakersfield.elumenapp.com/catalog/2021-2022/course/anscb10', '3.0'], 'ANSCB6 - Applied Animal Nutrition': ['https://bakersfield.elumenapp.com/catalog/2021-2022/course/anscb6', '4.0'], 'ANSCB7 - Animal Diseases': ['https://bakersfield.elumenapp.com/catalog/2021-2022/course/anscb7', '3.0'], 'ANSCB11 - Livestock Selection/Evaluation': ['https://bakersfield.elumenapp.com/catalog/2021-2022/course/anscb11', '3.0']}, 'description': ('The Animal Science major prepares students for occupations\\nin those areas of agriculture that involve livestock production\\nand related agribusinesses. Both the scientific and practical\\naspects of the production of horse, beef, sheep, swine, dairy cattle, poultry, and companion animals are the focus of courses.\\n\\nTo Achieve the Associate of Science:\\nUpon completion of graduation requirements and the required\\ndegree courses with at least a ‘C’ grade in each course, the student will be awarded an Associate of Science degree.', '1. Demonstrate AI procedures, proper record keeping in the field of animal science, and skills in day to day animal production\\nsuch as proper care, feeding, and reproduction.\\n2. Be able to practice proper basic principles of animal safety, evaluate performance such as growth and feed conservation.\\n3. Demonstrate specific skills in animal science such as production, genetics, and nutrition within the animal science\\ndiscipline needed for employment.\\n4. Identify conformation qualities in cattle, sheep, and swine.\\n')}, 2: {'name': 'Animal Science Certificate of Achievement', 'link': 'https://bakersfield.elumenapp.com/catalog/2021-2022/program/animal-science-certificate-of-achievement-summer-2019', 'courses': {'AGRIB1 - Agriculture, Environment and Society': ['https://bakersfield.elumenapp.com/catalog/2021-2022/course/agrib1', '3.0'], 'ANSCB1 - Introduction to Animal Science': ['https://bakersfield.elumenapp.com/catalog/2021-2022/course/anscb1', '3.0'], 'AGRIB49 - Agriculture Leadership Training': ['https://bakersfield.elumenapp.com/catalog/2021-2022/course/agrib49', '2.0'], 'ANSCB2 - Beef Production': ['https://bakersfield.elumenapp.com/catalog/2021-2022/course/anscb2', '3.0'], 'ANSCB3 - Sheep Production': ['https://bakersfield.elumenapp.com/catalog/2021-2022/course/anscb3', '3.0'], 'ANSCB4 - Dairy Production': ['https://bakersfield.elumenapp.com/catalog/2021-2022/course/anscb4', '3.0'], 'ANSCB6 - Applied Animal Nutrition': ['https://bakersfield.elumenapp.com/catalog/2021-2022/course/anscb6', '4.0'], 'ANSCB7 - Animal Diseases': ['https://bakersfield.elumenapp.com/catalog/2021-2022/course/anscb7', '3.0'], 'ANSCB10 - Horse Production': ['https://bakersfield.elumenapp.com/catalog/2021-2022/course/anscb10', '3.0'], 'ANSCB11 - Livestock Selection/Evaluation': ['https://bakersfield.elumenapp.com/catalog/2021-2022/course/anscb11', '3.0'], 'ANSCB22 - Animals and Society': ['https://bakersfield.elumenapp.com/catalog/2021-2022/course/anscb22', '3.0'], 'ANSCB83 - Introduction to Veterinary Technology': ['https://bakersfield.elumenapp.com/catalog/2021-2022/course/anscb83', '4.0'], 'NRESB1 - Range Management': ['https://bakersfield.elumenapp.com/catalog/2021-2022/course/nresb1', '3.0'], 'CRPSB2 - Forage Crops': ['https://bakersfield.elumenapp.com/catalog/2021-2022/course/crpsb2', '3.0']}, 'description': ('Animal Science Certificate of Achievement Certificate\\nprepares students for entry level employment in food\\nanimal production and animal management and care. This\\nprogram prepares students for careers in Animal Science and\\nentry level production jobs such as feed mill technician, beef\\ntechnician, swine technician, poultry technician, animal groomer,\\nsmall animal assistant technician, and pet store employee.\\n\\nTo Achieve the Certificate of Achievement:\\nUpon completion of the following courses with at least a ‘C’ grade in each course, the student will be awarded an Animal Science Certificate of Achievement.', '1. Upon completion of the certificate, the students will be able to: Identify and implement sustainable livestock management practices that will improve livestock quality, provide efficacious management, protect the natural resources and ensure economic viability of the livestock industry; Assessment:Track student success rates using IRP data for the courses listed in the matrix for this SLO. Develop a scoring rubric using student grades in those courses multiplied by their relative \"leadership value\" to obtain a weighted average each year.\\n2. Demonstrate specific skills in animal science such as production, genetics and nutrtion within the animal science discipline needed for employment Assessment:Track A.A., A.S., Certificate, and transfer rates for each discipline from Datamart, IRP, and Perkens IV databases\\n3. Upon completion of the certificate, the students will be able to: demonstrate a working knowledge of animal production life cycles to develop a ranch management calendar that incorporates scientifically based management decisions and the latest technological advances in livestock husbandry; Assessment:Track CTE Core Indicator 4 TOP code data for employment of our students by discipline\\n4. Upon completion of the certificate, the students will be able to: identify and evaluate livestock anatomy and physiology and relate form to function; Assessment:Practical labs and exams\\n')}, 3: {'name': 'Culinary Arts Associate of Science', 'link': 'https://bakersfield.elumenapp.com/catalog/2021-2022/program/culinary-arts-associate-of-science-fall-2019', 'courses': {'FDSVB50 - Introduction to the Foodservice Industry': ['https://bakersfield.elumenapp.com/catalog/2021-2022/course/fdsvb50', '2.0'], 'FDSVB51 - Food and Nutrition Orientation': ['https://bakersfield.elumenapp.com/catalog/2021-2022/course/fdsvb51', '0.5'], 'FDSVB52 - Foodservice Sanitation and Safety': ['https://bakersfield.elumenapp.com/catalog/2021-2022/course/fdsvb52', '2.0'], 'FDSVB55A - Food Service Production Theory I': ['https://bakersfield.elumenapp.com/catalog/2021-2022/course/fdsvb55a', '2.5'], 'FDSVB55B - Food Service Production Theory II': ['https://bakersfield.elumenapp.com/catalog/2021-2022/course/fdsvb55b', '2.5'], 'FDSVB55C - Food Service Production Laboratory I': ['https://bakersfield.elumenapp.com/catalog/2021-2022/course/fdsvb55c', '2.0'], 'FDSVB55D - Food Service Production Laboratory II': ['https://bakersfield.elumenapp.com/catalog/2021-2022/course/fdsvb55d', '2.0'], 'FDSVB55F - Fundamentals of Baking': ['https://bakersfield.elumenapp.com/catalog/2021-2022/course/fdsvb55f', '2.0'], 'FDSVB59 - Food Service Production Management': ['https://bakersfield.elumenapp.com/catalog/2021-2022/course/fdsvb59', '3.0'], 'NUTRB10 - Elementary Nutrition': ['https://bakersfield.elumenapp.com/catalog/2021-2022/course/nutrb10', '3.0'], 'FDSVB55E - Advanced Food Service Practicum': ['https://bakersfield.elumenapp.com/catalog/2021-2022/course/fdsvb55e', '3.0'], 'FDSVB48WE - Occupationl Work Experience Ed': ['https://bakersfield.elumenapp.com/catalog/2021-2022/course/fdsvb48we', '3.0']}, 'description': ('Bakersfield College Food &amp; Nutrition Program is a comprehensive lecture, lab and field training program to produce competent, entry level food service workers for career positions in Kern County and throughout the United States. The goal of the curriculum is to provide a learning model that fosters the development of critical thinking, problem solving skills and skills attainment to ensure that the student is equipped to be productive in a commercial food service setting. Students who participate in these courses gain an understanding of nutrition, production, techniques and management procedures.  The program emphasizes a hands-on curriculum, which is utilized in the Food, and Nutrition Program’s student operated restaurant, The Renegade Room.  Basic techniques are a prerequisite to a successful career in the Food Service Industry. \\n\\nTo Achieve the Associate of Science Degree\\nUpon completion of the graduation requirements and the required degree courses with at least a ‘C” grade or better in each course, the student will be awarded an Associate of Science in Culinary Arts degree. Students must obtain a Serv Safe Certificate as a program requirement.  Culinary Students are typically employed in restaurants, hotels, school food service, catering, bakeries or food trucks. \\nThe program requires a Tuberculosis screening and the purchase of a program uniform.', '1. Upon successful completion of the program, the student will be able to demonstrate dining room service functions using a variety of types of service and demonstrate an understanding of quality customer service.\\n2. Upon successful completion of the program, the student will be able to demonstrate a variety of cooking and baking methods, nutrient retention,  and food preparation techniques in the production kitchen with an emphasis on the use of standardized recipes, industry production standards and proper work flow skills.\\n3. Upon successful completion of the program, the student will be able to practice proper principles of food safety and sanitation in their application to food service operations.\\n4. Upon successful completion of the program, the student will be able to develop an understanding of a supervisors role and responsibilities in managing a food service operation.\\n')}, 4: {'name': 'Culinary Arts Certificate of Achievement', 'link': 'https://bakersfield.elumenapp.com/catalog/2021-2022/program/culinary-arts-certificate-of-achievement-spring-2020', 'courses': {'FDSVB50 - Introduction to the Foodservice Industry': ['https://bakersfield.elumenapp.com/catalog/2021-2022/course/fdsvb50', '2.0'], 'FDSVB51 - Food and Nutrition Orientation': ['https://bakersfield.elumenapp.com/catalog/2021-2022/course/fdsvb51', '0.5'], 'FDSVB52 - Foodservice Sanitation and Safety': ['https://bakersfield.elumenapp.com/catalog/2021-2022/course/fdsvb52', '2.0'], 'FDSVB55A - Food Service Production Theory I': ['https://bakersfield.elumenapp.com/catalog/2021-2022/course/fdsvb55a', '2.5'], 'FDSVB55B - Food Service Production Theory II': ['https://bakersfield.elumenapp.com/catalog/2021-2022/course/fdsvb55b', '2.5'], 'FDSVB55C - Food Service Production Laboratory I': ['https://bakersfield.elumenapp.com/catalog/2021-2022/course/fdsvb55c', '2.0'], 'FDSVB55D - Food Service Production Laboratory II': ['https://bakersfield.elumenapp.com/catalog/2021-2022/course/fdsvb55d', '2.0'], 'FDSVB55F - Fundamentals of Baking': ['https://bakersfield.elumenapp.com/catalog/2021-2022/course/fdsvb55f', '2.0'], 'FDSVB59 - Food Service Production Management': ['https://bakersfield.elumenapp.com/catalog/2021-2022/course/fdsvb59', '3.0'], 'NUTRB10 - Elementary Nutrition': ['https://bakersfield.elumenapp.com/catalog/2021-2022/course/nutrb10', '3.0'], 'FDSVB48WE - Occupationl Work Experience Ed': ['https://bakersfield.elumenapp.com/catalog/2021-2022/course/fdsvb48we', '3.0'], 'FDSVB55E - Advanced Food Service Practicum': ['https://bakersfield.elumenapp.com/catalog/2021-2022/course/fdsvb55e', '3.0']}, 'description': ('Bakersfield College Food &amp; Nutrition Program is a comprehensive lecture, lab and field training program to produce competent, entry level food service workers for career positions in Kern County and throughout the United States. The goal of the curriculum is to provide a learning model that fosters the development of critical thinking, problem solving skills and skills attainment to ensure that the student is equipped to be productive in a commercial food service setting. Students who participate in these courses gain an understanding of nutrition, production, techniques and management procedures.  The program emphasizes a hands-on curriculum, which is utilized in the Food, and Nutrition Program’s student operated restaurant, The Renegade Room.  Basic techniques are a prerequisite to a successful career in the Food Service Industry. \\n\\nTo Achieve the Certificate of Achievement\\n Upon completion of the program, students will earn a Culinary Arts Certificate of Achievement. Students must obtain a Serv Safe Certificate as a program requirement.  Culinary Students are typically employed in restaurants, hotels, school food service, catering, bakeries or food trucks. \\nThe program requires a Tuberculosis screening and the purchase of a program uniform.', '1. Perform dining room service function using a variety of types of service and demonstrate an understanding of quality customer\\nservice.\\n1. Upon successful completion of the program, the student will be able to demonstrate dining room service functions using a variety of types of service and demonstrate an understanding of quality customer service.\\n2. Practice proper basic principles of food safety (sanitation) and their application to food service operations and procedures.\\n2. Upon successful completion of the program, the student will be able to demonstrate a variety of cooking and baking methods, nutrient retention, and food preparation techniques in the production kitchen with an emphasis on the use of standardized recipes, industry production standards and proper work flow skills.\\n3. Practice the principles and methods of food preparation emphasizing use of standardized recipes, industry production standards, and development of work skills\\n3. Upon successful completion of the program, the student will be able to practice proper principles of food safety and sanitation in their application to food service operations.\\n4. Upon successful completion of the program, the student will be able to develop an understanding of a supervisor’s role and responsibilities in managing a food service operation.\\n4. Maximize nutrient retention in food preparation and storage and application of nutritional principles and to apply fundamentals to the preparation of a variety of products.\\n5. Have an understanding of a supervisor’s role and\\nresponsibilities in managing a food service operation.\\n')}, 5: {'name': 'Dietetic Services Supervisor Certificate of Achievement', 'link': 'https://bakersfield.elumenapp.com/catalog/2021-2022/program/dietetic-services-supervisor-program-certificate-of-achievement-fall-2018', 'courses': {'FDSVB50 - Introduction to the Foodservice Industry': ['https://bakersfield.elumenapp.com/catalog/2021-2022/course/fdsvb50', '2.0'], 'FDSVB52 - Foodservice Sanitation and Safety': ['https://bakersfield.elumenapp.com/catalog/2021-2022/course/fdsvb52', '2.0'], 'FDSVB55A - Food Service Production Theory I': ['https://bakersfield.elumenapp.com/catalog/2021-2022/course/fdsvb55a', '2.5'], 'FDSVB55C - Food Service Production Laboratory I': ['https://bakersfield.elumenapp.com/catalog/2021-2022/course/fdsvb55c', '2.0'], 'FDSVB59 - Food Service Production Management': ['https://bakersfield.elumenapp.com/catalog/2021-2022/course/fdsvb59', '3.0'], 'NUTRB10 - Elementary Nutrition': ['https://bakersfield.elumenapp.com/catalog/2021-2022/course/nutrb10', '3.0'], 'NUTRB50 - Modified Diets': ['https://bakersfield.elumenapp.com/catalog/2021-2022/course/nutrb50', '2.0']}, 'description': ('Program provides training for students planning employment\\nin the food service department of a health care operation.\\nCourses in this program meet State of California\\nDepartment of Health Services certification requirements.\\nConsult with a member of the Foods and Nutrition Program\\nstaff before scheduling courses in the program. At this time\\nappropriate clinical field experience will be planned. A sanitation\\ncertificate succh as ServSafe or equivalent is required for this\\ncertificate.\\n\\nTo Achieve the Certificate of Achievement:\\nUpon completion of the following courses with at least a ‘C’ grade in each course, the student will be awarded a Dietetic Services Supervisor Program Certificate of Achievement.', '1. Locate the state and federal laws and regulations applicable to food service operations in health care (California Code of Regulations, Title 22 Federal Code of Regulations, Business and Professions Code of Registered Dietitians and Dietetic Technicians Registered, FDA Food Code, etc.).\\n2. Utilizing the above references laws, and in conjunction with the registered dietitian, determine compliance with regulations and acceptable standards of care.\\n3. Identify the role and limitations of the Dietary Service Supervisor under Title 22.\\n4. Review, with a registered dietitian, a facility’s policies and procedures to ensure that they are in compliance with regulations and standards of practice.\\n5. Locate diet manuals and show ability to use them by making menu substitutions to meet the nutritional needs of residents/patients in accordance with standard of care.\\n6. Help registered dietitian ensure that menus and standardized recipes are followed by food service staff. Help develop standardized menus.\\n7. Ensure that food is prepared and served by methods that conserve nutritive value, flavor, and appearance. Ensure that food is prepared to meet individual texture and nutrient needs and that substitutions are of similar nutritive value.\\n8. Ensure that residents/patients receive and consume foods as prescribed by the physician. Document diet prescriptions, food preferences, and the possible need for texture modification and/or assistance during meal times by maintaining and updating card profiles.\\n9. Protect food in all phases of preparation. Ensure that food is inspected for quality upon receiving, then stored, prepared, and served under sanitary conditions to prevent food borne illness. Sanitation oversight includes all food service department areas and \\ncomponents such as storage rooms, refrigerators/freezers, food preparation, and service equipment and surfaces, tray lines, and carts.\\n10. Assist with day to day operations such as: \\x82 Food forecasting, ordering, storage, preparation, and service. \\x82 Employee staffing schedules. \\x82 Employee health and safety programs. \\x82 Labor relations. \\x82 Employee orientation and ongoing planned staff development.\\n')}, 6: {'name': 'Environmental Horticulture Associate of Science', 'link': 'https://bakersfield.elumenapp.com/catalog/2021-2022/program/environmental-horticulture-associate-of-science-spring-2019', 'courses': {'CRPSB3 - Integrated Pest Management': ['https://bakersfield.elumenapp.com/catalog/2021-2022/course/crpsb3', '3.0'], 'CRPSB5 - Plant Science': ['https://bakersfield.elumenapp.com/catalog/2021-2022/course/crpsb5', '3.0'], 'ORNHB1 - Introduction to Ornamental Horticulture': ['https://bakersfield.elumenapp.com/catalog/2021-2022/course/ornhb1', '3.0'], 'ORNHB3 - Landscape Installation and Maintenance': ['https://bakersfield.elumenapp.com/catalog/2021-2022/course/ornhb3', '3.0'], 'ORNHB4 - Plant Propagation': ['https://bakersfield.elumenapp.com/catalog/2021-2022/course/ornhb4', '3.0'], 'ORNHB6 - Ornamental Plant Identification - Ground Covers, Vines, and Dwarf Shrubs': ['https://bakersfield.elumenapp.com/catalog/2021-2022/course/ornhb6', '3.0'], 'ORNHB7 - Ornamental Plant Identification - Large Shrubs, Small Trees, Large Trees, and Palms': ['https://bakersfield.elumenapp.com/catalog/2021-2022/course/ornhb7', '3.0'], 'ORNHB8 - Introduction to Landscape Design': ['https://bakersfield.elumenapp.com/catalog/2021-2022/course/ornhb8', '3.0'], 'ORNHB12 - Landscape Maintenance': ['https://bakersfield.elumenapp.com/catalog/2021-2022/course/ornhb12', '3.0'], 'ORNHB36 - Beginning Floral Design': ['https://bakersfield.elumenapp.com/catalog/2021-2022/course/ornhb36', '3.0'], 'SOILB1 - Introduction to Soil Science': ['https://bakersfield.elumenapp.com/catalog/2021-2022/course/soilb1', '3.0']}, 'description': ('The Environmental Horticulture Associate in Science degree\\nis designed for the student desiring to enter the workforce\\nafter earning a two-year degree. Environmental Horticulture\\nfocuses on the science and art concerned with landscape design\\nand installation, floral arts, urban forestry, the urban environment,\\nculture, marketing, and utilization of high value, intensively\\ncultivated flowers, fruits, vegetables, ornamental plants and trees.\\n\\nBachelors of Science Degree Names:\\nEnvironmental Horticultural Science, Horticultural Science,\\nOrnamental Horticulture, Landscaping and Groundskeeping,\\nTurf and Turfgrass Management, Viticulture and Enology, Plant\\nNursery Operations and Management, Greenhouse Operations and Management, Agricultural and Horticultural Plant Breeding\\n\\nCareer Opportunities\\nArborist, Floral Designer or Florist, Greenhouse Grower, Irrigation\\nSpecialist, Landscape Architect, Landscape Contractor, Pest Control\\nAdvisor, Plant Breeder, Sports Turf Superintendent, Urban Forester\\nand more.\\n\\nTo Achieve the Associate of Science Degree\\nUpon completion of graduation requirements and the required\\ndegree courses with at least a ‘C’ grade in each course, the student will be awarded an Environmental Horticulture Associate of Science Degree', '1. Demonstrate managerial and leadership abilities in\\nenvironmental horticulture classes for employment that will\\nenhance opportunities and success in the horticulture industry\\nin the 21st century\\n2 Master academic proficiency and demonstrate specific skills\\nwithin environmental horticulture disciplines needed for\\nemployment.\\n3. Master skills needed for baccalaureate level education or\\nobtain a certificate.\\n')}, 7: {'name': 'Environmental Horticulture Certificate of Achievement', 'link': 'https://bakersfield.elumenapp.com/catalog/2021-2022/program/environmental-horticulture-certificate-of-achievement-summer-2019', 'courses': {'AGRIB49 - Agriculture Leadership Training': ['https://bakersfield.elumenapp.com/catalog/2021-2022/course/agrib49', '2.0'], 'CRPSB3 - Integrated Pest Management': ['https://bakersfield.elumenapp.com/catalog/2021-2022/course/crpsb3', '3.0'], 'ORNHB1 - Introduction to Ornamental Horticulture': ['https://bakersfield.elumenapp.com/catalog/2021-2022/course/ornhb1', '3.0'], 'ORNHB2 - Fundamentals of Nursery Management and Plant Production': ['https://bakersfield.elumenapp.com/catalog/2021-2022/course/ornhb2', '3.0'], 'ORNHB3 - Landscape Installation and Maintenance': ['https://bakersfield.elumenapp.com/catalog/2021-2022/course/ornhb3', '3.0'], 'ORNHB4 - Plant Propagation': ['https://bakersfield.elumenapp.com/catalog/2021-2022/course/ornhb4', '3.0'], 'ORNHB6 - Ornamental Plant Identification - Ground Covers, Vines, and Dwarf Shrubs': ['https://bakersfield.elumenapp.com/catalog/2021-2022/course/ornhb6', '3.0'], 'ORNHB7 - Ornamental Plant Identification - Large Shrubs, Small Trees, Large Trees, and Palms': ['https://bakersfield.elumenapp.com/catalog/2021-2022/course/ornhb7', '3.0'], 'ORNHB8 - Introduction to Landscape Design': ['https://bakersfield.elumenapp.com/catalog/2021-2022/course/ornhb8', '3.0'], 'ORNHB48WE - Occupational Work Experience Education/Internship': ['https://bakersfield.elumenapp.com/catalog/2021-2022/course/ornhb48we', '3.0']}, 'description': ('The Environmental Horticulture Certificate of Achievement\\nis designed for the student desiring specialized training\\nin order to enter the workforce in the least amount of\\ntime. Environmental Horticulture focuses on the science and art\\nconcerned with landscape design and installation, floral arts,\\nurban forestry, the urban environment, culture, marketing, and\\nutilization of high value, intensively cultivated flowers, fruits,\\nvegetables, ornamental plants and trees.\\n\\nCareer Opportunities\\nArborist, Floral Designer or Florist, Greenhouse Grower, Irrigation\\nSpecialist, Landscape Architect, Landscape Contractor, Pest Control Advisor, Plant Breeder, Sports Turf Superintendent, Urban Forester and more.\\n\\nTo Achieve the Certificate of Achievement\\nUpon completion of the following courses with at least a ‘C’ grade in each course, the student will be awarded an Environmental Horticulture Certificate of Achievement.', '1. Demonstrate managerial and leadership abilities in environmental horticulture classes for employment that will enhance opportunities and success in the horticulture industry in the 21st century.\\n2. Master academic proficiency and demonstrate specific skills within environmental horticulture disciplines needed for employment.\\n3. Be able to identify regional trees and plants and their use in the landscape.\\n')}, 8: {'name': 'Food Science Technology Certificate of Achievement', 'link': 'https://bakersfield.elumenapp.com/catalog/2021-2022/program/food-science-and-technology-certificate-of-achievement-summer-2021', 'courses': {'FDSTB1 - Introduction to Food Science and Technology': ['https://bakersfield.elumenapp.com/catalog/2021-2022/course/fdstb1', '3.0'], 'FDSTB2 - Food Customs and Culture': ['https://bakersfield.elumenapp.com/catalog/2021-2022/course/fdstb2', '3.0'], 'FDSTB3 - Principles of Food Science': ['https://bakersfield.elumenapp.com/catalog/2021-2022/course/fdstb3', '3.0'], 'FDSTB4 - Food Safety': ['https://bakersfield.elumenapp.com/catalog/2021-2022/course/fdstb4', '3.0'], 'FDSTB5 - Food Processing Technology': ['https://bakersfield.elumenapp.com/catalog/2021-2022/course/fdstb5', '3.0'], 'FDSTB10 - Food Systems Management': ['https://bakersfield.elumenapp.com/catalog/2021-2022/course/fdstb10', '3.0']}, 'description': ('The Food Science and Technology Certificate of Achievement focuses on the science, technologies, and systems used in the food industry. The skills gained will be applicable to a wide range of careers within the food industry including food product research and development, quality assurance, sensory analysis, nutritional content analysis, food storage, safety, food plant management, marketing and sales. Core career areas include: food chemistry, food engineering, food microbiology, sensory science, food nutrition and health, food processing and packaging, food safety and defense, public policy and regulation, and sustainability. \\n\\nTo achieve the Certificate of Achievement: Upon completion of the required courses with at least a ‘C” grade or better in each course, the student will be awarded a Food Science and Technology Certificate of Achievement.', '1. Upon successful completion of the program, the student will be able to identify, evaluate, and apply food science principles to food safety, production, product development, and food systems management.\\n2. Upon successful completion of the program, the student will be able to apply scientific skills and research in the areas of microbiology, food science, and safety of food products during and after processing.\\n3. Upon successful completion of the program, the student will be able to identify and analyze the general processing flow for various food products including harvesting, processing, packaging, and storage.\\n4. Upon successful completion of the program, the student will be able to understand and differentiate various types of food production methods and demonstrate an awareness of chemical and physical changes that occur to food products due to processing.\\n5. Upon successful completion of the program, the student will be able to identify, explain, and compare laws and regulations governing food safety principles.\\n')}, 9: {'name': 'Food Service Management Associate of Science', 'link': 'https://bakersfield.elumenapp.com/catalog/2021-2022/program/foodservice-management-associate-of-science-degree-fall-2019', 'courses': {'FDSVB55K - Advanced Baking': ['https://bakersfield.elumenapp.com/catalog/2021-2022/course/fdsvb55k', '3.0'], 'FDSVB55T - Catering and Special Events': ['https://bakersfield.elumenapp.com/catalog/2021-2022/course/fdsvb55t', '3.0'], 'FDSVB50 - Introduction to the Foodservice Industry': ['https://bakersfield.elumenapp.com/catalog/2021-2022/course/fdsvb50', '2.0'], 'FDSVB51 - Food and Nutrition Orientation': ['https://bakersfield.elumenapp.com/catalog/2021-2022/course/fdsvb51', '0.5'], 'FDSVB52 - Foodservice Sanitation and Safety': ['https://bakersfield.elumenapp.com/catalog/2021-2022/course/fdsvb52', '2.0'], 'FDSVB55A - Food Service Production Theory I': ['https://bakersfield.elumenapp.com/catalog/2021-2022/course/fdsvb55a', '2.5'], 'FDSVB55B - Food Service Production Theory II': ['https://bakersfield.elumenapp.com/catalog/2021-2022/course/fdsvb55b', '2.5'], 'FDSVB55C - Food Service Production Laboratory I': ['https://bakersfield.elumenapp.com/catalog/2021-2022/course/fdsvb55c', '2.0'], 'FDSVB55E - Advanced Food Service Practicum': ['https://bakersfield.elumenapp.com/catalog/2021-2022/course/fdsvb55e', '3.0'], 'FDSVB59 - Food Service Production Management': ['https://bakersfield.elumenapp.com/catalog/2021-2022/course/fdsvb59', '3.0'], 'NUTRB10 - Elementary Nutrition': ['https://bakersfield.elumenapp.com/catalog/2021-2022/course/nutrb10', '3.0'], 'FDSVB48WE - Occupationl Work Experience Ed': ['https://bakersfield.elumenapp.com/catalog/2021-2022/course/fdsvb48we', '3.0'], 'BSADB53A - Introduction to Accounting 1': ['https://bakersfield.elumenapp.com/catalog/2021-2022/course/bsadb53a', '3.0']}, 'description': ('Food Service Management emphasizes quality food production in commercial and institutional operations. Course work includes practical training in the campus restaurant, the Renegade Room. National Restaurant Association Serv Safe certificate is required for degree completion.\\n\\nTo achieve the Associate of Science Degree\\nUpon completion of the required courses with at least a \"C\" grade or better in each course, the student will be awarded an Associate of Science in Food Service Management Associate.', '1. Upon successful completion of the program, the student will be able to demonstrate a variety of the principles and methods of food preparation emphasizing use of standardized recipes, industry production standards, and development of work skills.\\n2. Upon successful completion of the program, the student will be able to demonstrate dining room service functions using a variety of types of service and demonstrate an understanding of quality customer service.\\n3. Upon successful completion of the program, the student will be able to develop an understanding of a supervisors role and responsibilities in managing a food service operation.\\n4. Upon successful completion of the program, the student will be able to practice proper principles of food safety and sanitation in their application to food service operations.\\n')}, 10: {'name': 'Forestry Associate of Science', 'link': 'https://bakersfield.elumenapp.com/catalog/2021-2022/program/forestry-associate-of-science-spring-2019', 'courses': {}, 'description': ('The program provides a broad general experience in the arts\\nand science to develop an individual with a well-rounded\\neducation, and a core of basic courses which furnish the\\nstudent with a perspective of the scientific and professional area of forestry, natural resources, fisheries and wildlife. The pre-forestry, resource conservation and wildlife management program at Bakersfield College should conform to the recommended program as prescribed by the school to which the student wishes to transfer. Students planning to go to work after completing a two-year degree should complete the Associate in Science degree. \\n\\nCareer opportunities:\\nForestry, fishing industries and wildlife management.\\n\\nTo Achieve the Associate of Science\\nUpon completion of graduation requirements and the required\\ndegree courses with at least a ‘C’ grade in each course, the student\\nwill be awarded a Forestry Associate of Sience Degree.', '1. Demonstrate managerial and leadership abilities in agriculture\\nclasses for employment that will enhance opportunities and\\nsuccess in the agriculture industry in the 21st century.\\n2. Master skills needed for baccalaureate level education or\\nobtain a certificate.\\n3. Demonstrate specific skills within agriculture disciplines\\nneeded for employment\\n')}, 11: {'name': 'Forestry Certificate of Achievement', 'link': 'https://bakersfield.elumenapp.com/catalog/2021-2022/program/forestry-certificate-of-achievement-summer-2019', 'courses': {'AGBSB2 - Agricultural Economics': ['https://bakersfield.elumenapp.com/catalog/2021-2022/course/agbsb2', '3.0'], 'SOILB1 - Introduction to Soil Science': ['https://bakersfield.elumenapp.com/catalog/2021-2022/course/soilb1', '3.0'], 'AGRIB1 - Agriculture, Environment and Society': ['https://bakersfield.elumenapp.com/catalog/2021-2022/course/agrib1', '3.0'], 'FOREB1 - Introduction to Forestry': ['https://bakersfield.elumenapp.com/catalog/2021-2022/course/foreb1', '3.0'], 'FOREB2 - Natural Resources': ['https://bakersfield.elumenapp.com/catalog/2021-2022/course/foreb2', '3.0'], 'FOREB6 - Forestry Skills': ['https://bakersfield.elumenapp.com/catalog/2021-2022/course/foreb6', '3.0'], 'WEXPB248 - Occupational Work Exp Educatio': ['https://bakersfield.elumenapp.com/catalog/2021-2022/course/wexpb248', '8.0'], 'AGRIB49 - Agriculture Leadership Training': ['https://bakersfield.elumenapp.com/catalog/2021-2022/course/agrib49', '2.0'], 'FOREB3 - Wildlife Management': ['https://bakersfield.elumenapp.com/catalog/2021-2022/course/foreb3', '3.0'], 'FOREB4 - Wildlife Law Enforcement': ['https://bakersfield.elumenapp.com/catalog/2021-2022/course/foreb4', '3.0'], 'FOREB5 - Identification of California Wildlife': ['https://bakersfield.elumenapp.com/catalog/2021-2022/course/foreb5', '3.0'], 'FOREB7 - Wildland Fire Management': ['https://bakersfield.elumenapp.com/catalog/2021-2022/course/foreb7', '3.0'], 'CRPSB3 - Integrated Pest Management': ['https://bakersfield.elumenapp.com/catalog/2021-2022/course/crpsb3', '3.0'], 'NRESB1 - Range Management': ['https://bakersfield.elumenapp.com/catalog/2021-2022/course/nresb1', '3.0'], 'NRESB2 - Parks and Outdoor Recreation': ['https://bakersfield.elumenapp.com/catalog/2021-2022/course/nresb2', '3.0'], 'BIOLB11 - Concepts of Biology': ['https://bakersfield.elumenapp.com/catalog/2021-2022/course/biolb11', '3.0'], 'COMPB5 - Introduction to Microsoft Office': ['https://bakersfield.elumenapp.com/catalog/2021-2022/course/compb5', '3.0']}, 'description': ('The Certificate of Achievement in Forestry is designed for\\nstudents desiring to enter the workforce after completing one\\nyear of college. Many technician level careers are available in\\nthe forestry/natural resources/wildlife fields. Career opportunities\\ninclude Forestry, natural resources, wildlife, parks and outdoor\\nrecreation, fisheries, rangeland and watershed technician positions.\\nTo Achieve the Certificate of Achievement\\nUpon completion of the following courses with at least a ‘C’ grade\\nin each course, the student will be awarded a Forestry Certificate of\\nAchievement.', '1. \"Demonstrate managerial and leadership abilities in ag classes for employment that will enhance opportunities and success in the agriculture industry in the 21st century \" Assessment:Track student success rates using IRP data for the courses listed in the matrix for this SLO. Develop a scoring rubric using student grades in those courses multiplied by their relative \"leadership value\" to obtain a weighted average each year.\\n2. Master skills needed for baccalaureate level education or obtain a certificate at B.C.\\n3. Demonstrate specific skills within agriculture disciplines needed for employment Assessment:Track CTE Core Indicator 4 TOP code data for employment of our students by discipline\\n')}, 12: {'name': 'Heavy Equipment Technician Certificate of Achievement', 'link': 'https://bakersfield.elumenapp.com/catalog/2021-2022/program/heavy-equipment-technician-certificate-of-achievement-summer-2018', 'courses': {'MCAGB10 - Farm Power Operation': ['https://bakersfield.elumenapp.com/catalog/2021-2022/course/mcagb10', '3.0'], 'MCAGB11 - Introduction to Diesel Engine Repair': ['https://bakersfield.elumenapp.com/catalog/2021-2022/course/mcagb11', '3.0'], 'MCAGB12 - Advanced Diesel Engine Repair': ['https://bakersfield.elumenapp.com/catalog/2021-2022/course/mcagb12', '3.0'], 'MCAGB13 - Hydraulics': ['https://bakersfield.elumenapp.com/catalog/2021-2022/course/mcagb13', '3.0'], 'MCAGB14 - Heavy Equipment Systems': ['https://bakersfield.elumenapp.com/catalog/2021-2022/course/mcagb14', '3.0'], 'MCAGB3 - Small Gas Engines': ['https://bakersfield.elumenapp.com/catalog/2021-2022/course/mcagb3', '3.0'], 'MCAGB4 - Agriculture Safety': ['https://bakersfield.elumenapp.com/catalog/2021-2022/course/mcagb4', '3.0'], 'MCAGB48WE - Occupational Work Experience Education': ['https://bakersfield.elumenapp.com/catalog/2021-2022/course/mcagb48we', '5.0'], 'WELDB53A - Shielded Metal Arc Welding': ['https://bakersfield.elumenapp.com/catalog/2021-2022/course/weldb53a', '2.0'], 'WELDB53B - Shielded Metal Arc Welding 2': ['https://bakersfield.elumenapp.com/catalog/2021-2022/course/weldb53b', '2.0']}, 'description': ('The Heavy Equipment Technician Certificate Signifies that the student has developed the knowledge and skills required for an entry level career in heavy equipment repair.  Training in this field prepares students for employment as an equipment repair technician in industries such as but not limited to: Agriculture, Industrial, Construction, Material Handling, and Mining. \\n\\nStudents earning this certificate will have be prepared to earn\\nadditional individual stackable job skills certificates.\\n\\nTo Achieve the Certificate of Achievement\\nUpon completion of the following courses with at least a ‘C’ grade in each course, the student will be awarded a Heavy Equipment Technician Certificate of Achievement.', '1.\\tDemonstrate their ability to be part of a safe working environment and conditions as well as the appropriate use of PPE’s\\n2.\\tDemonstrate a thorough understanding of diesel engine operation theory and the ability to identify all parts and components of a diesel engine\\n3.\\tDemonstrate proficiency in diagnosing failures in modern diesel engines, emissions systems, hydraulic systems and integrated equipment systems\\n4.\\tDemonstrate the ability to communicate repairs to the customer through written explanations.\\n')}, 13: {'name': 'Mechanized Agriculture Associate of Science', 'link': 'https://bakersfield.elumenapp.com/catalog/2021-2022/program/mechanized-agriculture-associate-of-science-spring-2020', 'courses': {'AGRIB1 - Agriculture, Environment and Society': ['https://bakersfield.elumenapp.com/catalog/2021-2022/course/agrib1', '3.0'], 'MCAGB3 - Small Gas Engines': ['https://bakersfield.elumenapp.com/catalog/2021-2022/course/mcagb3', '3.0'], 'MCAGB4 - Agriculture Safety': ['https://bakersfield.elumenapp.com/catalog/2021-2022/course/mcagb4', '3.0'], 'MCAGB10 - Farm Power Operation': ['https://bakersfield.elumenapp.com/catalog/2021-2022/course/mcagb10', '3.0'], 'MCAGB11 - Introduction to Diesel Engine Repair': ['https://bakersfield.elumenapp.com/catalog/2021-2022/course/mcagb11', '3.0'], 'WELDB53B - Shielded Metal Arc Welding 2': ['https://bakersfield.elumenapp.com/catalog/2021-2022/course/weldb53b', '2.0'], 'MCAGB48WE - Occupational Work Experience Education/Internship': ['https://bakersfield.elumenapp.com/catalog/2021-2022/course/mcagb48we', '1.0 - 6.0'], 'ELETB1A - Basic Electronics (DC)': ['https://bakersfield.elumenapp.com/catalog/2021-2022/course/eletb1a', '3.0'], 'ELETB3 - Programmable Logic Controllers': ['https://bakersfield.elumenapp.com/catalog/2021-2022/course/eletb3', '3.0'], 'MCAGB2 - Introduction to Mechanized Agriculture': ['https://bakersfield.elumenapp.com/catalog/2021-2022/course/mcagb2', '3.0'], 'MCAGB5 - Agriculture Irrigation Technology': ['https://bakersfield.elumenapp.com/catalog/2021-2022/course/mcagb5', '3.0'], 'MCAGB12 - Advanced Diesel Engine Repair': ['https://bakersfield.elumenapp.com/catalog/2021-2022/course/mcagb12', '3.0'], 'MCAGB13 - Hydraulics': ['https://bakersfield.elumenapp.com/catalog/2021-2022/course/mcagb13', '3.0'], 'MCAGB14 - Heavy Equipment Systems': ['https://bakersfield.elumenapp.com/catalog/2021-2022/course/mcagb14', '3.0'], 'WELDB1B - Introduction to the Welding Processes': ['https://bakersfield.elumenapp.com/catalog/2021-2022/course/weldb1b', '2.0']}, 'description': ('A degree in Mechanized Agriculture will prepare students for a career in facilities maintenance, heavy equipment repair, and service management in industries such as but not limited to: agriculture, industrial, construction, material handling, and mining. While completing the required courses students will have the opportunity to earn individual stack-able job skills certificates, and a certificate of achievement.\\n\\nTo Achieve the Associate of Science:\\nUpon completion of graduation requirements and the required degree courses with at least a ‘C’ grade in each course, the student will be awarded an Associate of Science degree.', \"1. Upon successful completion of the program, the student will be able to evaluate the proper selection and use of PPE's as well as be part of a safe working environment.\\n2. Upon successful completion of the program, the student will be able to demonstrate a thorough understanding of gas and diesel engine, and mechanical system operation theory as well as the ability to identify parts and components.\\n3. Upon successful completion of the program, the student will be able to examine and diagnose failures in electrical systems, emissions systems, hydraulic systems and integrated equipment systems as well as mechanical drives on agricultural equipment and facilities.\\n4. Upon successful completion of the program, the student will be able to communicate mechanical failures or repairs to the customer or employer through written explanations.\\n5. Upon successful completion of the program, the student will be able to design, construct, fabricate and maintain equipment and facilities as well as understand the various tools associated with these processes.\\n\")}, 14: {'name': 'Nutrition and Dietetics Associate of Science for Transfer', 'link': 'https://bakersfield.elumenapp.com/catalog/2021-2022/program/nutrition-and-dietetics-associate-in-science-for-transfer-fall-2020', 'courses': {'BIOLB16 - General Microbiology': ['https://bakersfield.elumenapp.com/catalog/2021-2022/course/biolb16', '5.0'], 'CHEMB1A - General Chemistry I': ['https://bakersfield.elumenapp.com/catalog/2021-2022/course/chemb1a', '5.0'], 'CHEMB1B - General Chemistry and Chemical Analysis': ['https://bakersfield.elumenapp.com/catalog/2021-2022/course/chemb1b', '5.0'], 'NUTRB10 - Introduction to Nutrition Science': ['https://bakersfield.elumenapp.com/catalog/2021-2022/course/nutrb10', '3.0'], 'PSYCB1A - General Psychology': ['https://bakersfield.elumenapp.com/catalog/2021-2022/course/psycb1a', '3.0'], 'NUTRB11 - Principles of Foods with Lab': ['https://bakersfield.elumenapp.com/catalog/2021-2022/course/nutrb11', '3.0'], 'BIOLB32 - Human Anatomy and Physiology I': ['https://bakersfield.elumenapp.com/catalog/2021-2022/course/biolb32', '4.0'], 'BIOLB33 - Human Anatomy and Physiology II': ['https://bakersfield.elumenapp.com/catalog/2021-2022/course/biolb33', '4.0']}, 'description': ('The Associate in Science in Nutrition and Dietetics for Transfer degree (AS-T in Nutrition and Dietetics) prepares students for success in a baccalaureate degree in Nutrition and Dietetics with the lower-division coursework required to transfer into the CSU system. Students learn about chemicals and nutrients in food and their effects on the human body and the world. The study of nutritional science contributes to preparing students for careers as nutritionists, registered dietitians (RD), food scientists, or other dietetics professionals. The study of Nutrition provides a broad foundation in a practical and personally applicable exposure to a variety of scientific areas of nutrition such as chemistry, biochemistry, microbiology, anatomy, physiology, and biology. Popular topics include microbial pathogens, environmental contaminants, nutrigenomics, macronutrient balance, energy metabolism, obesity, global issues, the biochemistry of exercise, and micronutrient and phytochemical utilization. Students in the program learn how the scientific method and process contributes to nutritional requirements and how nutrients function from a cellular to a more practical level and then apply this knowledge to their own health. The program also helps students understand the role of nutrition in disease prevention throughout the lifecycle and as an impact on society.\\nRequirements for AA-T or AS-T degrees: \\nThe completion of 60 semester units that are eligible for transfer to the California State University, including both of the following: \\n• The Intersegmental General Education Transfer Curriculum (IGETC) or the California State University – Breadth Requirements. \\n• A minimum of 18 semester units in a major area of emphasis, as determined by the district. \\n• The obtainment of a minimum grade point average of 2.0. \\n• The completion of all courses required for the major with a ‘C’ or better. A ‘P’ (Pass) grade is not acceptable for courses in the major.', 'Identify essential nutrients and describe their chemical structures, food sources, digestion, absorption, transport, metabolism, functions in the body, and requirements for optimal health.\\nApply dietary guidelines to develop meal plans and lifestyle patterns that meet individual needs, promote health, and reduce disease risk.\\nCritically evaluate scientific research and nutrition information and develop evidence-based responses to questions about diet and health.\\nCommunicate nutrition concepts clearly, accurately, and effectively.\\n')}, 15: {'name': 'Plant Science Associate of Science', 'link': 'https://bakersfield.elumenapp.com/catalog/2021-2022/program/plant-science-associate-of-science-summer-2020', 'courses': {'ORNHB2 - Fundamentals of Nursery Management and Plant Production': ['https://bakersfield.elumenapp.com/catalog/2021-2022/course/ornhb2', '3.0'], 'ORNHB6 - Ornamental Plant Identification - Ground Covers, Vines, and Dwarf Shrubs': ['https://bakersfield.elumenapp.com/catalog/2021-2022/course/ornhb6', '3.0'], 'ORNHB3 - Landscape Installation and Maintenance': ['https://bakersfield.elumenapp.com/catalog/2021-2022/course/ornhb3', '3.0'], 'ORNHB36 - Beginning Floral Design': ['https://bakersfield.elumenapp.com/catalog/2021-2022/course/ornhb36', '3.0'], 'CRPSB1 - Principles of Crop Production': ['https://bakersfield.elumenapp.com/catalog/2021-2022/course/crpsb1', '3.0'], 'CRPSB2 - Forage Crops': ['https://bakersfield.elumenapp.com/catalog/2021-2022/course/crpsb2', '3.0'], 'CRPSB4 - Vegetable Production': ['https://bakersfield.elumenapp.com/catalog/2021-2022/course/crpsb4', '3.0'], 'ORNHB7 - Ornamental Plant Identification - Large Shrubs, Small Trees, Large Trees, and Palms': ['https://bakersfield.elumenapp.com/catalog/2021-2022/course/ornhb7', '3.0'], 'ORNHB8 - Introduction to Landscape Design': ['https://bakersfield.elumenapp.com/catalog/2021-2022/course/ornhb8', '3.0'], 'SOILB1 - Introduction to Soil Science': ['https://bakersfield.elumenapp.com/catalog/2021-2022/course/soilb1', '3.0'], 'AGRIB1 - Agriculture, Environment and Society': ['https://bakersfield.elumenapp.com/catalog/2021-2022/course/agrib1', '3.0'], 'ORNHB4 - Plant Propagation': ['https://bakersfield.elumenapp.com/catalog/2021-2022/course/ornhb4', '3.0'], 'CRPSB3 - Integrated Pest Management': ['https://bakersfield.elumenapp.com/catalog/2021-2022/course/crpsb3', '3.0'], 'CRPSB5 - Plant Science': ['https://bakersfield.elumenapp.com/catalog/2021-2022/course/crpsb5', '3.0'], 'AGBSB2 - Agricultural Economics': ['https://bakersfield.elumenapp.com/catalog/2021-2022/course/agbsb2', '3.0']}, 'description': ('This program provides instruction in the planting, growing,\\nharvesting, and marketing of field, forage, and vegetable\\ncrops as well as irrigated and range pasture crops.\\nEnvironmental Horticulture focuses on the science and art\\nconcerned with landscape design and installation, floral arts,\\nurban forestry, the urban environment, culture, marketing, and\\nutilization of high value, intensively cultivated flowers, fruits,\\nvegetables, ornamental plants and trees. Career opportunities\\nin Crop Science include farm management, agricultural pest\\ncontrol, fertilizer sales and application, soil laboratory technician,\\nirrigation equipment supply and sales, and agricultural research\\ntechnician.\\n\\nTo Transfer Coursework:\\nA minimum of 28 semester units in the major with a grade of ‘C’ or\\nbetter while maintaining a minimum grade point average of at least\\n2.0 in all California State University transferable coursework.\\n\\nTo Achieve the Associate of Science:\\nUpon completion of graduation requirements and the required degree courses with at least a ‘C’ grade in each course, the student will be awarded a Plant Science Associate of Science degree.', '1. Upon completion of the program the student will be able to demonstrate managerial and leadership abilities for plant science majors that will enhance opportunities for employment and success in the agriculture industry in the 21st century. Assessment:Track student success rates for plant science majors using IRP data for the courses listed in the matrix for this SLO. Develop a scoring rubric using student grades in those courses multiplied by their relative \"leadership value\" to obtain a weighted average each year.\\n2. Upon completion of the program the student will be able to master skills needed for baccalaureate level education or obtain a certificate in plant science at B.C. Assessment:Track A.A., A.S., Certificate, and transfer rates for plant science from Datamart, IRP, and Perkens IV databases.\\n3. Upon completion of the program the student will be able to demonstrate specific skills within the plant science discipline needed for employment. Assessment:Track CTE Core Indicator 4 TOP code data for employment of our students in plant science.\\n')}, 16: {'name': 'Plant Science Certificate of Achievement', 'link': 'https://bakersfield.elumenapp.com/catalog/2021-2022/program/plant-science-certificate-of-achievement-summer-2019', 'courses': {'SOILB1 - Introduction to Soil Science': ['https://bakersfield.elumenapp.com/catalog/2021-2022/course/soilb1', '3.0'], 'AGRIB1 - Agriculture, Environment and Society': ['https://bakersfield.elumenapp.com/catalog/2021-2022/course/agrib1', '3.0'], 'ORNHB4 - Plant Propagation': ['https://bakersfield.elumenapp.com/catalog/2021-2022/course/ornhb4', '3.0'], 'CRPSB1 - Principles of Crop Production': ['https://bakersfield.elumenapp.com/catalog/2021-2022/course/crpsb1', '3.0'], 'CRPSB3 - Integrated Pest Management': ['https://bakersfield.elumenapp.com/catalog/2021-2022/course/crpsb3', '3.0'], 'CRPSB5 - Plant Science': ['https://bakersfield.elumenapp.com/catalog/2021-2022/course/crpsb5', '3.0'], 'CRPSB4 - Vegetable Production': ['https://bakersfield.elumenapp.com/catalog/2021-2022/course/crpsb4', '3.0'], 'NRESB1 - Range Management': ['https://bakersfield.elumenapp.com/catalog/2021-2022/course/nresb1', '3.0'], 'CRPSB2 - Forage Crops': ['https://bakersfield.elumenapp.com/catalog/2021-2022/course/crpsb2', '3.0']}, 'description': ('This program provides instruction in the planting, growing,\\nharvesting, and marketing of field, forage, and vegetable\\ncrops as well as irrigated and range pasture crops\\n\\nCareer Opportunities\\nFarmers, Ranchers, and Other Agricultural Managers, Natural\\nSciences Managers, Agricultural Technicians, Environmental Science and Protection Technicians, Pesticide Handlers, Sprayers, and Applicators, Vegetation, First-Line Supervisors of Farm Workers, Agricultural Inspectors, Forest and Conservation Workers\\n\\nTo Achieve the Certificate of Achievement\\nUpon completion of the following courses with at least a ‘C’ grade\\nin each course, the student will be awarded an Agriculture - Plan\\nScience Certificate of Achievement.', '1. Demonstrate managerial and leadership abilities in ag classes for employment that will enhance opportunities and success in the agriculture industry in the 21st century. Assessment:Track student success rates using IRP data for the courses listed in the matrix for this SLO. Develop a scoring rubric using student grades in those courses multiplied by their relative \"leadership value\" to obtain a weighted average each year.\\n2. Master academic proficiency and demonstrate specific skills within plant science disciplines needed for employment within\\nthe industry. Assessment:Track A.A., A.S., Certificate, and transfer rates for each discipline from Datamart, IRP, and Perkens IV databases\\n3. Demonstrate specific skills within agriculture disciplines needed for employment. Assessment:Track CTE Core Indicator 4 TOP code data for employment of our students by discipline.\\n')}}\n"
     ]
    }
   ],
   "source": [
    "print((dctionary))\n",
    "overall = open('OverallDetails.json', 'w')\n",
    "json.dump(dctionary, overall)"
   ]
  },
  {
   "cell_type": "code",
   "execution_count": 87,
   "id": "8610d2d5-004d-4fdd-a3a6-0957829cf6e0",
   "metadata": {
    "tags": []
   },
   "outputs": [
    {
     "name": "stdout",
     "output_type": "stream",
     "text": [
      "dict_keys(['name', 'link', 'courses', 'description'])\n",
      "1. The animal science student will be able to demonstrate artificial insemination procedures, proper record-keeping in the field of animal science and skills in day to day animal production such as proper care, feeding and reproduction. Assessment:Assessment: Track student success rates using IRP data for the courses listed in the matrix for this SLO. Develop a scoring rubric using student grades in those courses multiplied by their relative \"leadership value\" to obtain a weighted average each year. .\n",
      "2. Student will be able to practice proper basic principles of animal safety, evaluate performance such as growth and feed converstion. Assessment:Assessment:Track A.A., A.S., Certificate, and transfer rates for each discipline from Datamart, IRP, and Perkens IV databases.\n",
      "3. Demonstrate specific skills in animal science such as production, genetics and nutrtion within the animal science discipline needed for employment. Assessment:Assessment:Track CTE Core Indicator 4 TOP code data for employment of our students by discipline.\n",
      "4. The Animal Science student will be able to identify conformation qualities in cattle, sheep, swine and dairy cattle. Assessment:Academic evaluation: Exams and surveys in industry, Lab evaluation (grade &amp; results)\n",
      "\n"
     ]
    }
   ],
   "source": [
    "print(tempDct.keys())\n",
    "print(tempDct['description'][1])"
   ]
  },
  {
   "cell_type": "code",
   "execution_count": 60,
   "id": "017f0856",
   "metadata": {
    "tags": []
   },
   "outputs": [
    {
     "name": "stdout",
     "output_type": "stream",
     "text": [
      "Agriculture Animal Science Associate in Science for Transfer\n",
      "False\n",
      "True\n",
      "True\n",
      "True\n",
      "True\n",
      "True\n",
      "True\n",
      "True\n",
      "True\n",
      "True\n",
      "True\n",
      "True\n",
      "True\n",
      "True\n",
      "True\n",
      "True\n",
      "True\n",
      "True\n"
     ]
    }
   ],
   "source": [
    "# print(tempDct.keys())\n",
    "# print(tempDct['courses'])\n",
    "print(courseKeys[0])\n",
    "for key in courseKeys:\n",
    "    print(key in courses.keys())"
   ]
  },
  {
   "cell_type": "raw",
   "id": "cdd8ee64",
   "metadata": {},
   "source": [
    "with open('')"
   ]
  },
  {
   "cell_type": "code",
   "execution_count": 63,
   "id": "720cc3a5",
   "metadata": {},
   "outputs": [],
   "source": [
    "import json\n",
    "f = open('courses.json', 'w')\n",
    "json.dump(newDct, f) "
   ]
  },
  {
   "cell_type": "code",
   "execution_count": null,
   "id": "572d84aa",
   "metadata": {},
   "outputs": [],
   "source": [
    "# elements = []\n",
    "\n",
    "# for i in courseKeys:\n",
    "#     driver = webdriver.Chrome()\n",
    "#     # print(dct[i])\n",
    "#     driver.get(dct[i])\n",
    "#     time.sleep(4)\n",
    "#     tag = driver.find_elements(By.TAG_NAME, \"tbody\")\n",
    "#     print(len(tag))\n",
    "#     driver.close()\n",
    "#     for i in tag:\n",
    "#         elements.append(i)\n",
    "        \n",
    "#         # d = i.find_element(By.TAG_NAME, \"th\")\n",
    "#         print(d)\n",
    "#     print(len(elements))\n",
    "#     # print(len(tag))\n"
   ]
  },
  {
   "cell_type": "code",
   "execution_count": null,
   "id": "99567788",
   "metadata": {
    "tags": []
   },
   "outputs": [],
   "source": [
    "print(courseKeys)"
   ]
  },
  {
   "cell_type": "code",
   "execution_count": null,
   "id": "18c89ff2-24f4-448e-b958-5b325ad38b5c",
   "metadata": {
    "tags": []
   },
   "outputs": [],
   "source": [
    "print(courses)"
   ]
  },
  {
   "cell_type": "code",
   "execution_count": 28,
   "id": "b67c338e-a2de-4116-975d-0a46966a8319",
   "metadata": {
    "tags": []
   },
   "outputs": [
    {
     "name": "stdout",
     "output_type": "stream",
     "text": [
      "dict_keys(['name', 'link', 'courses', 'description'])\n"
     ]
    }
   ],
   "source": [
    "ss = dctionary[1]\n",
    "ss.keys()\n",
    "print(ss.keys())\n",
    "ans = []\n",
    "for x in (dctionary.keys()):\n",
    "    ss = dctionary[x]\n",
    "    for i in ss['courses']:\n",
    "        temp = []\n",
    "        temp.append('Agriculture, Nutrition, and Culinary Arts Pathway')\n",
    "        temp.append(ss['name'])\n",
    "        temp.append(ss['link'])\n",
    "        temp.append(ss['description'][0])\n",
    "        temp.append(ss['description'][1])\n",
    "        temp.append(ss['courses'][i][0])\n",
    "        temp.append(ss['courses'][i][1])  \n",
    "        temp.append(i.split(\"-\")[0])\n",
    "        if (len(i.split(\"-\")) > 0):\n",
    "            try:\n",
    "                temp.append(i.split(\"-\")[1])   \n",
    "            except:\n",
    "                pass\n",
    "        ans.append(temp)\n"
   ]
  },
  {
   "cell_type": "code",
   "execution_count": 120,
   "id": "5f94f984-d182-4b24-942a-2550486d4293",
   "metadata": {
    "tags": []
   },
   "outputs": [
    {
     "name": "stdout",
     "output_type": "stream",
     "text": [
      "['https://bakersfield.elumenapp.com/catalog/2021-2022/course/agbsb2', '3.0']\n"
     ]
    }
   ],
   "source": [
    "print(dctionary[1]['courses']['AGBSB2 - Agricultural Economics'])"
   ]
  },
  {
   "cell_type": "code",
   "execution_count": 29,
   "id": "4d078ef2-de68-416e-badb-4f9124909aea",
   "metadata": {
    "tags": []
   },
   "outputs": [
    {
     "data": {
      "text/plain": [
       "{'spreadsheetId': '1Vz3g-X9bIJsuZ1ZZEI6Js7nsWg1mmgDT1sg0O3lVehA',\n",
       " 'updatedRange': 'Sheet1!A1:I171',\n",
       " 'updatedRows': 171,\n",
       " 'updatedColumns': 9,\n",
       " 'updatedCells': 1539}"
      ]
     },
     "execution_count": 29,
     "metadata": {},
     "output_type": "execute_result"
    }
   ],
   "source": [
    "import gspread\n",
    "\n",
    "gc = gspread.service_account()\n",
    "\n",
    "sh = gc.open(\"Untitled spreadsheet\").sheet1\n",
    "\n",
    "sh.update('A1', ans)\n"
   ]
  },
  {
   "cell_type": "code",
   "execution_count": null,
   "id": "db2091d5-5354-4a5a-8d1b-d76d0dac4481",
   "metadata": {},
   "outputs": [],
   "source": []
  }
 ],
 "metadata": {
  "kernelspec": {
   "display_name": "Python 3 (ipykernel)",
   "language": "python",
   "name": "python3"
  },
  "language_info": {
   "codemirror_mode": {
    "name": "ipython",
    "version": 3
   },
   "file_extension": ".py",
   "mimetype": "text/x-python",
   "name": "python",
   "nbconvert_exporter": "python",
   "pygments_lexer": "ipython3",
   "version": "3.11.2"
  }
 },
 "nbformat": 4,
 "nbformat_minor": 5
}
